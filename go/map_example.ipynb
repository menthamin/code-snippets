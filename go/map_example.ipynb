{
 "cells": [
  {
   "cell_type": "markdown",
   "id": "590e35a6-b90d-4e4c-b9a2-23b13f50d55f",
   "metadata": {},
   "source": [
    "# Import Packages"
   ]
  },
  {
   "cell_type": "code",
   "execution_count": 2,
   "id": "0c671e93-07e6-47bd-b047-0a03d6670f02",
   "metadata": {},
   "outputs": [],
   "source": [
    "import (\n",
    "    \"fmt\"\n",
    "    \"encoding/json\"\n",
    "    \"reflect\"\n",
    ")"
   ]
  },
  {
   "cell_type": "code",
   "execution_count": null,
   "id": "0f900cde-0f0c-465a-88f8-171eb45c298e",
   "metadata": {},
   "outputs": [],
   "source": []
  },
  {
   "cell_type": "markdown",
   "id": "e5db63e9-3a6a-4e24-84f3-93c161ada54d",
   "metadata": {},
   "source": [
    "# 1. Map 선언 및 초기화"
   ]
  },
  {
   "cell_type": "code",
   "execution_count": 3,
   "id": "2362054d-0f10-4478-a664-7cf6ebaf8a5a",
   "metadata": {},
   "outputs": [],
   "source": [
    "var mapExample map[string]string"
   ]
  },
  {
   "cell_type": "code",
   "execution_count": 4,
   "id": "c719f31e-065e-4ab1-84c8-1c9669fa7d59",
   "metadata": {},
   "outputs": [
    {
     "data": {
      "text/plain": [
       "map[string]string"
      ]
     },
     "execution_count": 4,
     "metadata": {},
     "output_type": "execute_result"
    }
   ],
   "source": [
    "mapExample\n",
    "reflect.TypeOf(mapExample)"
   ]
  },
  {
   "cell_type": "markdown",
   "id": "4f9f348b-8bff-47af-91d7-bd953b0e28de",
   "metadata": {},
   "source": [
    "- 선언한 변수 mapExample은 nil 값을 가지기 때문에 바로 사용할 수 없다고 합니다.\n",
    "- Nil Map에는 어떤 데이터도 추가할 수 없다. (http://golang.site/go/article/14-Go-%EC%BB%AC%EB%A0%89%EC%85%98---Map)"
   ]
  },
  {
   "cell_type": "code",
   "execution_count": 5,
   "id": "73fce037-0f91-4baa-91e5-184f3c85f785",
   "metadata": {},
   "outputs": [
    {
     "ename": "ERROR",
     "evalue": "assignment to entry in nil map",
     "output_type": "error",
     "traceback": [
      "assignment to entry in nil map"
     ]
    }
   ],
   "source": [
    "mapExample[\"event\"] = \"new_order\"  // Error: assignment to entry in nil map"
   ]
  },
  {
   "cell_type": "markdown",
   "id": "a815b271-ddc9-486e-acc7-b712f109d956",
   "metadata": {},
   "source": [
    "- make() 함수로 초기화 후 데이터 추가하기 "
   ]
  },
  {
   "cell_type": "code",
   "execution_count": 6,
   "id": "89a80f50-0aa2-44ba-9407-bed673c291c3",
   "metadata": {},
   "outputs": [],
   "source": [
    "mapExample = make(map[string]string)  // 초기화\n",
    "mapExample[\"event\"] = \"new_order\"\n",
    "mapExample[\"receiver\"] = \"main_server\""
   ]
  },
  {
   "cell_type": "code",
   "execution_count": 7,
   "id": "57e94d9c-9185-4ad4-b869-00cd35d802f2",
   "metadata": {},
   "outputs": [
    {
     "data": {
      "text/plain": [
       "map[string]string"
      ]
     },
     "execution_count": 7,
     "metadata": {},
     "output_type": "execute_result"
    }
   ],
   "source": [
    "reflect.TypeOf(mapExample)  // Type 확인"
   ]
  },
  {
   "cell_type": "code",
   "execution_count": 11,
   "id": "378cafda-28c4-4d6e-8b78-45eb8b5ddd64",
   "metadata": {},
   "outputs": [
    {
     "data": {
      "text/plain": [
       "Map: map[event:new_order receiver:main_server]"
      ]
     },
     "execution_count": 11,
     "metadata": {},
     "output_type": "execute_result"
    }
   ],
   "source": [
    "fmt.Sprintf(\"Map: %v\", mapExample)  // %#v 값을 출력"
   ]
  },
  {
   "cell_type": "code",
   "execution_count": 9,
   "id": "01be1254-36e5-4bc0-879a-4406aacdf958",
   "metadata": {},
   "outputs": [
    {
     "data": {
      "text/plain": [
       "Map: map[string]string{\"event\":\"new_order\", \"receiver\":\"main_server\"}"
      ]
     },
     "execution_count": 9,
     "metadata": {},
     "output_type": "execute_result"
    }
   ],
   "source": [
    "fmt.Sprintf(\"Map: %#v\", mapExample)  // %v 타입과 값을 함께 출력"
   ]
  },
  {
   "cell_type": "markdown",
   "id": "60b5c30e-0c1e-4653-91a1-6e77dafcc99e",
   "metadata": {},
   "source": [
    "# 2. Map을 Json 형태의 String으로 변환하기\n",
    "- 방법: json.Marshal()로 마샬링 후 String으로 변환\n",
    "    - 마샬링: 데이터를 프로그램이 인식할 수 있는 형태로 변형하는 것\n",
    "    - String, Int 등오로 표현된 데이터를 Bytes 형태로 변형하는 것을 예로 들 수 있다.\n",
    "    - 출처: https://codecollector.tistory.com/1513"
   ]
  },
  {
   "cell_type": "code",
   "execution_count": 9,
   "id": "3d5fde21-7f62-4fa4-84b3-3650cb75c517",
   "metadata": {},
   "outputs": [],
   "source": [
    "marshalMap, err := json.Marshal(mapExample)\n",
    "// 마샬링: 데이터를 프로그램이 인식할 수 있는 형태로 변형하는 것\n",
    "// String, Int 등오로 표현된 데이터를 Bytes 형태로 변형하는 것을 예로 들 수 있다.\n",
    "// 출처: https://codecollector.tistory.com/1513"
   ]
  },
  {
   "cell_type": "code",
   "execution_count": 10,
   "id": "896309b9-f9cf-4314-b0aa-b0650f4778e2",
   "metadata": {},
   "outputs": [
    {
     "name": "stdout",
     "output_type": "stream",
     "text": [
      "[123 34 101 118 101 110 116 34 58 34 110 101 119 95 111 114 100 101 114 34 44 34 114 101 99 101 105 118 101 114 34 58 34 109 97 105 110 95 115 101 114 118 101 114 34 125]\n"
     ]
    },
    {
     "data": {
      "text/plain": [
       "171 <nil>"
      ]
     },
     "execution_count": 10,
     "metadata": {},
     "output_type": "execute_result"
    }
   ],
   "source": [
    "fmt.Println(marshalMap)"
   ]
  },
  {
   "cell_type": "code",
   "execution_count": 11,
   "id": "c7df00d3-5355-4998-ae31-5ff2d3e4a07f",
   "metadata": {},
   "outputs": [
    {
     "data": {
      "text/plain": [
       "[]uint8"
      ]
     },
     "execution_count": 11,
     "metadata": {},
     "output_type": "execute_result"
    }
   ],
   "source": [
    "reflect.TypeOf(marshalMap)  //  []unit8: unsigned integer 8 array, 부호가 없는 8비트(0~255) array"
   ]
  },
  {
   "cell_type": "code",
   "execution_count": 12,
   "id": "e9979f6a-c51e-4041-88cc-41da647441bc",
   "metadata": {},
   "outputs": [
    {
     "name": "stdout",
     "output_type": "stream",
     "text": [
      "{\"event\":\"new_order\",\"receiver\":\"main_server\"}\n"
     ]
    },
    {
     "data": {
      "text/plain": [
       "47 <nil>"
      ]
     },
     "execution_count": 12,
     "metadata": {},
     "output_type": "execute_result"
    }
   ],
   "source": [
    "jsonString := string(marshalMap)\n",
    "fmt.Println(string(jsonString))"
   ]
  },
  {
   "cell_type": "code",
   "execution_count": 13,
   "id": "adcbbc29-4150-4056-b4ec-77ea4cc99281",
   "metadata": {},
   "outputs": [
    {
     "data": {
      "text/plain": [
       "string"
      ]
     },
     "execution_count": 13,
     "metadata": {},
     "output_type": "execute_result"
    }
   ],
   "source": [
    "reflect.TypeOf(jsonString)"
   ]
  },
  {
   "cell_type": "code",
   "execution_count": null,
   "id": "d671fbe9-099f-445f-8bf1-cc23a15b4c98",
   "metadata": {},
   "outputs": [],
   "source": []
  },
  {
   "cell_type": "code",
   "execution_count": null,
   "id": "1ca5c0d4-af46-4d05-8f4a-b9ace0c14f42",
   "metadata": {},
   "outputs": [],
   "source": []
  },
  {
   "cell_type": "code",
   "execution_count": null,
   "id": "f1a2c418-2320-4dec-83fe-a046416bda00",
   "metadata": {},
   "outputs": [],
   "source": []
  },
  {
   "cell_type": "code",
   "execution_count": null,
   "id": "bb55a2a5-9027-4db2-a454-7d009fbcccc0",
   "metadata": {},
   "outputs": [],
   "source": []
  },
  {
   "cell_type": "code",
   "execution_count": 14,
   "id": "894844e0-a7de-41b9-97e3-08cafac8f93d",
   "metadata": {},
   "outputs": [
    {
     "ename": "ERROR",
     "evalue": "repl.go:2:1: undefined identifier: m",
     "output_type": "error",
     "traceback": [
      "repl.go:2:1: undefined identifier: m"
     ]
    }
   ],
   "source": [
    "mapExample = make(map[string]string)\n",
    "m[\"receive\"] = \"customer\"\n",
    "m[\"event\"] = \"new_order\""
   ]
  },
  {
   "cell_type": "code",
   "execution_count": 15,
   "id": "1a33f46a-9461-4066-9d04-fc4219488541",
   "metadata": {},
   "outputs": [
    {
     "ename": "ERROR",
     "evalue": "repl.go:1:16: undefined identifier: m",
     "output_type": "error",
     "traceback": [
      "repl.go:1:16: undefined identifier: m"
     ]
    }
   ],
   "source": [
    "reflect.TypeOf(m)"
   ]
  },
  {
   "cell_type": "code",
   "execution_count": 16,
   "id": "3685e53c-6851-427b-b63a-8e831f49785c",
   "metadata": {},
   "outputs": [
    {
     "ename": "ERROR",
     "evalue": "repl.go:1:24: undefined identifier: m",
     "output_type": "error",
     "traceback": [
      "repl.go:1:24: undefined identifier: m"
     ]
    }
   ],
   "source": [
    "fmt.Sprintf(\"Map: %v\", m)"
   ]
  },
  {
   "cell_type": "code",
   "execution_count": 17,
   "id": "ddf63146-b0ac-4dbf-8a9d-5909399921cc",
   "metadata": {},
   "outputs": [
    {
     "ename": "ERROR",
     "evalue": "repl.go:1:28: undefined identifier: m",
     "output_type": "error",
     "traceback": [
      "repl.go:1:28: undefined identifier: m"
     ]
    }
   ],
   "source": [
    "mJson, err := json.Marshal(m)"
   ]
  },
  {
   "cell_type": "code",
   "execution_count": 18,
   "id": "ae44a5d6-b232-437a-940a-877dbef4ad4b",
   "metadata": {},
   "outputs": [
    {
     "ename": "ERROR",
     "evalue": "repl.go:1:16: undefined identifier: mJson",
     "output_type": "error",
     "traceback": [
      "repl.go:1:16: undefined identifier: mJson"
     ]
    }
   ],
   "source": [
    "reflect.TypeOf(mJson)  //  unsigned integer array"
   ]
  },
  {
   "cell_type": "code",
   "execution_count": 19,
   "id": "c8759f45-7998-430d-ab1e-fbe27e1dbbe4",
   "metadata": {},
   "outputs": [
    {
     "ename": "ERROR",
     "evalue": "repl.go:1:13: undefined identifier: mJson",
     "output_type": "error",
     "traceback": [
      "repl.go:1:13: undefined identifier: mJson"
     ]
    }
   ],
   "source": [
    "fmt.Println(mJson)"
   ]
  },
  {
   "cell_type": "code",
   "execution_count": 20,
   "id": "57332826-6d55-4195-937d-3d30b6f53349",
   "metadata": {},
   "outputs": [
    {
     "ename": "ERROR",
     "evalue": "repl.go:1:8: undefined identifier: mJson",
     "output_type": "error",
     "traceback": [
      "repl.go:1:8: undefined identifier: mJson"
     ]
    }
   ],
   "source": [
    "append(mJson, 123)"
   ]
  },
  {
   "cell_type": "code",
   "execution_count": null,
   "id": "4f1cc9b2-9e6d-4b6a-9a4a-bd81e0372671",
   "metadata": {},
   "outputs": [],
   "source": []
  },
  {
   "cell_type": "code",
   "execution_count": 21,
   "id": "5d99cac4-cdc1-4507-bf28-9d62d807bb81",
   "metadata": {},
   "outputs": [
    {
     "ename": "ERROR",
     "evalue": "repl.go:1:19: undefined identifier: mJson",
     "output_type": "error",
     "traceback": [
      "repl.go:1:19: undefined identifier: mJson"
     ]
    }
   ],
   "source": [
    "jsonStr := string(mJson)"
   ]
  },
  {
   "cell_type": "code",
   "execution_count": 22,
   "id": "dd5aad61-5d9c-4999-959f-3707a55bd65f",
   "metadata": {},
   "outputs": [
    {
     "ename": "ERROR",
     "evalue": "repl.go:1:1: undefined identifier: mJson",
     "output_type": "error",
     "traceback": [
      "repl.go:1:1: undefined identifier: mJson"
     ]
    }
   ],
   "source": [
    "mJson"
   ]
  },
  {
   "cell_type": "code",
   "execution_count": 23,
   "id": "3cb59fc4-1b0f-432a-bd16-6e8d2c2c1dd3",
   "metadata": {},
   "outputs": [
    {
     "ename": "ERROR",
     "evalue": "repl.go:1:16: undefined identifier: jsonStr",
     "output_type": "error",
     "traceback": [
      "repl.go:1:16: undefined identifier: jsonStr"
     ]
    }
   ],
   "source": [
    "reflect.TypeOf(jsonStr)"
   ]
  },
  {
   "cell_type": "code",
   "execution_count": null,
   "id": "126b5acc-777f-466f-af43-e63c035e9aab",
   "metadata": {},
   "outputs": [],
   "source": []
  },
  {
   "cell_type": "code",
   "execution_count": 24,
   "id": "eb42afba-5c54-4c1e-9e7a-c4adbe8c7407",
   "metadata": {},
   "outputs": [
    {
     "data": {
      "text/plain": [
       "0x10069d630"
      ]
     },
     "execution_count": 24,
     "metadata": {},
     "output_type": "execute_result"
    }
   ],
   "source": [
    "reflect.TypeOf"
   ]
  },
  {
   "cell_type": "code",
   "execution_count": 25,
   "id": "1116fa68-0f02-4b1c-a4e8-bd0f79237b16",
   "metadata": {},
   "outputs": [
    {
     "ename": "ERROR",
     "evalue": "repl.go:1:13: undefined identifier: jsonStr",
     "output_type": "error",
     "traceback": [
      "repl.go:1:13: undefined identifier: jsonStr"
     ]
    }
   ],
   "source": [
    "fmt.Println(jsonStr)"
   ]
  },
  {
   "cell_type": "code",
   "execution_count": 26,
   "id": "50b54bb9-e221-4328-bdb6-e5be9db92ccc",
   "metadata": {},
   "outputs": [],
   "source": [
    "var a []int \n",
    "a = []int{1, 2, 3}"
   ]
  },
  {
   "cell_type": "code",
   "execution_count": 27,
   "id": "b1ce1960-682a-4e4b-a21d-aa8cb9609b4d",
   "metadata": {},
   "outputs": [
    {
     "data": {
      "text/plain": [
       "[]int"
      ]
     },
     "execution_count": 27,
     "metadata": {},
     "output_type": "execute_result"
    }
   ],
   "source": [
    "reflect.TypeOf(a)"
   ]
  },
  {
   "cell_type": "code",
   "execution_count": 28,
   "id": "d1277cfa-f44d-4fd7-aa7e-54ea636cbe00",
   "metadata": {},
   "outputs": [],
   "source": [
    "var a2 [3]int "
   ]
  },
  {
   "cell_type": "code",
   "execution_count": 29,
   "id": "7e46cadf-491a-4def-ba21-234ea10accd7",
   "metadata": {},
   "outputs": [
    {
     "data": {
      "text/plain": [
       "[3]int"
      ]
     },
     "execution_count": 29,
     "metadata": {},
     "output_type": "execute_result"
    }
   ],
   "source": [
    "reflect.TypeOf(a2)"
   ]
  },
  {
   "cell_type": "code",
   "execution_count": null,
   "id": "3549f972-e347-456c-826c-511ce20c414c",
   "metadata": {},
   "outputs": [],
   "source": []
  }
 ],
 "metadata": {
  "kernelspec": {
   "display_name": "Go",
   "language": "go",
   "name": "gophernotes"
  },
  "language_info": {
   "codemirror_mode": "",
   "file_extension": ".go",
   "mimetype": "",
   "name": "go",
   "nbconvert_exporter": "",
   "pygments_lexer": "",
   "version": "go1.19.4"
  },
  "widgets": {
   "application/vnd.jupyter.widget-state+json": {
    "state": {},
    "version_major": 2,
    "version_minor": 0
   }
  }
 },
 "nbformat": 4,
 "nbformat_minor": 5
}
