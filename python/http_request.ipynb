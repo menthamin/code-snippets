{
 "cells": [
  {
   "cell_type": "code",
   "execution_count": 9,
   "id": "3497d366-1d3c-4aec-8970-59f3994e7ee4",
   "metadata": {},
   "outputs": [],
   "source": [
    "import json\n",
    "import requests"
   ]
  },
  {
   "cell_type": "code",
   "execution_count": 16,
   "id": "bd39685f-af4f-4826-8074-e258b867592b",
   "metadata": {},
   "outputs": [],
   "source": [
    "URL = \"https://594rriprt8.execute-api.ap-southeast-1.amazonaws.com/prod/get_conversion_tag_info\"\n",
    "params = {\"customerId\": \"4157827446\"}\n",
    "# params = {\"customerId\": \"9463627168\"}\n",
    "params = {\"customerId\": \"1234567890\"}\n",
    "headers = {\n",
    "    \"client-secret\": \"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\",\n",
    "    \"developer-token\": \"8X4kOBpZ4g2aHmECxLPAxQ\",\n",
    "    \"refresh-token\": \"1//0eLwqnNp5e55gCgYIARAAGA4SNgF-L9Ir_Hr70VTFsHK7Chr4YQuCFg-vNSMk4vcK-YKJjG4iSdUNz8nzO9EkYX7V_6vwpVMHSg\",\n",
    "    \"login-customer-id\": \"3402366900\",\n",
    "    \"client-id\": \"403730095339-8adh1bqaud4o8jkqn03q8nihmafj5neg.apps.googleusercontent.com\",\n",
    "}"
   ]
  },
  {
   "cell_type": "code",
   "execution_count": 17,
   "id": "6046d947-a2af-4408-a0de-392b76e51d9b",
   "metadata": {},
   "outputs": [],
   "source": [
    "response = requests.post(URL, params=params, headers=headers)"
   ]
  },
  {
   "cell_type": "markdown",
   "id": "a2ab05a6-33fc-43a9-b93d-47585f2f5765",
   "metadata": {},
   "source": [
    "# 오히려 vpc 밖에서 호출이 가능하다..\n",
    "- VPC 밖에서 한번 실행하고나면 이후에 접근이 가능하다\n",
    "- Lambda 인스턴스가 떠있는 상황이라 그런걸까?\n",
    "- 시간이 조금 지나면 안되겠지?"
   ]
  },
  {
   "cell_type": "code",
   "execution_count": 18,
   "id": "0118d35c-8994-4d3f-9479-7eada850ae7d",
   "metadata": {},
   "outputs": [
    {
     "data": {
      "text/plain": [
       "'{\"message\": \"Internal server error\"}'"
      ]
     },
     "execution_count": 18,
     "metadata": {},
     "output_type": "execute_result"
    }
   ],
   "source": [
    "response.text"
   ]
  },
  {
   "cell_type": "code",
   "execution_count": null,
   "id": "036020b6-d973-4488-9996-198a55047638",
   "metadata": {},
   "outputs": [],
   "source": []
  },
  {
   "cell_type": "markdown",
   "id": "ddbde3e9-638b-40f4-bafa-223543d4c997",
   "metadata": {},
   "source": [
    "# old"
   ]
  },
  {
   "cell_type": "code",
   "execution_count": 9,
   "id": "1eee4d39-0b9c-45d3-a1cb-a128a144c705",
   "metadata": {},
   "outputs": [
    {
     "data": {
      "text/plain": [
       "{'method': 'POST',\n",
       " 'url': 'https://594rriprt8.execute-api.ap-southeast-1.amazonaws.com/prod/get_conversion_tag_info?customerId=4157827446',\n",
       " 'headers': {'User-Agent': 'python-requests/2.26.0', 'Accept-Encoding': 'gzip, deflate, br', 'Accept': '*/*', 'Connection': 'keep-alive', 'client-secret': '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', 'developer-token': '8X4kOBpZ4g2aHmECxLPAxQ', 'refresh-token': '1//0eLwqnNp5e55gCgYIARAAGA4SNgF-L9Ir_Hr70VTFsHK7Chr4YQuCFg-vNSMk4vcK-YKJjG4iSdUNz8nzO9EkYX7V_6vwpVMHSg', 'login-customer-id': '3402366900', 'client-id': '403730095339-8adh1bqaud4o8jkqn03q8nihmafj5neg.apps.googleusercontent.com', 'Content-Length': '0'},\n",
       " '_cookies': <RequestsCookieJar[]>,\n",
       " 'body': None,\n",
       " 'hooks': {'response': []},\n",
       " '_body_position': None}"
      ]
     },
     "execution_count": 9,
     "metadata": {},
     "output_type": "execute_result"
    }
   ],
   "source": [
    "response.request.__dict__"
   ]
  },
  {
   "cell_type": "code",
   "execution_count": 10,
   "id": "f455287e-711e-4392-9500-1ff6950a319f",
   "metadata": {},
   "outputs": [
    {
     "name": "stdout",
     "output_type": "stream",
     "text": [
      "__class__ <class 'requests.models.PreparedRequest'>\n",
      "__delattr__ <method-wrapper '__delattr__' of PreparedRequest object at 0x7ff6e2406730>\n",
      "__dict__ {'method': 'POST', 'url': 'https://594rriprt8.execute-api.ap-southeast-1.amazonaws.com/prod/get_conversion_tag_info?customerId=4157827446', 'headers': {'User-Agent': 'python-requests/2.26.0', 'Accept-Encoding': 'gzip, deflate, br', 'Accept': '*/*', 'Connection': 'keep-alive', 'client-secret': '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', 'developer-token': '8X4kOBpZ4g2aHmECxLPAxQ', 'refresh-token': '1//0eLwqnNp5e55gCgYIARAAGA4SNgF-L9Ir_Hr70VTFsHK7Chr4YQuCFg-vNSMk4vcK-YKJjG4iSdUNz8nzO9EkYX7V_6vwpVMHSg', 'login-customer-id': '3402366900', 'client-id': '403730095339-8adh1bqaud4o8jkqn03q8nihmafj5neg.apps.googleusercontent.com', 'Content-Length': '0'}, '_cookies': <RequestsCookieJar[]>, 'body': None, 'hooks': {'response': []}, '_body_position': None}\n",
      "__dir__ <built-in method __dir__ of PreparedRequest object at 0x7ff6e2406730>\n",
      "__doc__ The fully mutable :class:`PreparedRequest <PreparedRequest>` object,\n",
      "    containing the exact bytes that will be sent to the server.\n",
      "\n",
      "    Instances are generated from a :class:`Request <Request>` object, and\n",
      "    should not be instantiated manually; doing so may produce undesirable\n",
      "    effects.\n",
      "\n",
      "    Usage::\n",
      "\n",
      "      >>> import requests\n",
      "      >>> req = requests.Request('GET', 'https://httpbin.org/get')\n",
      "      >>> r = req.prepare()\n",
      "      >>> r\n",
      "      <PreparedRequest [GET]>\n",
      "\n",
      "      >>> s = requests.Session()\n",
      "      >>> s.send(r)\n",
      "      <Response [200]>\n",
      "    \n",
      "__eq__ <method-wrapper '__eq__' of PreparedRequest object at 0x7ff6e2406730>\n",
      "__format__ <built-in method __format__ of PreparedRequest object at 0x7ff6e2406730>\n",
      "__ge__ <method-wrapper '__ge__' of PreparedRequest object at 0x7ff6e2406730>\n",
      "__getattribute__ <method-wrapper '__getattribute__' of PreparedRequest object at 0x7ff6e2406730>\n",
      "__gt__ <method-wrapper '__gt__' of PreparedRequest object at 0x7ff6e2406730>\n",
      "__hash__ <method-wrapper '__hash__' of PreparedRequest object at 0x7ff6e2406730>\n",
      "__init__ <bound method PreparedRequest.__init__ of <PreparedRequest [POST]>>\n",
      "__init_subclass__ <built-in method __init_subclass__ of type object at 0x7ff6cc2bd680>\n",
      "__le__ <method-wrapper '__le__' of PreparedRequest object at 0x7ff6e2406730>\n",
      "__lt__ <method-wrapper '__lt__' of PreparedRequest object at 0x7ff6e2406730>\n",
      "__module__ requests.models\n",
      "__ne__ <method-wrapper '__ne__' of PreparedRequest object at 0x7ff6e2406730>\n",
      "__new__ <built-in method __new__ of type object at 0x100d8b8a8>\n",
      "__reduce__ <built-in method __reduce__ of PreparedRequest object at 0x7ff6e2406730>\n",
      "__reduce_ex__ <built-in method __reduce_ex__ of PreparedRequest object at 0x7ff6e2406730>\n",
      "__repr__ <bound method PreparedRequest.__repr__ of <PreparedRequest [POST]>>\n",
      "__setattr__ <method-wrapper '__setattr__' of PreparedRequest object at 0x7ff6e2406730>\n",
      "__sizeof__ <built-in method __sizeof__ of PreparedRequest object at 0x7ff6e2406730>\n",
      "__str__ <method-wrapper '__str__' of PreparedRequest object at 0x7ff6e2406730>\n",
      "__subclasshook__ <built-in method __subclasshook__ of type object at 0x7ff6cc2bd680>\n",
      "__weakref__ None\n",
      "_body_position None\n",
      "_cookies <RequestsCookieJar[]>\n",
      "_encode_files <function RequestEncodingMixin._encode_files at 0x7ff6e23fcb80>\n",
      "_encode_params <function RequestEncodingMixin._encode_params at 0x7ff6e23fcaf0>\n",
      "_get_idna_encoded_host <function PreparedRequest._get_idna_encoded_host at 0x7ff6e24011f0>\n",
      "body None\n",
      "copy <bound method PreparedRequest.copy of <PreparedRequest [POST]>>\n",
      "deregister_hook <bound method RequestHooksMixin.deregister_hook of <PreparedRequest [POST]>>\n",
      "headers {'User-Agent': 'python-requests/2.26.0', 'Accept-Encoding': 'gzip, deflate, br', 'Accept': '*/*', 'Connection': 'keep-alive', 'client-secret': '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', 'developer-token': '8X4kOBpZ4g2aHmECxLPAxQ', 'refresh-token': '1//0eLwqnNp5e55gCgYIARAAGA4SNgF-L9Ir_Hr70VTFsHK7Chr4YQuCFg-vNSMk4vcK-YKJjG4iSdUNz8nzO9EkYX7V_6vwpVMHSg', 'login-customer-id': '3402366900', 'client-id': '403730095339-8adh1bqaud4o8jkqn03q8nihmafj5neg.apps.googleusercontent.com', 'Content-Length': '0'}\n",
      "hooks {'response': []}\n",
      "method POST\n",
      "path_url /prod/get_conversion_tag_info?customerId=4157827446\n",
      "prepare <bound method PreparedRequest.prepare of <PreparedRequest [POST]>>\n",
      "prepare_auth <bound method PreparedRequest.prepare_auth of <PreparedRequest [POST]>>\n",
      "prepare_body <bound method PreparedRequest.prepare_body of <PreparedRequest [POST]>>\n",
      "prepare_content_length <bound method PreparedRequest.prepare_content_length of <PreparedRequest [POST]>>\n",
      "prepare_cookies <bound method PreparedRequest.prepare_cookies of <PreparedRequest [POST]>>\n",
      "prepare_headers <bound method PreparedRequest.prepare_headers of <PreparedRequest [POST]>>\n",
      "prepare_hooks <bound method PreparedRequest.prepare_hooks of <PreparedRequest [POST]>>\n",
      "prepare_method <bound method PreparedRequest.prepare_method of <PreparedRequest [POST]>>\n",
      "prepare_url <bound method PreparedRequest.prepare_url of <PreparedRequest [POST]>>\n",
      "register_hook <bound method RequestHooksMixin.register_hook of <PreparedRequest [POST]>>\n",
      "url https://594rriprt8.execute-api.ap-southeast-1.amazonaws.com/prod/get_conversion_tag_info?customerId=4157827446\n"
     ]
    }
   ],
   "source": [
    "for x in dir(response.request):\n",
    "    print(x, eval(f\"response.request.{x}\"))"
   ]
  },
  {
   "cell_type": "code",
   "execution_count": 132,
   "id": "38d78805-2c57-4319-a9a8-953e61ffea17",
   "metadata": {},
   "outputs": [
    {
     "data": {
      "text/plain": [
       "['__attrs__',\n",
       " '__bool__',\n",
       " '__class__',\n",
       " '__delattr__',\n",
       " '__dict__',\n",
       " '__dir__',\n",
       " '__doc__',\n",
       " '__enter__',\n",
       " '__eq__',\n",
       " '__exit__',\n",
       " '__format__',\n",
       " '__ge__',\n",
       " '__getattribute__',\n",
       " '__getstate__',\n",
       " '__gt__',\n",
       " '__hash__',\n",
       " '__init__',\n",
       " '__init_subclass__',\n",
       " '__iter__',\n",
       " '__le__',\n",
       " '__lt__',\n",
       " '__module__',\n",
       " '__ne__',\n",
       " '__new__',\n",
       " '__nonzero__',\n",
       " '__reduce__',\n",
       " '__reduce_ex__',\n",
       " '__repr__',\n",
       " '__setattr__',\n",
       " '__setstate__',\n",
       " '__sizeof__',\n",
       " '__str__',\n",
       " '__subclasshook__',\n",
       " '__weakref__',\n",
       " '_content',\n",
       " '_content_consumed',\n",
       " '_next',\n",
       " 'apparent_encoding',\n",
       " 'close',\n",
       " 'connection',\n",
       " 'content',\n",
       " 'cookies',\n",
       " 'elapsed',\n",
       " 'encoding',\n",
       " 'headers',\n",
       " 'history',\n",
       " 'is_permanent_redirect',\n",
       " 'is_redirect',\n",
       " 'iter_content',\n",
       " 'iter_lines',\n",
       " 'json',\n",
       " 'links',\n",
       " 'next',\n",
       " 'ok',\n",
       " 'raise_for_status',\n",
       " 'raw',\n",
       " 'reason',\n",
       " 'request',\n",
       " 'status_code',\n",
       " 'text',\n",
       " 'url']"
      ]
     },
     "execution_count": 132,
     "metadata": {},
     "output_type": "execute_result"
    }
   ],
   "source": [
    "dir(response)"
   ]
  },
  {
   "cell_type": "code",
   "execution_count": 140,
   "id": "d300b789-5b88-499e-af3d-3cd1a6106946",
   "metadata": {},
   "outputs": [
    {
     "data": {
      "text/plain": [
       "{'Server': 'Server', 'Date': 'Thu, 22 Dec 2022 10:44:00 GMT', 'Content-Type': 'application/json', 'Content-Length': '23', 'Connection': 'keep-alive', 'x-amzn-RequestId': 'c82a05a5-d62c-492f-9a0a-7f4768454d7f', 'x-amzn-ErrorType': 'ForbiddenException', 'x-amz-apigw-id': 'di01nGApyQ0FuXA='}"
      ]
     },
     "execution_count": 140,
     "metadata": {},
     "output_type": "execute_result"
    }
   ],
   "source": [
    "response.headers"
   ]
  },
  {
   "cell_type": "code",
   "execution_count": 135,
   "id": "f965c685-063a-4d03-a44d-6d113e8b554d",
   "metadata": {},
   "outputs": [
    {
     "data": {
      "text/plain": [
       "'{\"message\":\"Forbidden\"}'"
      ]
     },
     "execution_count": 135,
     "metadata": {},
     "output_type": "execute_result"
    }
   ],
   "source": [
    "response.text"
   ]
  },
  {
   "cell_type": "code",
   "execution_count": null,
   "id": "4b870174-0cfb-4fc9-a020-80e64b1f1863",
   "metadata": {},
   "outputs": [],
   "source": []
  },
  {
   "cell_type": "code",
   "execution_count": null,
   "id": "4d972d94-2c87-49d3-ba46-d1e0bb0640b9",
   "metadata": {},
   "outputs": [],
   "source": []
  },
  {
   "cell_type": "code",
   "execution_count": 12,
   "id": "178a3913-8745-4191-b764-d52b9083b275",
   "metadata": {},
   "outputs": [],
   "source": [
    "URL = \"https://594rriprt8.execute-api.ap-southeast-1.amazonaws.com/prod/\"\n",
    "data = \"\"\"\n",
    "{'headers': {'developer-token': '8X4kOBpZ4g2aHmECxLPAxQ', 'client-id': '403730095339-8adh1bqaud4o8jkqn03q8nihmafj5neg.apps.googleusercontent.com', 'client-secret': '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', 'refresh-token': '1//0eLwqnNp5e55gCgYIARAAGA4SNgF-L9Ir_Hr70VTFsHK7Chr4YQuCFg-vNSMk4vcK-YKJjG4iSdUNz8nzO9EkYX7V_6vwpVMHSg', 'login-customer-id': '3402366900', 'customer-id': '4157827446', 'use-proto-plus': 'True'}, 'queryStringParameters': {'customerId': '4157827446'}, 'pathParameters': {'methodName': 'get_conversion_tag_info'}, 'body': {'method': 'request_account_link', 'vendor_id': 1, 'google_ads_vendor_id': '217-508-8795', 'google_ads_manager_id': '340-236-6900'}}\n",
    "\"\"\"\n",
    "\n",
    "res = requests.post(URL, data=json.dumps(data))"
   ]
  },
  {
   "cell_type": "code",
   "execution_count": 14,
   "id": "522046c0-dd46-465b-ac4a-c88415339465",
   "metadata": {},
   "outputs": [
    {
     "data": {
      "text/plain": [
       "'{\"message\":\"Forbidden\"}'"
      ]
     },
     "execution_count": 14,
     "metadata": {},
     "output_type": "execute_result"
    }
   ],
   "source": [
    "res.text"
   ]
  },
  {
   "cell_type": "code",
   "execution_count": 15,
   "id": "48f21ee5-448c-4770-9dc4-15df6c8f6dd1",
   "metadata": {},
   "outputs": [],
   "source": [
    "data = {\n",
    "    \"event\": {\n",
    "        \"headers\": {\n",
    "            \"developer-token\": \"8X4kOBpZ4g2aHmECxLPAxQ\",\n",
    "            \"client-id\": \"403730095339-8adh1bqaud4o8jkqn03q8nihmafj5neg.apps.googleusercontent.com\",\n",
    "            \"client-secret\": \"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\",\n",
    "            \"refresh-token\": \"1//0eLwqnNp5e55gCgYIARAAGA4SNgF-L9Ir_Hr70VTFsHK7Chr4YQuCFg-vNSMk4vcK-YKJjG4iSdUNz8nzO9EkYX7V_6vwpVMHSg\",\n",
    "            \"login-customer-id\": \"3402366900\",\n",
    "            \"customer-id\": \"4157827446\",\n",
    "            \"use-proto-plus\": \"True\",\n",
    "        },\n",
    "        \"queryStringParameters\": {\"customerId\": \"4157827446\"},\n",
    "        \"pathParameters\": {\"methodName\": \"get_conversion_tag_info\"},\n",
    "        \"body\": {\n",
    "            \"method\": \"request_account_link\",\n",
    "            \"vendor_id\": 1,\n",
    "            \"google_ads_vendor_id\": \"217-508-8795\",\n",
    "            \"google_ads_manager_id\": \"340-236-6900\",\n",
    "        },\n",
    "    }\n",
    "}"
   ]
  },
  {
   "cell_type": "code",
   "execution_count": 22,
   "id": "5f1ed226-fc87-4bb1-9a82-c95b386a477d",
   "metadata": {},
   "outputs": [],
   "source": [
    "URL = \"https://594rriprt8.execute-api.ap-southeast-1.amazonaws.com/prod/get_conversion_tag_info?customerId=4157827446\"\n",
    "\n",
    "res = requests.post(URL, data=json.dumps(data))"
   ]
  },
  {
   "cell_type": "code",
   "execution_count": 23,
   "id": "f255b3b5-5d51-448e-a7af-db1b11ae8ba2",
   "metadata": {},
   "outputs": [
    {
     "data": {
      "text/plain": [
       "<Response [403]>"
      ]
     },
     "execution_count": 23,
     "metadata": {},
     "output_type": "execute_result"
    }
   ],
   "source": [
    "res"
   ]
  },
  {
   "cell_type": "code",
   "execution_count": 100,
   "id": "45aa393e-7164-443f-9b0b-0a7e54c2909a",
   "metadata": {},
   "outputs": [],
   "source": [
    "URL = \"https://594rriprt8.execute-api.ap-southeast-1.amazonaws.com/prod/get_conversion_tag_info\"\n",
    "data = {\"customerId\": \"4157827446\"}\n",
    "headers = {\n",
    "    \"client-secret\": \"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\",\n",
    "    \"developer-token\": \"8X4kOBpZ4g2aHmECxLPAxQ\",\n",
    "    \"refresh-token\": \"1//0eLwqnNp5e55gCgYIARAAGA4SNgF-L9Ir_Hr70VTFsHK7Chr4YQuCFg-vNSMk4vcK-YKJjG4iSdUNz8nzO9EkYX7V_6vwpVMHSg\",\n",
    "    \"login-customer-id\": \"3402366900\",\n",
    "    \"client-id\": \"403730095339-8adh1bqaud4o8jkqn03q8nihmafj5neg.apps.googleusercontent.com\",\n",
    "}"
   ]
  },
  {
   "cell_type": "code",
   "execution_count": 112,
   "id": "a79740b7-538b-4b0e-a403-56d8daa59ce4",
   "metadata": {},
   "outputs": [],
   "source": [
    "headers = {\"Content-type\": \"application/json; charset=utf-8\"}"
   ]
  },
  {
   "cell_type": "code",
   "execution_count": 101,
   "id": "7d237614-ecc6-4326-a0b7-2df9dca8be8b",
   "metadata": {},
   "outputs": [],
   "source": [
    "data = json.dumps(headers)"
   ]
  },
  {
   "cell_type": "code",
   "execution_count": 117,
   "id": "6507b9f7-916c-4132-8d9c-90ebab72936f",
   "metadata": {},
   "outputs": [
    {
     "name": "stdout",
     "output_type": "stream",
     "text": [
      "{'body': 'bar', 'id': 101, 'title': 'foo', 'userId': 1}\n"
     ]
    }
   ],
   "source": [
    "import pprint\n",
    "\n",
    "url = \"https://jsonplaceholder.typicode.com/posts\"\n",
    "headers = {\"Content-type\": \"application/json; charset=utf-8\", \"test\": \"123\"}\n",
    "data = {\n",
    "    \"title\": \"foo\",\n",
    "    \"body\": \"bar\",\n",
    "    \"userId\": 1,\n",
    "}\n",
    "\n",
    "res = requests.post(url, headers=headers, data=json.dumps(data))\n",
    "pprint.pprint(res.json())"
   ]
  },
  {
   "cell_type": "code",
   "execution_count": 118,
   "id": "115d5588-210d-4a81-86ac-f81b17a03447",
   "metadata": {},
   "outputs": [
    {
     "data": {
      "text/plain": [
       "{'Date': 'Thu, 22 Dec 2022 09:57:42 GMT', 'Content-Type': 'application/json; charset=utf-8', 'Content-Length': '65', 'Connection': 'keep-alive', 'X-Powered-By': 'Express', 'X-Ratelimit-Limit': '1000', 'X-Ratelimit-Remaining': '997', 'X-Ratelimit-Reset': '1671703079', 'Vary': 'Origin, X-HTTP-Method-Override, Accept-Encoding', 'Access-Control-Allow-Credentials': 'true', 'Cache-Control': 'no-cache', 'Pragma': 'no-cache', 'Expires': '-1', 'Access-Control-Expose-Headers': 'Location', 'Location': 'http://jsonplaceholder.typicode.com/posts/101', 'X-Content-Type-Options': 'nosniff', 'Etag': 'W/\"41-GDNaWfnVU6RZhpLbye0veBaqcHA\"', 'Via': '1.1 vegur', 'CF-Cache-Status': 'DYNAMIC', 'Server-Timing': 'cf-q-config;dur=3.9999995351536e-06', 'Report-To': '{\"endpoints\":[{\"url\":\"https:\\\\/\\\\/a.nel.cloudflare.com\\\\/report\\\\/v3?s=Zo25afYNE4YjXZ%2FezrAE7uN9l0TGkAhAJeoxDUmBiciRKu%2FWTXVQGkKIte0FvG9ih%2FtmuQUVhXaIwQCxCquibpulnSf1Kvu1KAfkh6vuvfHbm7vJUlq1vIfhmTaot7nuDkEQqodsVGWfum6Y5u04\"}],\"group\":\"cf-nel\",\"max_age\":604800}', 'NEL': '{\"success_fraction\":0,\"report_to\":\"cf-nel\",\"max_age\":604800}', 'Server': 'cloudflare', 'CF-RAY': '77d7fea7caec04de-HKG', 'alt-svc': 'h3=\":443\"; ma=86400, h3-29=\":443\"; ma=86400'}"
      ]
     },
     "execution_count": 118,
     "metadata": {},
     "output_type": "execute_result"
    }
   ],
   "source": [
    "res.headers"
   ]
  },
  {
   "cell_type": "code",
   "execution_count": null,
   "id": "0acf80fb-11f8-4ff6-8ab6-010301376c98",
   "metadata": {},
   "outputs": [],
   "source": []
  },
  {
   "cell_type": "code",
   "execution_count": 105,
   "id": "c612d4ee-c20d-4eac-8637-fc67b4430d14",
   "metadata": {},
   "outputs": [],
   "source": [
    "res = requests.get(URL, headers=headers)"
   ]
  },
  {
   "cell_type": "code",
   "execution_count": 111,
   "id": "3a55e034-1318-4205-8446-fa0a878ba95e",
   "metadata": {},
   "outputs": [
    {
     "data": {
      "text/plain": [
       "{'Server': 'Server', 'Date': 'Thu, 22 Dec 2022 09:56:17 GMT', 'Content-Type': 'application/json', 'Content-Length': '23', 'Connection': 'keep-alive', 'x-amzn-RequestId': 'ee8be7dd-2e47-4a38-b217-68775b3d6ecc', 'x-amzn-ErrorType': 'ForbiddenException', 'x-amz-apigw-id': 'dit2OFcWyQ0Fvzw='}"
      ]
     },
     "execution_count": 111,
     "metadata": {},
     "output_type": "execute_result"
    }
   ],
   "source": [
    "res.headers"
   ]
  },
  {
   "cell_type": "code",
   "execution_count": 93,
   "id": "96df353c-3e98-4700-83b3-11c6ceb5edb7",
   "metadata": {},
   "outputs": [
    {
     "data": {
      "text/plain": [
       "['__attrs__',\n",
       " '__bool__',\n",
       " '__class__',\n",
       " '__delattr__',\n",
       " '__dict__',\n",
       " '__dir__',\n",
       " '__doc__',\n",
       " '__enter__',\n",
       " '__eq__',\n",
       " '__exit__',\n",
       " '__format__',\n",
       " '__ge__',\n",
       " '__getattribute__',\n",
       " '__getstate__',\n",
       " '__gt__',\n",
       " '__hash__',\n",
       " '__init__',\n",
       " '__init_subclass__',\n",
       " '__iter__',\n",
       " '__le__',\n",
       " '__lt__',\n",
       " '__module__',\n",
       " '__ne__',\n",
       " '__new__',\n",
       " '__nonzero__',\n",
       " '__reduce__',\n",
       " '__reduce_ex__',\n",
       " '__repr__',\n",
       " '__setattr__',\n",
       " '__setstate__',\n",
       " '__sizeof__',\n",
       " '__str__',\n",
       " '__subclasshook__',\n",
       " '__weakref__',\n",
       " '_content',\n",
       " '_content_consumed',\n",
       " '_next',\n",
       " 'apparent_encoding',\n",
       " 'close',\n",
       " 'connection',\n",
       " 'content',\n",
       " 'cookies',\n",
       " 'elapsed',\n",
       " 'encoding',\n",
       " 'headers',\n",
       " 'history',\n",
       " 'is_permanent_redirect',\n",
       " 'is_redirect',\n",
       " 'iter_content',\n",
       " 'iter_lines',\n",
       " 'json',\n",
       " 'links',\n",
       " 'next',\n",
       " 'ok',\n",
       " 'raise_for_status',\n",
       " 'raw',\n",
       " 'reason',\n",
       " 'request',\n",
       " 'status_code',\n",
       " 'text',\n",
       " 'url']"
      ]
     },
     "execution_count": 93,
     "metadata": {},
     "output_type": "execute_result"
    }
   ],
   "source": [
    "dir(res)"
   ]
  },
  {
   "cell_type": "code",
   "execution_count": 94,
   "id": "a912ed7e-4ab0-40db-852e-0534b1e1d5cd",
   "metadata": {},
   "outputs": [
    {
     "data": {
      "text/plain": [
       "b'{\"message\":\"Forbidden\"}'"
      ]
     },
     "execution_count": 94,
     "metadata": {},
     "output_type": "execute_result"
    }
   ],
   "source": [
    "res.content"
   ]
  },
  {
   "cell_type": "code",
   "execution_count": 96,
   "id": "ec318fe9-458b-4063-8df0-92ee91d9e17f",
   "metadata": {},
   "outputs": [
    {
     "data": {
      "text/plain": [
       "{'Server': 'Server', 'Date': 'Thu, 22 Dec 2022 09:53:52 GMT', 'Content-Type': 'application/json', 'Content-Length': '23', 'Connection': 'keep-alive', 'x-amzn-RequestId': 'd59f25af-a3ec-4830-933c-bcb573127de1', 'x-amzn-ErrorType': 'ForbiddenException', 'x-amz-apigw-id': 'ditfjHUiyQ0FhGw='}"
      ]
     },
     "execution_count": 96,
     "metadata": {},
     "output_type": "execute_result"
    }
   ],
   "source": [
    "res.headers"
   ]
  },
  {
   "cell_type": "code",
   "execution_count": 95,
   "id": "165cc636-afcc-4e5b-9327-c306a6e77483",
   "metadata": {},
   "outputs": [
    {
     "data": {
      "text/plain": [
       "'https://594rriprt8.execute-api.ap-southeast-1.amazonaws.com/prod/get_conversion_tag_info'"
      ]
     },
     "execution_count": 95,
     "metadata": {},
     "output_type": "execute_result"
    }
   ],
   "source": [
    "res.url"
   ]
  },
  {
   "cell_type": "code",
   "execution_count": 90,
   "id": "f0df8f97-2cea-4326-ac58-fb609d100d4f",
   "metadata": {},
   "outputs": [
    {
     "data": {
      "text/plain": [
       "<function requests.models.RequestEncodingMixin._encode_params(data)>"
      ]
     },
     "execution_count": 90,
     "metadata": {},
     "output_type": "execute_result"
    }
   ],
   "source": [
    "res.request._encode_params"
   ]
  },
  {
   "cell_type": "code",
   "execution_count": 91,
   "id": "a0178414-d5e3-4ac0-bf6a-1189b0df4de3",
   "metadata": {},
   "outputs": [
    {
     "data": {
      "text/plain": [
       "<Response [403]>"
      ]
     },
     "execution_count": 91,
     "metadata": {},
     "output_type": "execute_result"
    }
   ],
   "source": [
    "res"
   ]
  },
  {
   "cell_type": "code",
   "execution_count": 58,
   "id": "8c187b08-26a5-44dd-9fa6-bb13e250526d",
   "metadata": {},
   "outputs": [
    {
     "data": {
      "text/plain": [
       "'customerId=4157827446'"
      ]
     },
     "execution_count": 58,
     "metadata": {},
     "output_type": "execute_result"
    }
   ],
   "source": [
    "res.request.body"
   ]
  },
  {
   "cell_type": "code",
   "execution_count": 61,
   "id": "29a6350e-3525-4876-9f8f-d17acec5f059",
   "metadata": {},
   "outputs": [
    {
     "data": {
      "text/plain": [
       "['__class__',\n",
       " '__delattr__',\n",
       " '__dict__',\n",
       " '__dir__',\n",
       " '__doc__',\n",
       " '__eq__',\n",
       " '__format__',\n",
       " '__ge__',\n",
       " '__getattribute__',\n",
       " '__gt__',\n",
       " '__hash__',\n",
       " '__init__',\n",
       " '__init_subclass__',\n",
       " '__le__',\n",
       " '__lt__',\n",
       " '__module__',\n",
       " '__ne__',\n",
       " '__new__',\n",
       " '__reduce__',\n",
       " '__reduce_ex__',\n",
       " '__repr__',\n",
       " '__setattr__',\n",
       " '__sizeof__',\n",
       " '__str__',\n",
       " '__subclasshook__',\n",
       " '__weakref__',\n",
       " '_body_position',\n",
       " '_cookies',\n",
       " '_encode_files',\n",
       " '_encode_params',\n",
       " '_get_idna_encoded_host',\n",
       " 'body',\n",
       " 'copy',\n",
       " 'deregister_hook',\n",
       " 'headers',\n",
       " 'hooks',\n",
       " 'method',\n",
       " 'path_url',\n",
       " 'prepare',\n",
       " 'prepare_auth',\n",
       " 'prepare_body',\n",
       " 'prepare_content_length',\n",
       " 'prepare_cookies',\n",
       " 'prepare_headers',\n",
       " 'prepare_hooks',\n",
       " 'prepare_method',\n",
       " 'prepare_url',\n",
       " 'register_hook',\n",
       " 'url']"
      ]
     },
     "execution_count": 61,
     "metadata": {},
     "output_type": "execute_result"
    }
   ],
   "source": [
    "dir(res.request)"
   ]
  },
  {
   "cell_type": "code",
   "execution_count": 71,
   "id": "1ba8a010-ed96-4a19-9111-a8b80330ade1",
   "metadata": {},
   "outputs": [
    {
     "data": {
      "text/plain": [
       "<bound method PreparedRequest.prepare_headers of <PreparedRequest [None]>>"
      ]
     },
     "execution_count": 71,
     "metadata": {},
     "output_type": "execute_result"
    }
   ],
   "source": [
    "res.request.prepare_headers"
   ]
  },
  {
   "cell_type": "code",
   "execution_count": null,
   "id": "37e1def1-2664-4afe-9f85-efbe5e17e31a",
   "metadata": {},
   "outputs": [],
   "source": []
  },
  {
   "cell_type": "code",
   "execution_count": null,
   "id": "cd98c058-1b9c-4dee-bd14-34477a3f7764",
   "metadata": {},
   "outputs": [],
   "source": []
  },
  {
   "cell_type": "code",
   "execution_count": null,
   "id": "aa839b58-1547-4836-b6ac-64bde538982e",
   "metadata": {},
   "outputs": [],
   "source": []
  },
  {
   "cell_type": "code",
   "execution_count": null,
   "id": "65b881f4-26e4-430a-8888-ba9fe0b82f70",
   "metadata": {},
   "outputs": [],
   "source": []
  },
  {
   "cell_type": "code",
   "execution_count": 42,
   "id": "ab3df1b0-b037-421c-b187-3875f6eef7f3",
   "metadata": {},
   "outputs": [
    {
     "data": {
      "text/plain": [
       "'{\"message\":\"Forbidden\"}'"
      ]
     },
     "execution_count": 42,
     "metadata": {},
     "output_type": "execute_result"
    }
   ],
   "source": [
    "res.text"
   ]
  },
  {
   "cell_type": "code",
   "execution_count": 39,
   "id": "6f20b456-e090-4b9c-9ce6-46676ce9360e",
   "metadata": {},
   "outputs": [
    {
     "data": {
      "text/plain": [
       "<Response [403]>"
      ]
     },
     "execution_count": 39,
     "metadata": {},
     "output_type": "execute_result"
    }
   ],
   "source": [
    "res"
   ]
  },
  {
   "cell_type": "code",
   "execution_count": null,
   "id": "feac0ec6-f479-4603-9604-464d4dd10af7",
   "metadata": {},
   "outputs": [],
   "source": []
  }
 ],
 "metadata": {
  "kernelspec": {
   "display_name": "Python 3",
   "language": "python",
   "name": "python3"
  },
  "language_info": {
   "codemirror_mode": {
    "name": "ipython",
    "version": 3
   },
   "file_extension": ".py",
   "mimetype": "text/x-python",
   "name": "python",
   "nbconvert_exporter": "python",
   "pygments_lexer": "ipython3",
   "version": "3.10.8 (main, Oct 13 2022, 09:48:40) [Clang 14.0.0 (clang-1400.0.29.102)]"
  },
  "vscode": {
   "interpreter": {
    "hash": "b0fa6594d8f4cbf19f97940f81e996739fb7646882a419484c72d19e05852a7e"
   }
  },
  "widgets": {
   "application/vnd.jupyter.widget-state+json": {
    "state": {},
    "version_major": 2,
    "version_minor": 0
   }
  }
 },
 "nbformat": 4,
 "nbformat_minor": 5
}
