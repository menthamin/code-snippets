{
 "cells": [
  {
   "cell_type": "code",
   "execution_count": 1,
   "metadata": {},
   "outputs": [
    {
     "name": "stdout",
     "output_type": "stream",
     "text": [
      "Requirement already satisfied: psycopg2 in c:\\users\\aivelabs\\anaconda3\\lib\\site-packages (2.9.1)\n"
     ]
    }
   ],
   "source": [
    "!pip install psycopg2"
   ]
  },
  {
   "cell_type": "code",
   "execution_count": 2,
   "metadata": {},
   "outputs": [],
   "source": [
    "import psycopg2\n",
    "import pandas as pd\n",
    "\n",
    "conn = psycopg2.connect(host=\"\",  # end-point 정보\n",
    "                        dbname=\"\",  # db 명\n",
    "                        user=\"\",  # 계정\n",
    "                        password=\"\",  # 패스워드\n",
    "                        port=5432)  # 포트"
   ]
  },
  {
   "cell_type": "markdown",
   "metadata": {},
   "source": [
    "### PostgreSQL 데이터베이스 구조 \n",
    "- 데이터베이스 > 스키마 > 테이블\n",
    "- 여러개의 데이터 베이스, 스키마, 테이블 \n",
    "- 참고자료 : http://www.gurubee.net/lecture/2942"
   ]
  },
  {
   "cell_type": "code",
   "execution_count": 3,
   "metadata": {},
   "outputs": [],
   "source": [
    "cur = conn.cursor()\n",
    "\n",
    "query = \"SELECT * FROM schema.sample_data LIMIT 100\"  # 스키마명.테이블명 \n",
    "cur.execute(query)\n",
    "\n",
    "df = pd.DataFrame(cur.fetchall(), columns=[x[0].lower() for x in cur.description])  # description 에서 컬럼명 추출 & 소문자"
   ]
  },
  {
   "cell_type": "markdown",
   "metadata": {},
   "source": [
    "### 스키마 셀렉트 (search_path)\n",
    "- 참고자료 : https://stackoverflow.com/questions/34098326/how-to-select-a-schema-in-postgres-when-using-psql"
   ]
  },
  {
   "cell_type": "code",
   "execution_count": 5,
   "metadata": {},
   "outputs": [],
   "source": [
    "chg_schema = \"SET search_path TO schema;\"  # SET search_path TO 스키마명\n",
    "cur.execute(chg_schema)"
   ]
  },
  {
   "cell_type": "code",
   "execution_count": 6,
   "metadata": {},
   "outputs": [],
   "source": [
    "query = \"SELECT * FROM sample_data LIMIT 100\"  # 테이블명 \n",
    "cur.execute(query)"
   ]
  },
  {
   "cell_type": "code",
   "execution_count": 7,
   "metadata": {},
   "outputs": [
    {
     "data": {
      "text/html": [
       "<div>\n",
       "<style scoped>\n",
       "    .dataframe tbody tr th:only-of-type {\n",
       "        vertical-align: middle;\n",
       "    }\n",
       "\n",
       "    .dataframe tbody tr th {\n",
       "        vertical-align: top;\n",
       "    }\n",
       "\n",
       "    .dataframe thead th {\n",
       "        text-align: right;\n",
       "    }\n",
       "</style>\n",
       "<table border=\"1\" class=\"dataframe\">\n",
       "  <thead>\n",
       "    <tr style=\"text-align: right;\">\n",
       "      <th></th>\n",
       "      <th>entry_id</th>\n",
       "      <th>monthkey</th>\n",
       "      <th>branch</th>\n",
       "      <th>user_id</th>\n",
       "      <th>order_id</th>\n",
       "      <th>order_dow</th>\n",
       "      <th>order_hour_of_day</th>\n",
       "      <th>reordered</th>\n",
       "      <th>product_id</th>\n",
       "      <th>product_name</th>\n",
       "      <th>price</th>\n",
       "      <th>prd_sml_cat_id</th>\n",
       "      <th>prd_sml_cat</th>\n",
       "      <th>prd_mdl_cat_id</th>\n",
       "      <th>prd_mdl_cat</th>\n",
       "    </tr>\n",
       "  </thead>\n",
       "  <tbody>\n",
       "    <tr>\n",
       "      <th>0</th>\n",
       "      <td>2.0</td>\n",
       "      <td>201901.0</td>\n",
       "      <td>강원</td>\n",
       "      <td>25800.0</td>\n",
       "      <td>932473.0</td>\n",
       "      <td>3.0</td>\n",
       "      <td>14.0</td>\n",
       "      <td>1.0</td>\n",
       "      <td>21288.0</td>\n",
       "      <td>Blackberries</td>\n",
       "      <td>56600.0</td>\n",
       "      <td>24.0</td>\n",
       "      <td>fresh fruits</td>\n",
       "      <td>4.0</td>\n",
       "      <td>produce</td>\n",
       "    </tr>\n",
       "    <tr>\n",
       "      <th>1</th>\n",
       "      <td>3.0</td>\n",
       "      <td>201901.0</td>\n",
       "      <td>강원</td>\n",
       "      <td>25800.0</td>\n",
       "      <td>932473.0</td>\n",
       "      <td>3.0</td>\n",
       "      <td>14.0</td>\n",
       "      <td>1.0</td>\n",
       "      <td>7862.0</td>\n",
       "      <td>Raw Shrimp</td>\n",
       "      <td>95000.0</td>\n",
       "      <td>34.0</td>\n",
       "      <td>frozen meat seafood</td>\n",
       "      <td>1.0</td>\n",
       "      <td>frozen</td>\n",
       "    </tr>\n",
       "    <tr>\n",
       "      <th>2</th>\n",
       "      <td>4.0</td>\n",
       "      <td>201901.0</td>\n",
       "      <td>강원</td>\n",
       "      <td>25900.0</td>\n",
       "      <td>2003271.0</td>\n",
       "      <td>5.0</td>\n",
       "      <td>21.0</td>\n",
       "      <td>0.0</td>\n",
       "      <td>9292.0</td>\n",
       "      <td>Half And Half Ultra Pasteurized</td>\n",
       "      <td>6000.0</td>\n",
       "      <td>84.0</td>\n",
       "      <td>milk</td>\n",
       "      <td>16.0</td>\n",
       "      <td>dairy eggs</td>\n",
       "    </tr>\n",
       "    <tr>\n",
       "      <th>3</th>\n",
       "      <td>5.0</td>\n",
       "      <td>201901.0</td>\n",
       "      <td>강원</td>\n",
       "      <td>25900.0</td>\n",
       "      <td>2003271.0</td>\n",
       "      <td>5.0</td>\n",
       "      <td>21.0</td>\n",
       "      <td>0.0</td>\n",
       "      <td>44359.0</td>\n",
       "      <td>Organic Small Bunch Celery</td>\n",
       "      <td>57100.0</td>\n",
       "      <td>83.0</td>\n",
       "      <td>fresh vegetables</td>\n",
       "      <td>4.0</td>\n",
       "      <td>produce</td>\n",
       "    </tr>\n",
       "    <tr>\n",
       "      <th>4</th>\n",
       "      <td>6.0</td>\n",
       "      <td>201901.0</td>\n",
       "      <td>강원</td>\n",
       "      <td>25900.0</td>\n",
       "      <td>2003271.0</td>\n",
       "      <td>5.0</td>\n",
       "      <td>21.0</td>\n",
       "      <td>1.0</td>\n",
       "      <td>27336.0</td>\n",
       "      <td>Organic Rainbow Carrots</td>\n",
       "      <td>76200.0</td>\n",
       "      <td>123.0</td>\n",
       "      <td>packaged vegetables fruits</td>\n",
       "      <td>4.0</td>\n",
       "      <td>produce</td>\n",
       "    </tr>\n",
       "  </tbody>\n",
       "</table>\n",
       "</div>"
      ],
      "text/plain": [
       "   entry_id  monthkey branch  user_id   order_id  order_dow  \\\n",
       "0       2.0  201901.0     강원  25800.0   932473.0        3.0   \n",
       "1       3.0  201901.0     강원  25800.0   932473.0        3.0   \n",
       "2       4.0  201901.0     강원  25900.0  2003271.0        5.0   \n",
       "3       5.0  201901.0     강원  25900.0  2003271.0        5.0   \n",
       "4       6.0  201901.0     강원  25900.0  2003271.0        5.0   \n",
       "\n",
       "   order_hour_of_day  reordered  product_id                     product_name  \\\n",
       "0               14.0        1.0     21288.0                     Blackberries   \n",
       "1               14.0        1.0      7862.0                       Raw Shrimp   \n",
       "2               21.0        0.0      9292.0  Half And Half Ultra Pasteurized   \n",
       "3               21.0        0.0     44359.0       Organic Small Bunch Celery   \n",
       "4               21.0        1.0     27336.0          Organic Rainbow Carrots   \n",
       "\n",
       "     price  prd_sml_cat_id                 prd_sml_cat  prd_mdl_cat_id  \\\n",
       "0  56600.0            24.0                fresh fruits             4.0   \n",
       "1  95000.0            34.0         frozen meat seafood             1.0   \n",
       "2   6000.0            84.0                        milk            16.0   \n",
       "3  57100.0            83.0            fresh vegetables             4.0   \n",
       "4  76200.0           123.0  packaged vegetables fruits             4.0   \n",
       "\n",
       "  prd_mdl_cat  \n",
       "0     produce  \n",
       "1      frozen  \n",
       "2  dairy eggs  \n",
       "3     produce  \n",
       "4     produce  "
      ]
     },
     "execution_count": 7,
     "metadata": {},
     "output_type": "execute_result"
    }
   ],
   "source": [
    "df = pd.DataFrame(cur.fetchall(), columns=[x[0].lower() for x in cur.description])  # description 에서 컬럼명 추출 & 소문자"
   ]
  },
  {
   "cell_type": "code",
   "execution_count": null,
   "metadata": {},
   "outputs": [],
   "source": []
  }
 ],
 "metadata": {
  "kernelspec": {
   "display_name": "Python 3",
   "language": "python",
   "name": "python3"
  },
  "language_info": {
   "codemirror_mode": {
    "name": "ipython",
    "version": 3
   },
   "file_extension": ".py",
   "mimetype": "text/x-python",
   "name": "python",
   "nbconvert_exporter": "python",
   "pygments_lexer": "ipython3",
   "version": "3.8.5"
  }
 },
 "nbformat": 4,
 "nbformat_minor": 4
}
