{
 "cells": [
  {
   "cell_type": "markdown",
   "id": "39ffdf39-894f-40fe-b2ed-2136a0ff90fb",
   "metadata": {},
   "source": [
    "# String to int\n",
    "- ref: https://appdividend.com/2022/03/20/how-to-convert-string-to-int64-in-golang/"
   ]
  },
  {
   "cell_type": "code",
   "execution_count": 1,
   "id": "b083ce94-c0bb-4b81-b706-d9c977d304f4",
   "metadata": {},
   "outputs": [],
   "source": [
    "// hello.go\n",
    "\n",
    "package main\n",
    "\n",
    "import (\n",
    "    \"fmt\"\n",
    "    \"strconv\"\n",
    ")\n",
    "\n",
    "func main() {\n",
    "    str := \"101\"\n",
    "    n, err := strconv.ParseInt(str, 10, 64)\n",
    "    if err == nil {\n",
    "        fmt.Printf(\"%d of type %T\", n, n)\n",
    "    }\n",
    "}"
   ]
  },
  {
   "cell_type": "code",
   "execution_count": 2,
   "id": "e772ea95-8593-4a9b-9bce-1995d2e3cad4",
   "metadata": {},
   "outputs": [
    {
     "name": "stdout",
     "output_type": "stream",
     "text": [
      "101 of type int64"
     ]
    }
   ],
   "source": [
    "main()"
   ]
  },
  {
   "cell_type": "code",
   "execution_count": null,
   "id": "6b751edc-1392-41a7-918f-5ab847de30df",
   "metadata": {},
   "outputs": [],
   "source": []
  }
 ],
 "metadata": {
  "kernelspec": {
   "display_name": "Go",
   "language": "go",
   "name": "gophernotes"
  },
  "language_info": {
   "codemirror_mode": "",
   "file_extension": ".go",
   "mimetype": "",
   "name": "go",
   "nbconvert_exporter": "",
   "pygments_lexer": "",
   "version": "go1.18.1"
  },
  "widgets": {
   "application/vnd.jupyter.widget-state+json": {
    "state": {},
    "version_major": 2,
    "version_minor": 0
   }
  }
 },
 "nbformat": 4,
 "nbformat_minor": 5
}
