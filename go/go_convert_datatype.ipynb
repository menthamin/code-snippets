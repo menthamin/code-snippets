{
 "cells": [
  {
   "cell_type": "markdown",
   "id": "61e6944d-445e-4b4a-b361-d15f1a8ca22d",
   "metadata": {},
   "source": [
    "# Convert Data Type\n",
    "- Go Standard Library: strconv"
   ]
  },
  {
   "cell_type": "code",
   "execution_count": 1,
   "id": "c7577ec8-bf2d-4699-9cdb-fb41e892f402",
   "metadata": {},
   "outputs": [],
   "source": [
    "import (\n",
    "    \"strconv\"\n",
    "    \"reflect\"\n",
    "    \"fmt\"\n",
    "    \"unsafe\"\n",
    ")"
   ]
  },
  {
   "cell_type": "code",
   "execution_count": 3,
   "id": "16fd9030-d0b5-43a1-b902-57bec9af58ca",
   "metadata": {},
   "outputs": [],
   "source": [
    "var dataInt1 int64 = 15\n",
    "dataInt2 := 15\n",
    "dataMinusInt := -15\n",
    "dataFloat := 3.141592\n",
    "dataBool := true"
   ]
  },
  {
   "cell_type": "markdown",
   "id": "6f4531fe-d689-4668-b4c9-e7e9fee101dc",
   "metadata": {},
   "source": [
    "# 1. Return String \n",
    "- Using FormatXXX functions\n",
    "- ex. FormatInt(i int64, base int)"
   ]
  },
  {
   "cell_type": "markdown",
   "id": "dd178361-c1d8-4df6-bd6a-28976a108759",
   "metadata": {},
   "source": [
    "## 1.1 Int"
   ]
  },
  {
   "cell_type": "code",
   "execution_count": 4,
   "id": "b74a8c42-e39f-4102-bee6-fcc2807c4771",
   "metadata": {},
   "outputs": [
    {
     "name": "stdout",
     "output_type": "stream",
     "text": [
      "Data Type: int64, Value: 15\n",
      "sInt1Base10 DataType: string, Value: 15\n",
      "sInt1Base16 DataType: string, Value: f\n"
     ]
    },
    {
     "data": {
      "text/plain": [
       "39 <nil>"
      ]
     },
     "execution_count": 4,
     "metadata": {},
     "output_type": "execute_result"
    }
   ],
   "source": [
    "sInt1Base10 := strconv.FormatInt(dataInt1, 10)\n",
    "sInt1Base16 := strconv.FormatInt(dataInt1, 16)\n",
    "\n",
    "fmt.Printf(\"Data Type: %s, Value: %d\\n\", reflect.TypeOf(dataInt1), dataInt1)\n",
    "fmt.Printf(\"sInt1Base10 DataType: %s, Value: %s\\n\", reflect.TypeOf(sInt1Base10), sInt1Base10)\n",
    "fmt.Printf(\"sInt1Base16 DataType: %s, Value: %s\\n\", reflect.TypeOf(sInt1Base16), sInt1Base16)"
   ]
  },
  {
   "cell_type": "code",
   "execution_count": 5,
   "id": "48fb570b-d94d-4b7f-b319-b2e9dfae2ede",
   "metadata": {},
   "outputs": [
    {
     "name": "stdout",
     "output_type": "stream",
     "text": [
      "Data Type: int, Value: 15\n",
      "sInt2Base10 DataType: string, Value: 15\n",
      "sInt2Base16 DataType: string, Value: f\n"
     ]
    },
    {
     "data": {
      "text/plain": [
       "39 <nil>"
      ]
     },
     "execution_count": 5,
     "metadata": {},
     "output_type": "execute_result"
    }
   ],
   "source": [
    "sInt2Base10 := strconv.FormatInt(int64(dataInt2), 10)\n",
    "sInt2Base16 := strconv.FormatInt(int64(dataInt2), 16)\n",
    "\n",
    "fmt.Printf(\"Data Type: %s, Value: %d\\n\", reflect.TypeOf(dataInt2), dataInt2)\n",
    "fmt.Printf(\"sInt2Base10 DataType: %s, Value: %s\\n\", reflect.TypeOf(sInt2Base10), sInt2Base10)\n",
    "fmt.Printf(\"sInt2Base16 DataType: %s, Value: %s\\n\", reflect.TypeOf(sInt2Base16), sInt2Base16)"
   ]
  },
  {
   "cell_type": "code",
   "execution_count": 6,
   "id": "539f0ca8-1a26-4e90-b981-7705fac1c331",
   "metadata": {},
   "outputs": [
    {
     "name": "stdout",
     "output_type": "stream",
     "text": [
      "Data Type: int, Value: -15\n",
      "sMinusIntBase10 DataType: string, Value: -15\n",
      "sMinusIntBase10 DataType: string, Value: -f\n"
     ]
    },
    {
     "data": {
      "text/plain": [
       "44 <nil>"
      ]
     },
     "execution_count": 6,
     "metadata": {},
     "output_type": "execute_result"
    }
   ],
   "source": [
    "sMinusIntBase10 := strconv.FormatInt(int64(dataMinusInt), 10)\n",
    "sMinusIntBase16 := strconv.FormatInt(int64(dataMinusInt), 16)\n",
    "\n",
    "fmt.Printf(\"Data Type: %s, Value: %d\\n\", reflect.TypeOf(dataMinusInt), dataMinusInt)\n",
    "fmt.Printf(\"sMinusIntBase10 DataType: %s, Value: %s\\n\", reflect.TypeOf(sMinusIntBase10), sMinusIntBase10)\n",
    "fmt.Printf(\"sMinusIntBase10 DataType: %s, Value: %s\\n\", reflect.TypeOf(sMinusIntBase16), sMinusIntBase16)"
   ]
  },
  {
   "cell_type": "code",
   "execution_count": 7,
   "id": "7746c131-877e-4dd1-b223-96bd68a7e6b8",
   "metadata": {},
   "outputs": [
    {
     "name": "stdout",
     "output_type": "stream",
     "text": [
      "Data Type: float64, Value: 3.141592\n",
      "sFloatPrecAuto(Precision Auto) DataType: string, Value: 3.141592\n",
      "sFloatPrec2(Precision 2 Digits) DataType: string, Value: 3.14\n"
     ]
    },
    {
     "data": {
      "text/plain": [
       "62 <nil>"
      ]
     },
     "execution_count": 7,
     "metadata": {},
     "output_type": "execute_result"
    }
   ],
   "source": [
    "sFloatPrecAuto := strconv.FormatFloat(dataFloat, 'f', -1, 64)\n",
    "sFloatPrec2 := strconv.FormatFloat(dataFloat, 'f', 2, 64)\n",
    "\n",
    "fmt.Printf(\"Data Type: %s, Value: %f\\n\", reflect.TypeOf(dataFloat), dataFloat)\n",
    "fmt.Printf(\"sFloatPrecAuto(Precision Auto) DataType: %s, Value: %s\\n\", reflect.TypeOf(sFloatPrecAuto), sFloatPrecAuto)\n",
    "fmt.Printf(\"sFloatPrec2(Precision 2 Digits) DataType: %s, Value: %s\\n\", reflect.TypeOf(sFloatPrec2), sFloatPrec2)\n",
    "// https://pkg.go.dev/strconv#FormatFloat"
   ]
  },
  {
   "cell_type": "code",
   "execution_count": 8,
   "id": "dee7f531-dd5e-459f-8b2e-b7c27e0744b7",
   "metadata": {},
   "outputs": [
    {
     "name": "stdout",
     "output_type": "stream",
     "text": [
      "Data Type: bool, Value: true\n",
      "sBool DataType: string, Value: true\n"
     ]
    },
    {
     "data": {
      "text/plain": [
       "36 <nil>"
      ]
     },
     "execution_count": 8,
     "metadata": {},
     "output_type": "execute_result"
    }
   ],
   "source": [
    "sBool := strconv.FormatBool(dataBool)\n",
    "\n",
    "fmt.Printf(\"Data Type: %s, Value: %t\\n\", reflect.TypeOf(dataBool), dataBool)\n",
    "fmt.Printf(\"sBool DataType: %s, Value: %s\\n\", reflect.TypeOf(sBool), sBool)\n",
    "// https://pkg.go.dev/strconv#FormatFloat"
   ]
  },
  {
   "cell_type": "markdown",
   "id": "6c75ca3a-8ec0-4a91-b58e-cc8092407c22",
   "metadata": {},
   "source": [
    "# 2. Return Int64, Float, Bool\n",
    "- Using ParseXXX functions\n",
    "- ex. ParseInt(s string, base int, bitSize int)"
   ]
  },
  {
   "cell_type": "code",
   "execution_count": 9,
   "id": "475aacfc-a130-46ca-b0d3-02028024fbd7",
   "metadata": {},
   "outputs": [],
   "source": [
    "vInt32 := \"-354634382\"\n",
    "vInt64 := \"-3546343826724305832\"\n",
    "dataFloatString := \"3.141592\"\n",
    "dataBoolString := \"true\""
   ]
  },
  {
   "cell_type": "code",
   "execution_count": 10,
   "id": "1fb264c3-0ed1-48c8-b0d0-0ea53ef0b18f",
   "metadata": {},
   "outputs": [
    {
     "name": "stdout",
     "output_type": "stream",
     "text": [
      "int64, -354634382\n",
      "int64, -354634382\n"
     ]
    }
   ],
   "source": [
    "if s, err := strconv.ParseInt(vInt32, 10, 32); err == nil {\n",
    "    fmt.Printf(\"%T, %v\\n\", s, s)\n",
    "} else {\n",
    "    fmt.Printf(\"%T, %v\\n\", err, err)\n",
    "}\n",
    "\n",
    "if s, err := strconv.ParseInt(vInt32, 10, 64); err == nil {\n",
    "    fmt.Printf(\"%T, %v\\n\", s, s)\n",
    "} else {\n",
    "    fmt.Printf(\"%T, %v\\n\", err, err)\n",
    "}"
   ]
  },
  {
   "cell_type": "code",
   "execution_count": 11,
   "id": "78d94bea-b632-4aef-9727-2377f742f515",
   "metadata": {},
   "outputs": [
    {
     "name": "stdout",
     "output_type": "stream",
     "text": [
      "*strconv.NumError, strconv.ParseInt: parsing \"-3546343826724305832\": value out of range\n",
      "int64, -3546343826724305832\n"
     ]
    }
   ],
   "source": [
    "if s, err := strconv.ParseInt(vInt64, 10, 32); err == nil {\n",
    "    fmt.Printf(\"%T, %v\\n\", s, s)\n",
    "} else {\n",
    "    fmt.Printf(\"%T, %v\\n\", err, err)\n",
    "}\n",
    "\n",
    "if s, err := strconv.ParseInt(vInt64, 10, 64); err == nil {\n",
    "    fmt.Printf(\"%T, %v\\n\", s, s)\n",
    "} else {\n",
    "    fmt.Printf(\"%T, %v\\n\", err, err)\n",
    "}"
   ]
  },
  {
   "cell_type": "code",
   "execution_count": 12,
   "id": "34177096-ae7e-4b20-ae57-c3845592845f",
   "metadata": {},
   "outputs": [
    {
     "name": "stdout",
     "output_type": "stream",
     "text": [
      "string, 3.1415926535\n",
      "\n",
      "float64, 3.1415927410125732\n",
      "float64, 3.1415926535\n"
     ]
    }
   ],
   "source": [
    "vFloat := \"3.1415926535\"\n",
    "fmt.Printf(\"%T, %v\\n\\n\", vFloat, vFloat)\n",
    "\n",
    "if s, err := strconv.ParseFloat(vFloat, 32); err == nil {\n",
    "    fmt.Printf(\"%T, %v\\n\", s, s)\n",
    "}\n",
    "if s, err := strconv.ParseFloat(vFloat, 64); err == nil {\n",
    "    fmt.Printf(\"%T, %v\\n\", s, s)\n",
    "}"
   ]
  },
  {
   "cell_type": "code",
   "execution_count": 13,
   "id": "8680df7a-a3ea-4582-a010-5e7b60ce810a",
   "metadata": {},
   "outputs": [
    {
     "name": "stdout",
     "output_type": "stream",
     "text": [
      "bool, true\n"
     ]
    }
   ],
   "source": [
    "vBool := \"true\"\n",
    "if s, err := strconv.ParseBool(vBool); err == nil {\n",
    "    fmt.Printf(\"%T, %v\\n\", s, s)\n",
    "}"
   ]
  },
  {
   "cell_type": "code",
   "execution_count": 14,
   "id": "ba5509a6-02e2-4206-8017-f1b0650425bb",
   "metadata": {},
   "outputs": [
    {
     "ename": "ERROR",
     "evalue": "repl.go:16:34: not a type: unsafe.Sizeof <*ast.SelectorExpr>",
     "output_type": "error",
     "traceback": [
      "repl.go:16:34: not a type: unsafe.Sizeof <*ast.SelectorExpr>"
     ]
    }
   ],
   "source": [
    "// https://stackoverflow.com/questions/26975738/how-to-get-memory-size-of-variable\n",
    "package main\n",
    "\n",
    "import \"fmt\"\n",
    "import \"unsafe\"\n",
    "\n",
    "func main() {\n",
    "    a := int(123)\n",
    "    b := int64(123)\n",
    "    c := \"foo\"\n",
    "    d := struct {\n",
    "        FieldA float32\n",
    "        FieldB string\n",
    "    }{0, \"bar\"}\n",
    "\n",
    "    fmt.Printf(\"a: %T, %d\\n\", a, unsafe.Sizeof(a))\n",
    "    fmt.Printf(\"b: %T, %d\\n\", b, unsafe.Sizeof(b))\n",
    "    fmt.Printf(\"c: %T, %d\\n\", c, unsafe.Sizeof(c))\n",
    "    fmt.Printf(\"d: %T, %d\\n\", d, unsafe.Sizeof(d))\n",
    "}"
   ]
  },
  {
   "cell_type": "code",
   "execution_count": null,
   "id": "8397974b-7695-4b14-a216-69b857dabe11",
   "metadata": {},
   "outputs": [],
   "source": []
  },
  {
   "cell_type": "code",
   "execution_count": null,
   "id": "8f2906aa-8efc-43ff-9991-1297afc56584",
   "metadata": {},
   "outputs": [],
   "source": []
  }
 ],
 "metadata": {
  "kernelspec": {
   "display_name": "Go",
   "language": "go",
   "name": "gophernotes"
  },
  "language_info": {
   "codemirror_mode": "",
   "file_extension": ".go",
   "mimetype": "",
   "name": "go",
   "nbconvert_exporter": "",
   "pygments_lexer": "",
   "version": "go1.19.4"
  },
  "widgets": {
   "application/vnd.jupyter.widget-state+json": {
    "state": {},
    "version_major": 2,
    "version_minor": 0
   }
  }
 },
 "nbformat": 4,
 "nbformat_minor": 5
}
