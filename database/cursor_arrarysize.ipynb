{
 "cells": [
  {
   "cell_type": "markdown",
   "metadata": {},
   "source": [
    "# Database Connection Cursor\n",
    "+ Arraysize 설정에 따른 Select 속도 테스트"
   ]
  },
  {
   "cell_type": "code",
   "execution_count": 5,
   "metadata": {},
   "outputs": [],
   "source": [
    "import sys\n",
    "import datetime\n",
    "import pandas as pd\n",
    "import config.config as config\n",
    "import connector.OracleConnector as OracleConnector"
   ]
  },
  {
   "cell_type": "markdown",
   "metadata": {},
   "source": [
    "### Database connection"
   ]
  },
  {
   "cell_type": "code",
   "execution_count": 40,
   "metadata": {},
   "outputs": [],
   "source": [
    "Oracle = OracleConnector.OracleConnector(\"oracle\", config.db)\n",
    "conn = Oracle.connect()"
   ]
  },
  {
   "cell_type": "markdown",
   "metadata": {},
   "source": [
    "### arraysize 별 테스트\n",
    "+ sample_date 총 rows : 약 130만 행"
   ]
  },
  {
   "cell_type": "code",
   "execution_count": 45,
   "metadata": {},
   "outputs": [
    {
     "name": "stdout",
     "output_type": "stream",
     "text": [
      "arrarysize 500 took... 0:00:36.167917\n",
      "arrarysize 5000 took... 0:00:20.191881\n",
      "arrarysize 10000 took... 0:00:18.990301\n",
      "arrarysize 50000 took... 0:00:16.196012\n",
      "arrarysize 100000 took... 0:00:16.256803\n"
     ]
    }
   ],
   "source": [
    "cur = conn.cursor()\n",
    "query = \"select * from sample_data\"\n",
    "\n",
    "# %timeit -n 1 -r 1 cur.execute(query).fetchall()\n",
    "\n",
    "array_sizes = [500, 5000, 10000, 50000, 100000]\n",
    "for size in array_sizes:\n",
    "    cur = conn.cursor()\n",
    "    cur.arraysize = size\n",
    "    start_time = datetime.datetime.today()\n",
    "    results = cur.execute(query).fetchall()\n",
    "    end_time = datetime.datetime.today()\n",
    "    cur.close()\n",
    "    print(\"arrarysize {size} took...\".format(size=size), end_time - start_time)"
   ]
  },
  {
   "cell_type": "markdown",
   "metadata": {},
   "source": [
    "### 참고자료\n",
    "+ https://reoim.tistory.com/entry/Oracle-array-size\n",
    "+ https://github.com/oracle/python-cx_Oracle/issues/139"
   ]
  },
  {
   "cell_type": "code",
   "execution_count": null,
   "metadata": {},
   "outputs": [],
   "source": []
  }
 ],
 "metadata": {
  "kernelspec": {
   "display_name": "Python 3",
   "language": "python",
   "name": "python3"
  },
  "language_info": {
   "codemirror_mode": {
    "name": "ipython",
    "version": 3
   },
   "file_extension": ".py",
   "mimetype": "text/x-python",
   "name": "python",
   "nbconvert_exporter": "python",
   "pygments_lexer": "ipython3",
   "version": "3.8.5"
  }
 },
 "nbformat": 4,
 "nbformat_minor": 5
}
