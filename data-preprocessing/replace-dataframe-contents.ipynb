{
 "nbformat": 4,
 "nbformat_minor": 0,
 "metadata": {
  "colab": {
   "provenance": [],
   "collapsed_sections": [],
   "authorship_tag": "ABX9TyMYFIx4hKZzEY1OlzGMavfJ"
  },
  "kernelspec": {
   "name": "python3",
   "display_name": "Python 3"
  },
  "language_info": {
   "name": "python"
  }
 },
 "cells": [
  {
   "cell_type": "markdown",
   "source": [
    "# Replace contents of dataframe column1. Using For Loop\n",
    "1. For Loops\n",
    "2. Using map()\n",
    "    - https://www.dacon.io/en/codeshare/586"
   ],
   "metadata": {
    "collapsed": false,
    "pycharm": {
     "name": "#%% md\n"
    }
   }
  },
  {
   "cell_type": "code",
   "execution_count": 2,
   "metadata": {
    "colab": {
     "base_uri": "https://localhost:8080/"
    },
    "id": "1KaTiMqqPFDz",
    "executionInfo": {
     "status": "ok",
     "timestamp": 1668330895713,
     "user_tz": -540,
     "elapsed": 24869,
     "user": {
      "displayName": "Jongmin Jeon",
      "userId": "04893227924523655705"
     }
    },
    "outputId": "92b0f940-43d7-445a-f438-e453797225e6",
    "pycharm": {
     "name": "#%%\n"
    }
   },
   "outputs": [],
   "source": [
    "import pandas as pd"
   ]
  },
  {
   "cell_type": "markdown",
   "source": [
    "## 1. Make Dictionary"
   ],
   "metadata": {
    "collapsed": false,
    "pycharm": {
     "name": "#%% md\n"
    }
   }
  },
  {
   "cell_type": "code",
   "source": [
    "df_replace_dict = pd.read_csv(\"data/replace_dict.csv\")\n",
    "replace_dict = dict(zip(df_replace_dict[\"src\"], df_replace_dict[\"dst\"]))"
   ],
   "metadata": {
    "id": "3GizN0W7QwuW",
    "executionInfo": {
     "status": "ok",
     "timestamp": 1668331189817,
     "user_tz": -540,
     "elapsed": 2,
     "user": {
      "displayName": "Jongmin Jeon",
      "userId": "04893227924523655705"
     }
    },
    "pycharm": {
     "name": "#%%\n"
    }
   },
   "execution_count": 3,
   "outputs": []
  },
  {
   "cell_type": "code",
   "source": [
    "replace_dict"
   ],
   "metadata": {
    "colab": {
     "base_uri": "https://localhost:8080/"
    },
    "id": "EXPqcUaXRh1J",
    "executionInfo": {
     "status": "ok",
     "timestamp": 1668331201566,
     "user_tz": -540,
     "elapsed": 5,
     "user": {
      "displayName": "Jongmin Jeon",
      "userId": "04893227924523655705"
     }
    },
    "outputId": "75a7608a-1cfa-4b45-dfab-633f5c900096",
    "pycharm": {
     "name": "#%%\n"
    }
   },
   "execution_count": 4,
   "outputs": [
    {
     "data": {
      "text/plain": "{'A': 'AA', 'C': 'CC', 'D': 'DD', 'Z': 'ZZ'}"
     },
     "execution_count": 4,
     "metadata": {},
     "output_type": "execute_result"
    }
   ]
  },
  {
   "cell_type": "markdown",
   "source": [
    "## 2. Read Table"
   ],
   "metadata": {
    "collapsed": false,
    "pycharm": {
     "name": "#%% md\n"
    }
   }
  },
  {
   "cell_type": "code",
   "source": [
    "df = pd.read_csv(\"data/replace_table.csv\")"
   ],
   "metadata": {
    "id": "x-xmI2FPSd12",
    "executionInfo": {
     "status": "ok",
     "timestamp": 1668331214052,
     "user_tz": -540,
     "elapsed": 2,
     "user": {
      "displayName": "Jongmin Jeon",
      "userId": "04893227924523655705"
     }
    },
    "pycharm": {
     "name": "#%%\n"
    }
   },
   "execution_count": 5,
   "outputs": []
  },
  {
   "cell_type": "code",
   "source": [
    "df"
   ],
   "metadata": {
    "colab": {
     "base_uri": "https://localhost:8080/",
     "height": 426
    },
    "id": "88o8oo_lSg9m",
    "executionInfo": {
     "status": "ok",
     "timestamp": 1668331217201,
     "user_tz": -540,
     "elapsed": 5,
     "user": {
      "displayName": "Jongmin Jeon",
      "userId": "04893227924523655705"
     }
    },
    "outputId": "eed1ee99-af78-4948-d879-76f8177aeb05",
    "pycharm": {
     "name": "#%%\n"
    }
   },
   "execution_count": 6,
   "outputs": [
    {
     "data": {
      "text/plain": "    id name\n0    1    A\n1    2    A\n2    3    B\n3    4    B\n4    5    C\n5    6    C\n6    7    D\n7    8    D\n8    9    E\n9   10    E\n10  11    F\n11  12    Z",
      "text/html": "<div>\n<style scoped>\n    .dataframe tbody tr th:only-of-type {\n        vertical-align: middle;\n    }\n\n    .dataframe tbody tr th {\n        vertical-align: top;\n    }\n\n    .dataframe thead th {\n        text-align: right;\n    }\n</style>\n<table border=\"1\" class=\"dataframe\">\n  <thead>\n    <tr style=\"text-align: right;\">\n      <th></th>\n      <th>id</th>\n      <th>name</th>\n    </tr>\n  </thead>\n  <tbody>\n    <tr>\n      <th>0</th>\n      <td>1</td>\n      <td>A</td>\n    </tr>\n    <tr>\n      <th>1</th>\n      <td>2</td>\n      <td>A</td>\n    </tr>\n    <tr>\n      <th>2</th>\n      <td>3</td>\n      <td>B</td>\n    </tr>\n    <tr>\n      <th>3</th>\n      <td>4</td>\n      <td>B</td>\n    </tr>\n    <tr>\n      <th>4</th>\n      <td>5</td>\n      <td>C</td>\n    </tr>\n    <tr>\n      <th>5</th>\n      <td>6</td>\n      <td>C</td>\n    </tr>\n    <tr>\n      <th>6</th>\n      <td>7</td>\n      <td>D</td>\n    </tr>\n    <tr>\n      <th>7</th>\n      <td>8</td>\n      <td>D</td>\n    </tr>\n    <tr>\n      <th>8</th>\n      <td>9</td>\n      <td>E</td>\n    </tr>\n    <tr>\n      <th>9</th>\n      <td>10</td>\n      <td>E</td>\n    </tr>\n    <tr>\n      <th>10</th>\n      <td>11</td>\n      <td>F</td>\n    </tr>\n    <tr>\n      <th>11</th>\n      <td>12</td>\n      <td>Z</td>\n    </tr>\n  </tbody>\n</table>\n</div>"
     },
     "execution_count": 6,
     "metadata": {},
     "output_type": "execute_result"
    }
   ]
  },
  {
   "cell_type": "markdown",
   "source": [
    "## 3. Replace Table"
   ],
   "metadata": {
    "collapsed": false,
    "pycharm": {
     "name": "#%% md\n"
    }
   }
  },
  {
   "cell_type": "markdown",
   "source": [
    "### 3.1. Replace Table: For loops"
   ],
   "metadata": {
    "collapsed": false,
    "pycharm": {
     "name": "#%% md\n"
    }
   }
  },
  {
   "cell_type": "code",
   "execution_count": 7,
   "outputs": [],
   "source": [
    "new_name = []\n",
    "for value in df[\"name\"]:\n",
    "  if value in replace_dict:\n",
    "    new_name.append(replace_dict[value])\n",
    "  else:\n",
    "    new_name.append(value)"
   ],
   "metadata": {
    "collapsed": false,
    "pycharm": {
     "name": "#%%\n"
    }
   }
  },
  {
   "cell_type": "code",
   "execution_count": 8,
   "outputs": [
    {
     "data": {
      "text/plain": "['AA', 'AA', 'B', 'B', 'CC', 'CC', 'DD', 'DD', 'E', 'E', 'F', 'ZZ']"
     },
     "execution_count": 8,
     "metadata": {},
     "output_type": "execute_result"
    }
   ],
   "source": [
    "new_name"
   ],
   "metadata": {
    "collapsed": false,
    "pycharm": {
     "name": "#%%\n"
    }
   }
  },
  {
   "cell_type": "code",
   "execution_count": 9,
   "outputs": [],
   "source": [
    "df[\"new_name_1\"] = new_name"
   ],
   "metadata": {
    "collapsed": false,
    "pycharm": {
     "name": "#%%\n"
    }
   }
  },
  {
   "cell_type": "code",
   "execution_count": 10,
   "outputs": [
    {
     "data": {
      "text/plain": "    id name new_name_1\n0    1    A         AA\n1    2    A         AA\n2    3    B          B\n3    4    B          B\n4    5    C         CC\n5    6    C         CC\n6    7    D         DD\n7    8    D         DD\n8    9    E          E\n9   10    E          E\n10  11    F          F\n11  12    Z         ZZ",
      "text/html": "<div>\n<style scoped>\n    .dataframe tbody tr th:only-of-type {\n        vertical-align: middle;\n    }\n\n    .dataframe tbody tr th {\n        vertical-align: top;\n    }\n\n    .dataframe thead th {\n        text-align: right;\n    }\n</style>\n<table border=\"1\" class=\"dataframe\">\n  <thead>\n    <tr style=\"text-align: right;\">\n      <th></th>\n      <th>id</th>\n      <th>name</th>\n      <th>new_name_1</th>\n    </tr>\n  </thead>\n  <tbody>\n    <tr>\n      <th>0</th>\n      <td>1</td>\n      <td>A</td>\n      <td>AA</td>\n    </tr>\n    <tr>\n      <th>1</th>\n      <td>2</td>\n      <td>A</td>\n      <td>AA</td>\n    </tr>\n    <tr>\n      <th>2</th>\n      <td>3</td>\n      <td>B</td>\n      <td>B</td>\n    </tr>\n    <tr>\n      <th>3</th>\n      <td>4</td>\n      <td>B</td>\n      <td>B</td>\n    </tr>\n    <tr>\n      <th>4</th>\n      <td>5</td>\n      <td>C</td>\n      <td>CC</td>\n    </tr>\n    <tr>\n      <th>5</th>\n      <td>6</td>\n      <td>C</td>\n      <td>CC</td>\n    </tr>\n    <tr>\n      <th>6</th>\n      <td>7</td>\n      <td>D</td>\n      <td>DD</td>\n    </tr>\n    <tr>\n      <th>7</th>\n      <td>8</td>\n      <td>D</td>\n      <td>DD</td>\n    </tr>\n    <tr>\n      <th>8</th>\n      <td>9</td>\n      <td>E</td>\n      <td>E</td>\n    </tr>\n    <tr>\n      <th>9</th>\n      <td>10</td>\n      <td>E</td>\n      <td>E</td>\n    </tr>\n    <tr>\n      <th>10</th>\n      <td>11</td>\n      <td>F</td>\n      <td>F</td>\n    </tr>\n    <tr>\n      <th>11</th>\n      <td>12</td>\n      <td>Z</td>\n      <td>ZZ</td>\n    </tr>\n  </tbody>\n</table>\n</div>"
     },
     "execution_count": 10,
     "metadata": {},
     "output_type": "execute_result"
    }
   ],
   "source": [
    "df"
   ],
   "metadata": {
    "collapsed": false,
    "pycharm": {
     "name": "#%%\n"
    }
   }
  },
  {
   "cell_type": "markdown",
   "source": [
    "### 3.2. Replace Table: Using map()"
   ],
   "metadata": {
    "collapsed": false,
    "pycharm": {
     "name": "#%% md\n"
    }
   }
  },
  {
   "cell_type": "code",
   "source": [
    "df[\"name\"].map(replace_dict)"
   ],
   "metadata": {
    "colab": {
     "base_uri": "https://localhost:8080/"
    },
    "id": "T0DximxlShwQ",
    "executionInfo": {
     "status": "ok",
     "timestamp": 1668331560206,
     "user_tz": -540,
     "elapsed": 6,
     "user": {
      "displayName": "Jongmin Jeon",
      "userId": "04893227924523655705"
     }
    },
    "outputId": "20832af9-c3e6-4413-cdf4-1de2ed6c10d6",
    "pycharm": {
     "name": "#%%\n"
    }
   },
   "execution_count": 11,
   "outputs": [
    {
     "data": {
      "text/plain": "0      AA\n1      AA\n2     NaN\n3     NaN\n4      CC\n5      CC\n6      DD\n7      DD\n8     NaN\n9     NaN\n10    NaN\n11     ZZ\nName: name, dtype: object"
     },
     "execution_count": 11,
     "metadata": {},
     "output_type": "execute_result"
    }
   ]
  },
  {
   "cell_type": "code",
   "execution_count": 12,
   "outputs": [],
   "source": [
    "# object.__missing__(self, key)\n",
    "#- https://blog.finxter.com/python-__missing__-magic-method/"
   ],
   "metadata": {
    "collapsed": false,
    "pycharm": {
     "name": "#%%\n"
    }
   }
  },
  {
   "cell_type": "code",
   "source": [
    "class My_Dict_Subclass(dict):\n",
    "  def __missing__(self, key):\n",
    "    return key"
   ],
   "metadata": {
    "id": "dANyVSnASxEi",
    "executionInfo": {
     "status": "ok",
     "timestamp": 1668332121495,
     "user_tz": -540,
     "elapsed": 1,
     "user": {
      "displayName": "Jongmin Jeon",
      "userId": "04893227924523655705"
     }
    },
    "pycharm": {
     "name": "#%%\n"
    }
   },
   "execution_count": 13,
   "outputs": []
  },
  {
   "cell_type": "code",
   "source": [
    "replace_dict = My_Dict_Subclass(replace_dict)"
   ],
   "metadata": {
    "id": "4dn-NqbhV-gR",
    "executionInfo": {
     "status": "ok",
     "timestamp": 1668332140467,
     "user_tz": -540,
     "elapsed": 1,
     "user": {
      "displayName": "Jongmin Jeon",
      "userId": "04893227924523655705"
     }
    },
    "pycharm": {
     "name": "#%%\n"
    }
   },
   "execution_count": 14,
   "outputs": []
  },
  {
   "cell_type": "code",
   "source": [
    "df[\"name\"].map(replace_dict)"
   ],
   "metadata": {
    "colab": {
     "base_uri": "https://localhost:8080/"
    },
    "id": "a1kIqUn5WDPj",
    "executionInfo": {
     "status": "ok",
     "timestamp": 1668332152656,
     "user_tz": -540,
     "elapsed": 4,
     "user": {
      "displayName": "Jongmin Jeon",
      "userId": "04893227924523655705"
     }
    },
    "outputId": "137c2547-1e8e-4867-ee64-96086248820b",
    "pycharm": {
     "name": "#%%\n"
    }
   },
   "execution_count": 15,
   "outputs": [
    {
     "data": {
      "text/plain": "0     AA\n1     AA\n2      B\n3      B\n4     CC\n5     CC\n6     DD\n7     DD\n8      E\n9      E\n10     F\n11    ZZ\nName: name, dtype: object"
     },
     "execution_count": 15,
     "metadata": {},
     "output_type": "execute_result"
    }
   ]
  },
  {
   "cell_type": "code",
   "execution_count": 16,
   "outputs": [],
   "source": [
    "df[\"new_name_2\"] = df[\"name\"].map(replace_dict)"
   ],
   "metadata": {
    "collapsed": false,
    "pycharm": {
     "name": "#%%\n"
    }
   }
  },
  {
   "cell_type": "code",
   "execution_count": 17,
   "outputs": [
    {
     "data": {
      "text/plain": "    id name new_name_1 new_name_2\n0    1    A         AA         AA\n1    2    A         AA         AA\n2    3    B          B          B\n3    4    B          B          B\n4    5    C         CC         CC\n5    6    C         CC         CC\n6    7    D         DD         DD\n7    8    D         DD         DD\n8    9    E          E          E\n9   10    E          E          E\n10  11    F          F          F\n11  12    Z         ZZ         ZZ",
      "text/html": "<div>\n<style scoped>\n    .dataframe tbody tr th:only-of-type {\n        vertical-align: middle;\n    }\n\n    .dataframe tbody tr th {\n        vertical-align: top;\n    }\n\n    .dataframe thead th {\n        text-align: right;\n    }\n</style>\n<table border=\"1\" class=\"dataframe\">\n  <thead>\n    <tr style=\"text-align: right;\">\n      <th></th>\n      <th>id</th>\n      <th>name</th>\n      <th>new_name_1</th>\n      <th>new_name_2</th>\n    </tr>\n  </thead>\n  <tbody>\n    <tr>\n      <th>0</th>\n      <td>1</td>\n      <td>A</td>\n      <td>AA</td>\n      <td>AA</td>\n    </tr>\n    <tr>\n      <th>1</th>\n      <td>2</td>\n      <td>A</td>\n      <td>AA</td>\n      <td>AA</td>\n    </tr>\n    <tr>\n      <th>2</th>\n      <td>3</td>\n      <td>B</td>\n      <td>B</td>\n      <td>B</td>\n    </tr>\n    <tr>\n      <th>3</th>\n      <td>4</td>\n      <td>B</td>\n      <td>B</td>\n      <td>B</td>\n    </tr>\n    <tr>\n      <th>4</th>\n      <td>5</td>\n      <td>C</td>\n      <td>CC</td>\n      <td>CC</td>\n    </tr>\n    <tr>\n      <th>5</th>\n      <td>6</td>\n      <td>C</td>\n      <td>CC</td>\n      <td>CC</td>\n    </tr>\n    <tr>\n      <th>6</th>\n      <td>7</td>\n      <td>D</td>\n      <td>DD</td>\n      <td>DD</td>\n    </tr>\n    <tr>\n      <th>7</th>\n      <td>8</td>\n      <td>D</td>\n      <td>DD</td>\n      <td>DD</td>\n    </tr>\n    <tr>\n      <th>8</th>\n      <td>9</td>\n      <td>E</td>\n      <td>E</td>\n      <td>E</td>\n    </tr>\n    <tr>\n      <th>9</th>\n      <td>10</td>\n      <td>E</td>\n      <td>E</td>\n      <td>E</td>\n    </tr>\n    <tr>\n      <th>10</th>\n      <td>11</td>\n      <td>F</td>\n      <td>F</td>\n      <td>F</td>\n    </tr>\n    <tr>\n      <th>11</th>\n      <td>12</td>\n      <td>Z</td>\n      <td>ZZ</td>\n      <td>ZZ</td>\n    </tr>\n  </tbody>\n</table>\n</div>"
     },
     "execution_count": 17,
     "metadata": {},
     "output_type": "execute_result"
    }
   ],
   "source": [
    "df"
   ],
   "metadata": {
    "collapsed": false,
    "pycharm": {
     "name": "#%%\n"
    }
   }
  },
  {
   "cell_type": "code",
   "execution_count": 17,
   "outputs": [],
   "source": [],
   "metadata": {
    "collapsed": false,
    "pycharm": {
     "name": "#%%\n"
    }
   }
  }
 ]
}