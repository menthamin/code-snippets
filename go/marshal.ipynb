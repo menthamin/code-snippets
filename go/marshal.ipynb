{
 "cells": [
  {
   "cell_type": "code",
   "execution_count": 9,
   "id": "eabef549-080b-40a5-8bf1-d98d664d1fa4",
   "metadata": {},
   "outputs": [
    {
     "ename": "ERROR",
     "evalue": "repl.go:20:21: cannot convert string to uint8: data",
     "output_type": "error",
     "traceback": [
      "repl.go:20:21: cannot convert string to uint8: data"
     ]
    }
   ],
   "source": [
    "import \"encoding/json\"\n",
    "\n",
    "type LinkRequestBodyData struct {\n",
    "\tCustomerId\t\t\t\t\t\t\tstring \t`json:\"customer_id\"`\n",
    "\tManagerId\t\t\t\t\t\t\tstring \t`json:\"manager_id\"`\n",
    "\tCustomerClientLinkResourceName\t\tstring \t`json:\"customer_client_link_resource_name\"`\n",
    "\tIsError\t\t\t\t\t\t\t\tbool \t`json:\"is_error\"`\n",
    "\tErrorCode\t\t\t\t\t\t\tstring \t`json:\"error_code\"`\n",
    "\tErrorMessage\t\t\t\t\t\tstring \t`json:\"error_message\"`\n",
    "\tErrorName\t\t\t\t\t\t\tstring\t`json:\"error_name\"`\n",
    "}\n",
    "\n",
    "type LinkRequestBody struct {\n",
    "\tData []LinkRequestBodyData `json:\"data\"`\n",
    "}\n",
    "\n",
    "data := `{\"data\": {\"customer_id\": \"12345\", \"manager_id\": \"67890\", \"customer_client_link_resource_name\": null, \"is_error\": true, \"error_code\": null, \"error_message\": \"Client is already invited by this manager.\", \"error_name\": \"ALREADY_INVITED_BY_THIS_MANAGER\"}}`\n",
    "\n",
    "linkRequestBody := LinkRequestBody{}\n",
    "json.Unmarshal(byte(data), &linkRequestBody)"
   ]
  },
  {
   "cell_type": "code",
   "execution_count": null,
   "id": "0612bd28-9dfe-41c9-8060-511e37e18f71",
   "metadata": {},
   "outputs": [],
   "source": []
  }
 ],
 "metadata": {
  "kernelspec": {
   "display_name": "Go",
   "language": "go",
   "name": "gophernotes"
  },
  "language_info": {
   "codemirror_mode": "",
   "file_extension": ".go",
   "mimetype": "",
   "name": "go",
   "nbconvert_exporter": "",
   "pygments_lexer": "",
   "version": "go1.18.1"
  },
  "widgets": {
   "application/vnd.jupyter.widget-state+json": {
    "state": {},
    "version_major": 2,
    "version_minor": 0
   }
  }
 },
 "nbformat": 4,
 "nbformat_minor": 5
}
