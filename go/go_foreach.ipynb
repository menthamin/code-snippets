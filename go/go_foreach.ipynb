{
 "cells": [
  {
   "cell_type": "markdown",
   "id": "ae1bbd24-39f1-492b-abb5-ce442bad1625",
   "metadata": {},
   "source": [
    "# Go foreach\n",
    "- https://ponyozzang.tistory.com/470"
   ]
  },
  {
   "cell_type": "code",
   "execution_count": 1,
   "id": "e6179e5b-d2ea-466f-be30-9673d912b1e9",
   "metadata": {},
   "outputs": [],
   "source": [
    "import (\n",
    "    \"fmt\"\n",
    "    \"reflect\"\n",
    "    \"encoding/json\"\n",
    "    \"io/ioutil\"\n",
    "    \"os\"\n",
    "    \"bytes\"\n",
    "    \"time\"\n",
    ")"
   ]
  },
  {
   "cell_type": "code",
   "execution_count": 13,
   "id": "4394c50c-29a6-4637-9201-c025fdad815f",
   "metadata": {},
   "outputs": [
    {
     "name": "stdout",
     "output_type": "stream",
     "text": [
      "[{123456789 customers/123456789/conversionActions/123459028 123459028 Purchase Paid AW-12345 0cBDCMTCu4 false} {123456789 customers/123456789/conversionActions/1234039749 1234039749 Initiate Checkout AW-12345 GpK3CMWyvY false} {123456789 customers/123456789/conversionActions/1234039752 1234039752 Purchase AW-12345 2-L2CMiyvY false} {123456789 customers/123456789/conversionActions/1234039776 1234039776 Add To Cart AW-12345 MTH_COCyvY false} {123456789 customers/123456789/conversionActions/1234087072 1234087072 Page View AW-12345 b9MVCKCkwI false}]\n"
     ]
    },
    {
     "data": {
      "text/plain": [
       "553 <nil>"
      ]
     },
     "execution_count": 13,
     "metadata": {},
     "output_type": "execute_result"
    }
   ],
   "source": [
    "type conversionTagInfo struct{\n",
    "    CustomerId int64 `json:\"customer_id\"`\n",
    "    ResourceName string `json:\"resource_name\"`\n",
    "    ConversionActionId int64 `json:\"conversion_action_id\"`\n",
    "    ConversionActionName string `json:\"conversion_action_name\"`\n",
    "    ConversionActionTagId string `json:\"conversion_tag_id\"`\n",
    "    ConversionActionTagLabel string `json:\"conversion_tag_label\"`\n",
    "    Erorr bool\n",
    "}\n",
    "\n",
    "type tagResponse struct {\n",
    "    Data []conversionTagInfo `json:\"data\"`\n",
    "}\n",
    "\n",
    "data := `{\"data\": [\n",
    "    {\n",
    "      \"customer_id\": 123456789,\n",
    "      \"resource_name\": \"customers/123456789/conversionActions/123459028\",\n",
    "      \"conversion_action_id\": 123459028,\n",
    "      \"conversion_action_name\": \"Purchase Paid\",\n",
    "      \"conversion_tag_id\": \"AW-12345\",\n",
    "      \"conversion_tag_label\": \"0cBDCMTCu4\",\n",
    "      \"error\": false\n",
    "    },\n",
    "    {\n",
    "      \"customer_id\": 123456789,\n",
    "      \"resource_name\": \"customers/123456789/conversionActions/1234039749\",\n",
    "      \"conversion_action_id\": 1234039749,\n",
    "      \"conversion_action_name\": \"Initiate Checkout\",\n",
    "      \"conversion_tag_id\": \"AW-12345\",\n",
    "      \"conversion_tag_label\": \"GpK3CMWyvY\",\n",
    "      \"error\": false\n",
    "    },\n",
    "    {\n",
    "      \"customer_id\": 123456789,\n",
    "      \"resource_name\": \"customers/123456789/conversionActions/1234039752\",\n",
    "      \"conversion_action_id\": 1234039752,\n",
    "      \"conversion_action_name\": \"Purchase\",\n",
    "      \"conversion_tag_id\": \"AW-12345\",\n",
    "      \"conversion_tag_label\": \"2-L2CMiyvY\",\n",
    "      \"error\": false\n",
    "    },\n",
    "    {\n",
    "      \"customer_id\": 123456789,\n",
    "      \"resource_name\": \"customers/123456789/conversionActions/1234039776\",\n",
    "      \"conversion_action_id\": 1234039776,\n",
    "      \"conversion_action_name\": \"Add To Cart\",\n",
    "      \"conversion_tag_id\": \"AW-12345\",\n",
    "      \"conversion_tag_label\": \"MTH_COCyvY\",\n",
    "      \"error\": false\n",
    "    },\n",
    "    {\n",
    "      \"customer_id\": 123456789,\n",
    "      \"resource_name\": \"customers/123456789/conversionActions/1234087072\",\n",
    "      \"conversion_action_id\": 1234087072,\n",
    "      \"conversion_action_name\": \"Page View\",\n",
    "      \"conversion_tag_id\": \"AW-12345\",\n",
    "      \"conversion_tag_label\": \"b9MVCKCkwI\",\n",
    "      \"error\": false\n",
    "    }\n",
    "  ]}`\n",
    "tagData := tagResponse{}\n",
    "json.Unmarshal([]byte(data), &tagData)\n",
    "fmt.Println(tagData.Data)"
   ]
  },
  {
   "cell_type": "code",
   "execution_count": 14,
   "id": "7c9cf127-543b-40f7-be23-2335b25e884d",
   "metadata": {},
   "outputs": [
    {
     "name": "stdout",
     "output_type": "stream",
     "text": [
      "123456789\n",
      "customers/123456789/conversionActions/123459028\n",
      "123456789\n",
      "customers/123456789/conversionActions/1234039749\n",
      "123456789\n",
      "customers/123456789/conversionActions/1234039752\n",
      "123456789\n",
      "customers/123456789/conversionActions/1234039776\n",
      "123456789\n",
      "customers/123456789/conversionActions/1234087072\n"
     ]
    }
   ],
   "source": [
    "for _, value := range tagData.Data {\n",
    "    fmt.Println(value.CustomerId)\n",
    "    fmt.Println(value.ResourceName)\n",
    "}"
   ]
  },
  {
   "cell_type": "markdown",
   "id": "55eb7347-136d-4240-b2ad-cdc63596c03e",
   "metadata": {},
   "source": [
    "# Make Slice for Insert"
   ]
  },
  {
   "cell_type": "code",
   "execution_count": 21,
   "id": "267b8b21-bd7e-40ae-bcdb-89f7aca565c3",
   "metadata": {},
   "outputs": [],
   "source": [
    "type GoogleAdsVendorConversionTags struct {\n",
    "\t// BaseModel\n",
    "\tID        \t\t\t\tint64      \t`orm:\"column(id);auto\" json:\"id\"`\n",
    "\tGoogleAdsVendorLinkId\t\tstring\t\t`orm:\"column(google_ads_vendor_link_id);\" json:\"google_ads_vendor_link_id,omitempty\"`\n",
    "\tCustomerId\t\t\t\t\tint64\t\t`orm:\"column(customer_id);\" json:\"customer_id,omitempty\"`\n",
    "\tResourceName\t\t\t\tstring\t\t`orm:\"column(resource_name);\" json:\"resource_name,omitempty\"`\n",
    "\tConversionActionId\t\tint64\t\t`orm:\"column(conversion_action_id);\" json:\"conversion_action_id,omitempty\"`\n",
    "\tConversionActionName\t\tstring\t\t`orm:\"column(conversion_action_name);\" json:\"conversion_action_name,omitempty\"`\n",
    "\tConversionActionTagId\t\t\t\tstring\t\t`orm:\"column(conversion_action_tag_id);\" json:\"conversion_action_tag_id,omitempty\"`\n",
    "\tConversionActionTagLabel\t\t\tstring\t\t`orm:\"column(conversion_action_tag_label);\" json:\"conversion_action_tag_label,omitempty\"`\n",
    "\tCreatedAt \t\t\t\t*time.Time \t`orm:\"column(created_at);type(timestamp);auto_now_add;null\" json:\"createdAt,omitempty\"`\n",
    "\tUpdatedAt \t\t\t\t*time.Time \t`orm:\"column(updated_at);type(timestamp);auto_now;null\" json:\"updatedAt,omitempty\"`\n",
    "\tDeletedAt  \t\t\t\t*time.Time \t`orm:\"column(deleted_at);type(timestamp);null\" json:\"deletedAt,omitempty\"`\n",
    "}"
   ]
  },
  {
   "cell_type": "code",
   "execution_count": 22,
   "id": "6cd3c9be-634d-41a9-bdc5-9e1d1b7efb9d",
   "metadata": {},
   "outputs": [
    {
     "data": {
      "text/plain": [
       "true"
      ]
     },
     "execution_count": 22,
     "metadata": {},
     "output_type": "execute_result"
    }
   ],
   "source": [
    "tagData.Data[0].Erorr == false"
   ]
  },
  {
   "cell_type": "code",
   "execution_count": 23,
   "id": "a445853e-0c4b-40d9-bfb0-f75cd9f2b1ec",
   "metadata": {},
   "outputs": [],
   "source": [
    "insertTagData := []GoogleAdsVendorConversionTags{}\n",
    "for _, value := range tagData.Data {\n",
    "    if value.Erorr ==  true {\n",
    "        continue\n",
    "    } else {\n",
    "        tempTagData := GoogleAdsVendorConversionTags{}\n",
    "        tempTagData.CustomerId = value.CustomerId\n",
    "        tempTagData.CustomerId = value.CustomerId\n",
    "        tempTagData.ResourceName = value.ResourceName\n",
    "        tempTagData.ConversionActionId = value.ConversionActionId\n",
    "        tempTagData.ConversionActionName = value.ConversionActionName\n",
    "        tempTagData.ConversionActionTagId = value.ConversionActionTagId\n",
    "        tempTagData.ConversionActionTagLabel = value.ConversionActionTagLabel\n",
    "        \n",
    "        insertTagData = append(insertTagData, tempTagData)\n",
    "    }\n",
    "}"
   ]
  },
  {
   "cell_type": "code",
   "execution_count": 24,
   "id": "10795ad9-1a52-4b31-8d70-ac8ebcd4c693",
   "metadata": {},
   "outputs": [
    {
     "data": {
      "text/plain": [
       "{0  123456789 customers/123456789/conversionActions/123459028 123459028 Purchase Paid AW-12345 0cBDCMTCu4 <nil> <nil> <nil>}"
      ]
     },
     "execution_count": 24,
     "metadata": {},
     "output_type": "execute_result"
    }
   ],
   "source": [
    "insertTagData[0]"
   ]
  },
  {
   "cell_type": "code",
   "execution_count": 25,
   "id": "12a7cf26-eeb5-4040-a9af-0ad88449d592",
   "metadata": {},
   "outputs": [
    {
     "data": {
      "text/plain": [
       "[]struct { ID int64 \"orm:\\\"column(id);auto\\\" json:\\\"id\\\"\"; GoogleAdsVendorLinkId string \"orm:\\\"column(google_ads_vendor_link_id);\\\" json:\\\"google_ads_vendor_link_id,omitempty\\\"\"; CustomerId int64 \"orm:\\\"column(customer_id);\\\" json:\\\"customer_id,omitempty\\\"\"; ResourceName string \"orm:\\\"column(resource_name);\\\" json:\\\"resource_name,omitempty\\\"\"; ConversionActionId int64 \"orm:\\\"column(conversion_action_id);\\\" json:\\\"conversion_action_id,omitempty\\\"\"; ConversionActionName string \"orm:\\\"column(conversion_action_name);\\\" json:\\\"conversion_action_name,omitempty\\\"\"; ConversionActionTagId string \"orm:\\\"column(conversion_action_tag_id);\\\" json:\\\"conversion_action_tag_id,omitempty\\\"\"; ConversionActionTagLabel string \"orm:\\\"column(conversion_action_tag_label);\\\" json:\\\"conversion_action_tag_label,omitempty\\\"\"; CreatedAt *time.Time \"orm:\\\"column(created_at);type(timestamp);auto_now_add;null\\\" json:\\\"createdAt,omitempty\\\"\"; UpdatedAt *time.Time \"orm:\\\"column(updated_at);type(timestamp);auto_now;null\\\" json:\\\"updatedAt,omitempty\\\"\"; DeletedAt *time.Time \"orm:\\\"column(deleted_at);type(timestamp);null\\\" json:\\\"deletedAt,omitempty\\\"\" }"
      ]
     },
     "execution_count": 25,
     "metadata": {},
     "output_type": "execute_result"
    }
   ],
   "source": [
    "reflect.TypeOf(insertTagData)"
   ]
  },
  {
   "cell_type": "code",
   "execution_count": null,
   "id": "920f34f8-3d0b-4b59-ad7d-af6154168389",
   "metadata": {},
   "outputs": [],
   "source": []
  }
 ],
 "metadata": {
  "kernelspec": {
   "display_name": "Go",
   "language": "go",
   "name": "gophernotes"
  },
  "language_info": {
   "codemirror_mode": "",
   "file_extension": ".go",
   "mimetype": "",
   "name": "go",
   "nbconvert_exporter": "",
   "pygments_lexer": "",
   "version": "go1.18.1"
  },
  "widgets": {
   "application/vnd.jupyter.widget-state+json": {
    "state": {},
    "version_major": 2,
    "version_minor": 0
   }
  }
 },
 "nbformat": 4,
 "nbformat_minor": 5
}
