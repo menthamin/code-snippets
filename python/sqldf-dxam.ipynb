{
 "cells": [
  {
   "cell_type": "markdown",
   "id": "2a755b0e-9280-4535-960c-b7a04f73952c",
   "metadata": {},
   "source": [
    "# Python dataframe을 SQL로 다루기\n",
    "- 2가지 방법\n",
    "- 1. pysqldf 라이브러리\n",
    "- 2. pandasql 라이브러리\n",
    "- 출처: http://databaser.net/moniwiki/wiki.php/DataFrame%EC%9D%84SQL%EB%A1%9C%EB%8B%A4%EB%A3%A8%EA%B8%B0"
   ]
  },
  {
   "cell_type": "markdown",
   "id": "482e5dfa-0616-403e-8c72-42adde9aca36",
   "metadata": {},
   "source": [
    "### 아래 주석 제거 후 설치 \n",
    "+ 예제는 방법 1 기준 "
   ]
  },
  {
   "cell_type": "code",
   "execution_count": null,
   "id": "e92e0455-aade-4758-b87b-938937ff5c1d",
   "metadata": {},
   "outputs": [],
   "source": [
    "# !pip install pysqldf  # 방법 1\n",
    "# !pip install pandasql  # 방법 2"
   ]
  },
  {
   "cell_type": "code",
   "execution_count": 23,
   "id": "9af53035-1597-49ac-b8d2-119f5fb05b63",
   "metadata": {},
   "outputs": [],
   "source": [
    "import pandas as pd\n",
    "from pysqldf import SQLDF  # 방법 1\n",
    "# from pandasql import sqldf  # 방법 2\n",
    "import io"
   ]
  },
  {
   "cell_type": "code",
   "execution_count": 24,
   "id": "49efe3bd-e2cf-41df-85f6-ff78f3d05d0b",
   "metadata": {},
   "outputs": [],
   "source": [
    "sqldf = SQLDF(globals())\n",
    "# pysqldf = lambda q: sqldf(q, globals())  # 방법 2"
   ]
  },
  {
   "cell_type": "code",
   "execution_count": 33,
   "id": "f93a6fcc-503c-4f00-b3b6-fde64a58833d",
   "metadata": {},
   "outputs": [],
   "source": [
    "txt1 = io.StringIO(\"\"\"\n",
    "id,nm\n",
    "1,a\n",
    "2,b\n",
    "3,c\n",
    "\"\"\")"
   ]
  },
  {
   "cell_type": "code",
   "execution_count": 34,
   "id": "236c1d22-10e0-439e-b4d0-cd661e937f76",
   "metadata": {},
   "outputs": [],
   "source": [
    "txt2 = io.StringIO(\"\"\"\n",
    "id,age\n",
    "1,20\n",
    "2,30\n",
    "3,40\n",
    "\"\"\")"
   ]
  },
  {
   "cell_type": "code",
   "execution_count": 35,
   "id": "529ded08-2086-40f9-bbc0-66d3c97e79e5",
   "metadata": {},
   "outputs": [],
   "source": [
    "df1 = pd.read_csv(txt1)\n",
    "df2 = pd.read_csv(txt2)"
   ]
  },
  {
   "cell_type": "code",
   "execution_count": 36,
   "id": "794b1d7e-3557-45cb-b4c9-bc41de719bd9",
   "metadata": {},
   "outputs": [
    {
     "data": {
      "text/html": [
       "<div>\n",
       "<style scoped>\n",
       "    .dataframe tbody tr th:only-of-type {\n",
       "        vertical-align: middle;\n",
       "    }\n",
       "\n",
       "    .dataframe tbody tr th {\n",
       "        vertical-align: top;\n",
       "    }\n",
       "\n",
       "    .dataframe thead th {\n",
       "        text-align: right;\n",
       "    }\n",
       "</style>\n",
       "<table border=\"1\" class=\"dataframe\">\n",
       "  <thead>\n",
       "    <tr style=\"text-align: right;\">\n",
       "      <th></th>\n",
       "      <th>id</th>\n",
       "      <th>nm</th>\n",
       "    </tr>\n",
       "  </thead>\n",
       "  <tbody>\n",
       "    <tr>\n",
       "      <th>0</th>\n",
       "      <td>1</td>\n",
       "      <td>a</td>\n",
       "    </tr>\n",
       "    <tr>\n",
       "      <th>1</th>\n",
       "      <td>2</td>\n",
       "      <td>b</td>\n",
       "    </tr>\n",
       "    <tr>\n",
       "      <th>2</th>\n",
       "      <td>3</td>\n",
       "      <td>c</td>\n",
       "    </tr>\n",
       "  </tbody>\n",
       "</table>\n",
       "</div>"
      ],
      "text/plain": [
       "   id nm\n",
       "0   1  a\n",
       "1   2  b\n",
       "2   3  c"
      ]
     },
     "execution_count": 36,
     "metadata": {},
     "output_type": "execute_result"
    }
   ],
   "source": [
    "sqldf.execute(\"select * from df1 limit 3;\")"
   ]
  },
  {
   "cell_type": "code",
   "execution_count": 37,
   "id": "aac15e75-cd3e-4027-9d62-22f143b7ad79",
   "metadata": {},
   "outputs": [
    {
     "data": {
      "text/html": [
       "<div>\n",
       "<style scoped>\n",
       "    .dataframe tbody tr th:only-of-type {\n",
       "        vertical-align: middle;\n",
       "    }\n",
       "\n",
       "    .dataframe tbody tr th {\n",
       "        vertical-align: top;\n",
       "    }\n",
       "\n",
       "    .dataframe thead th {\n",
       "        text-align: right;\n",
       "    }\n",
       "</style>\n",
       "<table border=\"1\" class=\"dataframe\">\n",
       "  <thead>\n",
       "    <tr style=\"text-align: right;\">\n",
       "      <th></th>\n",
       "      <th>id</th>\n",
       "      <th>age</th>\n",
       "    </tr>\n",
       "  </thead>\n",
       "  <tbody>\n",
       "    <tr>\n",
       "      <th>0</th>\n",
       "      <td>1</td>\n",
       "      <td>20</td>\n",
       "    </tr>\n",
       "    <tr>\n",
       "      <th>1</th>\n",
       "      <td>2</td>\n",
       "      <td>30</td>\n",
       "    </tr>\n",
       "    <tr>\n",
       "      <th>2</th>\n",
       "      <td>3</td>\n",
       "      <td>40</td>\n",
       "    </tr>\n",
       "  </tbody>\n",
       "</table>\n",
       "</div>"
      ],
      "text/plain": [
       "   id  age\n",
       "0   1   20\n",
       "1   2   30\n",
       "2   3   40"
      ]
     },
     "execution_count": 37,
     "metadata": {},
     "output_type": "execute_result"
    }
   ],
   "source": [
    "sqldf.execute(\"select * from df2 limit 3;\")"
   ]
  },
  {
   "cell_type": "code",
   "execution_count": 38,
   "id": "33651109-d475-436c-abcd-f082715f505f",
   "metadata": {},
   "outputs": [],
   "source": [
    "query = \"\"\"\n",
    "select\n",
    "        t1.id\n",
    "    , t1.nm\n",
    "    , t2.age\n",
    "from df1 t1\n",
    "left join df2 t2\n",
    "on t1.id = t2.id\n",
    "\"\"\""
   ]
  },
  {
   "cell_type": "code",
   "execution_count": 39,
   "id": "ae7dbabd-055f-4e9f-824b-b25e7f097ab3",
   "metadata": {},
   "outputs": [
    {
     "data": {
      "text/html": [
       "<div>\n",
       "<style scoped>\n",
       "    .dataframe tbody tr th:only-of-type {\n",
       "        vertical-align: middle;\n",
       "    }\n",
       "\n",
       "    .dataframe tbody tr th {\n",
       "        vertical-align: top;\n",
       "    }\n",
       "\n",
       "    .dataframe thead th {\n",
       "        text-align: right;\n",
       "    }\n",
       "</style>\n",
       "<table border=\"1\" class=\"dataframe\">\n",
       "  <thead>\n",
       "    <tr style=\"text-align: right;\">\n",
       "      <th></th>\n",
       "      <th>id</th>\n",
       "      <th>nm</th>\n",
       "      <th>age</th>\n",
       "    </tr>\n",
       "  </thead>\n",
       "  <tbody>\n",
       "    <tr>\n",
       "      <th>0</th>\n",
       "      <td>1</td>\n",
       "      <td>a</td>\n",
       "      <td>20</td>\n",
       "    </tr>\n",
       "    <tr>\n",
       "      <th>1</th>\n",
       "      <td>2</td>\n",
       "      <td>b</td>\n",
       "      <td>30</td>\n",
       "    </tr>\n",
       "    <tr>\n",
       "      <th>2</th>\n",
       "      <td>3</td>\n",
       "      <td>c</td>\n",
       "      <td>40</td>\n",
       "    </tr>\n",
       "  </tbody>\n",
       "</table>\n",
       "</div>"
      ],
      "text/plain": [
       "   id nm  age\n",
       "0   1  a   20\n",
       "1   2  b   30\n",
       "2   3  c   40"
      ]
     },
     "execution_count": 39,
     "metadata": {},
     "output_type": "execute_result"
    }
   ],
   "source": [
    "sqldf.execute(query)"
   ]
  },
  {
   "cell_type": "code",
   "execution_count": null,
   "id": "29f9fe18-dc9b-4b88-8596-860cf10192e3",
   "metadata": {},
   "outputs": [],
   "source": []
  }
 ],
 "metadata": {
  "kernelspec": {
   "display_name": "Python 3 (ipykernel)",
   "language": "python",
   "name": "python3"
  },
  "language_info": {
   "codemirror_mode": {
    "name": "ipython",
    "version": 3
   },
   "file_extension": ".py",
   "mimetype": "text/x-python",
   "name": "python",
   "nbconvert_exporter": "python",
   "pygments_lexer": "ipython3",
   "version": "3.8.10"
  }
 },
 "nbformat": 4,
 "nbformat_minor": 5
}
