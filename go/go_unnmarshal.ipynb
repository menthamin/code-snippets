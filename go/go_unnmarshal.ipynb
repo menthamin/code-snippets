{
 "cells": [
  {
   "cell_type": "code",
   "execution_count": 13,
   "id": "9fc40911-4686-4166-9729-23de54529445",
   "metadata": {},
   "outputs": [],
   "source": [
    "import (\n",
    "\t\"context\"\n",
    "\t\"encoding/json\"\n",
    "    \"json\"\n",
    "\t\"fmt\"\n",
    "\t\"io\"\n",
    "\t\"math\"\n",
    "\t\"os\"\n",
    "\t\"strings\"\n",
    "\t\"sync\"\n",
    "\t\"time\"\n",
    "    \"github.com/bitly/go-simplejson\"\n",
    "\n",
    "\t\"crypto/md5\"\n",
    "\n",
    "\t// tld \"github.com/jpillora/go-tld\"\n",
    "\t// \"github.com/plugo-corp/plugo-mono/core-api-base/core\"\n",
    "\t// \"github.com/plugo-corp/plugo-mono/core-api-base/slack\"\n",
    "\t// constdef \"github.com/plugo-corp/plugo-mono/tokotalk-api/api/constDef\"\n",
    "\t// \"github.com/plugo-corp/plugo-mono/tokotalk-api/api/logger\"\n",
    "\t// apiphone \"github.com/plugo-corp/plugo-mono/tokotalk-api/api/phone\"\n",
    "\t// \"golang.org/x/time/rate\"\n",
    ")"
   ]
  },
  {
   "cell_type": "code",
   "execution_count": 16,
   "id": "1b1adf91-be89-42a2-945f-aa92d245dca0",
   "metadata": {},
   "outputs": [],
   "source": [
    "package main\n",
    "\n",
    "import (\n",
    "\t\"encoding/json\"\n",
    "\t\"fmt\"\n",
    ")\n",
    "\n",
    "func main() {\n",
    "\tdata := map[string]interface{}{\n",
    "\t\t\"intValue\":    1234,\n",
    "\t\t\"boolValue\":   true,\n",
    "\t\t\"stringValue\": \"hello!\",\n",
    "\t\t\"objectValue\": map[string]interface{}{\n",
    "\t\t\t\"arrayValue\": []int{1, 2, 3, 4},\n",
    "\t\t},\n",
    "\t}\n",
    "\n",
    "\tjsonData, err := json.Marshal(data)\n",
    "\tif err != nil {\n",
    "\t\tfmt.Printf(\"could not marshal json: %s\\n\", err)\n",
    "\t\treturn\n",
    "\t}\n",
    "\n",
    "\tfmt.Printf(\"json data: %s\\n\", jsonData)\n",
    "}"
   ]
  },
  {
   "cell_type": "code",
   "execution_count": 19,
   "id": "3e7af46c-97f2-4437-8144-0702968fe774",
   "metadata": {},
   "outputs": [
    {
     "name": "stdout",
     "output_type": "stream",
     "text": [
      "json data: {\"boolValue\":true,\"intValue\":1234,\"objectValue\":{\"arrayValue\":[1,2,3,4]},\"stringValue\":\"hello!\"}\n"
     ]
    },
    {
     "data": {
      "text/plain": [
       "108 <nil>"
      ]
     },
     "execution_count": 19,
     "metadata": {},
     "output_type": "execute_result"
    }
   ],
   "source": [
    "data := map[string]interface{}{\n",
    "    \"intValue\":    1234,\n",
    "    \"boolValue\":   true,\n",
    "    \"stringValue\": \"hello!\",\n",
    "    \"objectValue\": map[string]interface{}{\n",
    "        \"arrayValue\": []int{1, 2, 3, 4},\n",
    "    },\n",
    "}\n",
    "\n",
    "jsonData, err := json.Marshal(data)\n",
    "\n",
    "fmt.Printf(\"json data: %s\\n\", jsonData)"
   ]
  },
  {
   "cell_type": "code",
   "execution_count": null,
   "id": "8bfe1d28-db85-4d23-976b-8217b0586a92",
   "metadata": {},
   "outputs": [],
   "source": []
  },
  {
   "cell_type": "code",
   "execution_count": null,
   "id": "c37cd85f-1745-4aea-b881-c705ae8e402f",
   "metadata": {},
   "outputs": [],
   "source": []
  },
  {
   "cell_type": "code",
   "execution_count": null,
   "id": "beb3286f-99ca-4146-a1a1-718168bf2eae",
   "metadata": {},
   "outputs": [],
   "source": []
  },
  {
   "cell_type": "code",
   "execution_count": 15,
   "id": "ca07c6af-3bb0-4188-940a-996b28154f7a",
   "metadata": {},
   "outputs": [
    {
     "ename": "ERROR",
     "evalue": "repl.go:1:20: expected type, found '{' (and 1 more errors)",
     "output_type": "error",
     "traceback": [
      "repl.go:1:20: expected type, found '{' (and 1 more errors)"
     ]
    }
   ],
   "source": [
    "data := map[string]{\n",
    "    \"intValue\":    \"123\",\n",
    "    \"boolValue\":   \"456\",\n",
    "    \"stringValue\": \"hello!\",\n",
    "}"
   ]
  },
  {
   "cell_type": "code",
   "execution_count": 7,
   "id": "d1464e15-1750-47ba-a964-869a0e9acba0",
   "metadata": {},
   "outputs": [
    {
     "ename": "ERROR",
     "evalue": "repl.go:1:40: cannot convert map[string]interface{} to []uint8: data",
     "output_type": "error",
     "traceback": [
      "repl.go:1:40: cannot convert map[string]interface{} to []uint8: data"
     ]
    }
   ],
   "source": [
    "json, err := simplejson.NewJson([]byte(data))"
   ]
  },
  {
   "cell_type": "code",
   "execution_count": 14,
   "id": "be6c56b8-e9ee-4bde-a157-00bc7225a687",
   "metadata": {},
   "outputs": [
    {
     "ename": "ERROR",
     "evalue": "repl.go:1:26: not enough arguments in call to json.Unmarshal:\n\thave (map[string]interface{})\n\twant ([]uint8, interface{})",
     "output_type": "error",
     "traceback": [
      "repl.go:1:26: not enough arguments in call to json.Unmarshal:\n\thave (map[string]interface{})\n\twant ([]uint8, interface{})"
     ]
    }
   ],
   "source": [
    "j, err := json.Unmarshal(data)"
   ]
  },
  {
   "cell_type": "code",
   "execution_count": 5,
   "id": "6dd99dc7-7303-498e-b4ad-f7ccf702b41e",
   "metadata": {},
   "outputs": [
    {
     "data": {
      "text/plain": [
       "{json \"encoding/json\", 9 binds, 16 types}"
      ]
     },
     "execution_count": 5,
     "metadata": {},
     "output_type": "execute_result"
    }
   ],
   "source": [
    "json"
   ]
  },
  {
   "cell_type": "code",
   "execution_count": 3,
   "id": "dfe9e025-e4e3-454b-92f2-1f8422243450",
   "metadata": {},
   "outputs": [],
   "source": [
    "numKey := int64(math.Floor(float64(time.Now().UTC().Unix()) / float64(60)))\n",
    "numKey += 234567 // magic key\n",
    "numKey += 1"
   ]
  },
  {
   "cell_type": "code",
   "execution_count": 4,
   "id": "52b60e2b-d96b-4cf5-a5de-9ac2f01bf6cf",
   "metadata": {},
   "outputs": [
    {
     "data": {
      "text/plain": [
       "28205653"
      ]
     },
     "execution_count": 4,
     "metadata": {},
     "output_type": "execute_result"
    }
   ],
   "source": [
    "numKey"
   ]
  },
  {
   "cell_type": "code",
   "execution_count": 18,
   "id": "ed1c09c3-67ca-48d3-9621-7e50872cf198",
   "metadata": {},
   "outputs": [
    {
     "data": {
      "text/plain": [
       "53"
      ]
     },
     "execution_count": 18,
     "metadata": {},
     "output_type": "execute_result"
    }
   ],
   "source": [
    "time.Now().UTC().Unix() / 60 / 60 / 24 / 365"
   ]
  },
  {
   "cell_type": "code",
   "execution_count": 6,
   "id": "e0005258-0544-4068-a4ad-f2ee9251de26",
   "metadata": {},
   "outputs": [
    {
     "data": {
      "text/plain": [
       "27971085"
      ]
     },
     "execution_count": 6,
     "metadata": {},
     "output_type": "execute_result"
    }
   ],
   "source": [
    "int64(math.Floor(float64(time.Now().UTC().Unix()) / float64(60)))"
   ]
  },
  {
   "cell_type": "code",
   "execution_count": null,
   "id": "ef5fd50f-473b-4e66-98e7-716ff37114d0",
   "metadata": {},
   "outputs": [],
   "source": []
  }
 ],
 "metadata": {
  "kernelspec": {
   "display_name": "Go",
   "language": "go",
   "name": "gophernotes"
  },
  "language_info": {
   "codemirror_mode": "",
   "file_extension": ".go",
   "mimetype": "",
   "name": "go",
   "nbconvert_exporter": "",
   "pygments_lexer": "",
   "version": "go1.19.4"
  },
  "widgets": {
   "application/vnd.jupyter.widget-state+json": {
    "state": {},
    "version_major": 2,
    "version_minor": 0
   }
  }
 },
 "nbformat": 4,
 "nbformat_minor": 5
}
