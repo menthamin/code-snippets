{
 "cells": [
  {
   "cell_type": "code",
   "execution_count": 12,
   "id": "127399a3-aebf-4e5c-9464-97bcf11664c6",
   "metadata": {},
   "outputs": [],
   "source": [
    "import (\n",
    "    \"encoding/json\"\n",
    "    \"github.com/bitly/go-simplejson\"\n",
    "    \"fmt\"\n",
    ")\n",
    "    \n",
    "type LinkRequestBodyData struct {\n",
    "\tCustomerId\t\t\t\t\t\t\tstring \t`json:\"customer_id\"`\n",
    "\tManagerId\t\t\t\t\t\t\tstring \t`json:\"manager_id\"`\n",
    "\tCustomerClientLinkResourceName\t\tstring \t`json:\"customer_client_link_resource_name\"`\n",
    "\tIsError\t\t\t\t\t\t\t\tbool \t`json:\"is_error\"`\n",
    "\tErrorCode\t\t\t\t\t\t\tstring \t`json:\"error_code\"`\n",
    "\tErrorMessage\t\t\t\t\t\tstring \t`json:\"error_message\"`\n",
    "\tErrorName\t\t\t\t\t\t\tstring\t`json:\"error_name\"`\n",
    "}"
   ]
  },
  {
   "cell_type": "code",
   "execution_count": 2,
   "id": "28ca5c10-66b5-4701-9c8e-2b2dbc9d36d1",
   "metadata": {},
   "outputs": [],
   "source": [
    "type LinkRequestBody struct {\n",
    "\tData []LinkRequestBodyData `json:\"data\"`\n",
    "}\n",
    "\n",
    "data := `{\"data\": {\"customer_id\": \"12345\", \"manager_id\": \"67890\", \"customer_client_link_resource_name\": null, \"is_error\": true, \"error_code\": null, \"error_message\": \"Client is already invited by this manager.\", \"error_name\": \"ALREADY_INVITED_BY_THIS_MANAGER\"}}`"
   ]
  },
  {
   "cell_type": "code",
   "execution_count": 3,
   "id": "8de14060-e262-425b-94f1-f49b4f16209c",
   "metadata": {},
   "outputs": [
    {
     "data": {
      "text/plain": [
       "json: cannot unmarshal object into Go struct field .data of type []struct { CustomerId string \"json:\\\"customer_id\\\"\"; ManagerId string \"json:\\\"manager_id\\\"\"; CustomerClientLinkResourceName string \"json:\\\"customer_client_link_resource_name\\\"\"; IsError bool \"json:\\\"is_error\\\"\"; ErrorCode string \"json:\\\"error_code\\\"\"; ErrorMessage string \"json:\\\"error_message\\\"\"; ErrorName string \"json:\\\"error_name\\\"\" }"
      ]
     },
     "execution_count": 3,
     "metadata": {},
     "output_type": "execute_result"
    }
   ],
   "source": [
    "linkRequestBody := LinkRequestBody{}\n",
    "json.Unmarshal([]byte(data), &linkRequestBody)"
   ]
  },
  {
   "cell_type": "code",
   "execution_count": 4,
   "id": "3e91edf3-0c94-4155-b4a3-772518db9f17",
   "metadata": {},
   "outputs": [],
   "source": [
    "reqBody, err := simplejson.NewJson([]byte(data))"
   ]
  },
  {
   "cell_type": "code",
   "execution_count": 5,
   "id": "70b9ffda-0051-4e54-b3d2-28a3c362e741",
   "metadata": {},
   "outputs": [
    {
     "data": {
      "text/plain": [
       "&{map[customer_client_link_resource_name:<nil> customer_id:12345 error_code:<nil> error_message:Client is already invited by this manager. error_name:ALREADY_INVITED_BY_THIS_MANAGER is_error:true manager_id:67890]}"
      ]
     },
     "execution_count": 5,
     "metadata": {},
     "output_type": "execute_result"
    }
   ],
   "source": [
    "reqBody.Get(\"data\")"
   ]
  },
  {
   "cell_type": "code",
   "execution_count": 9,
   "id": "471cc6c9-d730-49ec-9b70-60489c9fde57",
   "metadata": {},
   "outputs": [
    {
     "ename": "ERROR",
     "evalue": "repl.go:1:8: cannot convert *github.com/bitly/go-simplejson.Json to string: reqBody",
     "output_type": "error",
     "traceback": [
      "repl.go:1:8: cannot convert *github.com/bitly/go-simplejson.Json to string: reqBody"
     ]
    }
   ],
   "source": []
  },
  {
   "cell_type": "code",
   "execution_count": 6,
   "id": "7d9dc26a-dd94-43a4-a029-c0b64896b971",
   "metadata": {},
   "outputs": [],
   "source": [
    "j, _ := json.Marshal(reqBody)"
   ]
  },
  {
   "cell_type": "code",
   "execution_count": 17,
   "id": "3ca680fb-4a67-4b1c-8803-652b3acfff42",
   "metadata": {},
   "outputs": [],
   "source": [
    "checkData := fmt.Sprintf(\"All Body: %s\", string(j))"
   ]
  },
  {
   "cell_type": "code",
   "execution_count": 18,
   "id": "5f3767cf-1cef-4581-8ee1-2d4b0a4961de",
   "metadata": {},
   "outputs": [
    {
     "data": {
      "text/plain": [
       "All Body: {\"data\":{\"customer_client_link_resource_name\":null,\"customer_id\":\"12345\",\"error_code\":null,\"error_message\":\"Client is already invited by this manager.\",\"error_name\":\"ALREADY_INVITED_BY_THIS_MANAGER\",\"is_error\":true,\"manager_id\":\"67890\"}}"
      ]
     },
     "execution_count": 18,
     "metadata": {},
     "output_type": "execute_result"
    }
   ],
   "source": [
    "checkData"
   ]
  },
  {
   "cell_type": "code",
   "execution_count": null,
   "id": "7040d225-60b9-470d-a930-359345e60bc8",
   "metadata": {},
   "outputs": [],
   "source": []
  }
 ],
 "metadata": {
  "kernelspec": {
   "display_name": "Go",
   "language": "go",
   "name": "gophernotes"
  },
  "language_info": {
   "codemirror_mode": "",
   "file_extension": ".go",
   "mimetype": "",
   "name": "go",
   "nbconvert_exporter": "",
   "pygments_lexer": "",
   "version": "go1.19.4"
  },
  "widgets": {
   "application/vnd.jupyter.widget-state+json": {
    "state": {},
    "version_major": 2,
    "version_minor": 0
   }
  }
 },
 "nbformat": 4,
 "nbformat_minor": 5
}
