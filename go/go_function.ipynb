{
 "cells": [
  {
   "cell_type": "markdown",
   "id": "616b2fb5-4da8-47ef-9961-0d02b6f4e703",
   "metadata": {},
   "source": [
    "# \n",
    "- http://golang.site/go/article/9-Go-%ED%95%A8%EC%88%98"
   ]
  },
  {
   "cell_type": "markdown",
   "id": "885c242b-fdf9-4efb-95d3-18adb2c542e0",
   "metadata": {},
   "source": [
    "## 1. Pass By Value"
   ]
  },
  {
   "cell_type": "code",
   "execution_count": 12,
   "id": "474489d7-9f5a-4d64-b5e8-0420acbc965a",
   "metadata": {},
   "outputs": [
    {
     "name": "stderr",
     "output_type": "stream",
     "text": [
      "Hello\n"
     ]
    }
   ],
   "source": [
    "package main\n",
    "func main() {\n",
    "    msg := \"Hello\"\n",
    "    say(msg)\n",
    "}\n",
    " \n",
    "func say(msg string) {\n",
    "    println(msg)\n",
    "}\n",
    "\n",
    "main()"
   ]
  },
  {
   "cell_type": "markdown",
   "id": "c05f8e93-d818-4e38-bd83-dd0cc73af4c7",
   "metadata": {},
   "source": [
    "## 2. Pass By Reference"
   ]
  },
  {
   "cell_type": "code",
   "execution_count": 14,
   "id": "896888fc-3803-4926-8356-ea1f86558e94",
   "metadata": {},
   "outputs": [
    {
     "name": "stderr",
     "output_type": "stream",
     "text": [
      "Hello\n",
      "Changed\n"
     ]
    }
   ],
   "source": [
    "func main() {\n",
    "    msg := \"Hello\"\n",
    "    println(msg)\n",
    "    say(&msg)\n",
    "    println(msg)\n",
    "    \n",
    "}\n",
    "\n",
    "func say(msg *string) {\n",
    "    *msg = \"Changed\"\n",
    "}\n",
    "\n",
    "main()"
   ]
  },
  {
   "cell_type": "markdown",
   "id": "f96c2831-8443-432e-b057-77a51e8c85dd",
   "metadata": {},
   "source": [
    "## 3. Variadic Function"
   ]
  },
  {
   "cell_type": "code",
   "execution_count": 18,
   "id": "2aee3a1f-b9e8-4156-8744-666ebbaccadf",
   "metadata": {},
   "outputs": [
    {
     "name": "stderr",
     "output_type": "stream",
     "text": [
      "This\n",
      "is\n",
      "a\n",
      "book\n"
     ]
    }
   ],
   "source": [
    "func main() {\n",
    "    say(\"This\", \"is\", \"a\", \"book\")\n",
    "}\n",
    "\n",
    "func say(msg ...string) {\n",
    "    for _, s := range msg {\n",
    "        println(s)\n",
    "    }\n",
    "}\n",
    "\n",
    "main()"
   ]
  },
  {
   "cell_type": "markdown",
   "id": "c649498b-4f63-49f9-9d85-df56e0e363bc",
   "metadata": {},
   "source": [
    "## 4. Function Return Value"
   ]
  },
  {
   "cell_type": "code",
   "execution_count": 19,
   "id": "52fc783c-35f6-421e-9efb-56f07d96360b",
   "metadata": {},
   "outputs": [
    {
     "name": "stderr",
     "output_type": "stream",
     "text": [
      "[]int\n",
      "15\n"
     ]
    }
   ],
   "source": [
    "import \"reflect\"\n",
    "\n",
    "func main() {\n",
    "    total := sum(1, 2, 3, 4, 5)\n",
    "    println(total)\n",
    "}\n",
    "\n",
    "func sum(nums ...int) int {\n",
    "    s := 0\n",
    "    println(reflect.TypeOf(nums))\n",
    "    for _, n := range nums {\n",
    "        s += n\n",
    "    }\n",
    "    return s\n",
    "}\n",
    "\n",
    "main()"
   ]
  },
  {
   "cell_type": "code",
   "execution_count": 23,
   "id": "23cc731b-2ded-497b-ab3b-8aeb1c0e70bf",
   "metadata": {},
   "outputs": [
    {
     "name": "stderr",
     "output_type": "stream",
     "text": [
      "5 25\n"
     ]
    }
   ],
   "source": [
    "package main\n",
    " \n",
    "func main() {\n",
    "    count, total := sum(1, 7, 3, 5, 9)\n",
    "    println(count, total)   \n",
    "}\n",
    " \n",
    "func sum(nums ...int) (int, int) {\n",
    "    s := 0      // 합계\n",
    "    count := 0  // 요소 갯수\n",
    "    for _, n := range nums {\n",
    "        s += n\n",
    "        count++\n",
    "    }\n",
    "    return count, s\n",
    "}\n",
    "\n",
    "main()"
   ]
  },
  {
   "cell_type": "markdown",
   "id": "790b46cd-5a6e-47b7-b702-e04895c6b230",
   "metadata": {},
   "source": [
    "### 4.2. Named Return Parameter"
   ]
  },
  {
   "cell_type": "code",
   "execution_count": 22,
   "id": "0fc4e220-f9ce-45fe-b38a-3ebbaab4b120",
   "metadata": {},
   "outputs": [
    {
     "name": "stderr",
     "output_type": "stream",
     "text": [
      "5 25\n"
     ]
    }
   ],
   "source": [
    "package main\n",
    " \n",
    "func main() {\n",
    "    count, total := sum(1, 7, 3, 5, 9)\n",
    "    println(count, total)   \n",
    "}\n",
    " \n",
    "func sum(nums ...int) (count int, total int) {\n",
    "    for _, n := range nums {\n",
    "        total += n\n",
    "    }\n",
    "    count = len(nums)\n",
    "    return\n",
    "}\n",
    "\n",
    "main()"
   ]
  },
  {
   "cell_type": "code",
   "execution_count": 25,
   "id": "6073d266-60d1-456f-88cc-dd2c6a3d1903",
   "metadata": {},
   "outputs": [
    {
     "name": "stderr",
     "output_type": "stream",
     "text": [
      "30\n",
      "-10\n"
     ]
    }
   ],
   "source": [
    "package main\n",
    " \n",
    "func main() {\n",
    "    //변수 add 에 익명함수 할당\n",
    "    add := func(i int, j int) int {\n",
    "        return i + j\n",
    "    }\n",
    " \n",
    "    // add 함수 전달\n",
    "    r1 := calc(add, 10, 20)\n",
    "    println(r1)\n",
    " \n",
    "    // 직접 첫번째 파라미터에 익명함수를 정의함\n",
    "    r2 := calc(func(x int, y int) int { return x - y }, 10, 20)\n",
    "    println(r2)\n",
    " \n",
    "}\n",
    " \n",
    "func calc(f func(int, int) int, a int, b int) int {\n",
    "    result := f(a, b)\n",
    "    return result\n",
    "}\n",
    "\n",
    "main()"
   ]
  },
  {
   "cell_type": "code",
   "execution_count": null,
   "id": "9c12102a-b712-445c-8c28-79cb4d02e8b9",
   "metadata": {},
   "outputs": [],
   "source": []
  }
 ],
 "metadata": {
  "kernelspec": {
   "display_name": "Go",
   "language": "go",
   "name": "gophernotes"
  },
  "language_info": {
   "codemirror_mode": "",
   "file_extension": ".go",
   "mimetype": "",
   "name": "go",
   "nbconvert_exporter": "",
   "pygments_lexer": "",
   "version": "go1.18.1"
  },
  "widgets": {
   "application/vnd.jupyter.widget-state+json": {
    "state": {},
    "version_major": 2,
    "version_minor": 0
   }
  }
 },
 "nbformat": 4,
 "nbformat_minor": 5
}
