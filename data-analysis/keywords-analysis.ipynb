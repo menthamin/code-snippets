{
 "cells": [
  {
   "cell_type": "code",
   "execution_count": 1,
   "id": "7150ed29-b0c5-42e7-8783-eea0def43dc2",
   "metadata": {},
   "outputs": [],
   "source": [
    "import pandas as pd\n",
    "from collections import Counter\n",
    "from collections import defaultdict"
   ]
  },
  {
   "cell_type": "markdown",
   "id": "1047d176-ca0d-4646-8bec-3bdbadcd34b1",
   "metadata": {},
   "source": [
    "# 1. Read Tab separated Data and Save Data as Comma separated file"
   ]
  },
  {
   "cell_type": "code",
   "execution_count": 2,
   "id": "2e82ad22-b454-4017-b259-9eb51df62daf",
   "metadata": {},
   "outputs": [],
   "source": [
    "df = pd.read_csv(\"data/posting.txt\", sep=\"\\t\")\n",
    "df.to_csv(\"data/posting.csv\", index=False)"
   ]
  },
  {
   "cell_type": "code",
   "execution_count": 3,
   "id": "b2fd369a-3a26-4d49-bc58-2083f7fa81fe",
   "metadata": {},
   "outputs": [],
   "source": [
    "df_csv = pd.read_csv(\"data/posting.csv\")"
   ]
  },
  {
   "cell_type": "code",
   "execution_count": 4,
   "id": "4af5921f-d30f-4b83-99ca-42aab31b21c4",
   "metadata": {},
   "outputs": [
    {
     "name": "stdout",
     "output_type": "stream",
     "text": [
      "<class 'pandas.core.frame.DataFrame'>\n",
      "RangeIndex: 100 entries, 0 to 99\n",
      "Data columns (total 5 columns):\n",
      " #   Column    Non-Null Count  Dtype  \n",
      "---  ------    --------------  -----  \n",
      " 0   rank      100 non-null    int64  \n",
      " 1   keywords  100 non-null    object \n",
      " 2   traffic   100 non-null    int64  \n",
      " 3   ratio     100 non-null    float64\n",
      " 4   volume    100 non-null    int64  \n",
      "dtypes: float64(1), int64(3), object(1)\n",
      "memory usage: 4.0+ KB\n"
     ]
    }
   ],
   "source": [
    "df_csv.info()"
   ]
  },
  {
   "cell_type": "code",
   "execution_count": 5,
   "id": "34604c71-07aa-4fac-86fe-45ea6116b775",
   "metadata": {},
   "outputs": [],
   "source": [
    "df[\"traffict/volume\"] = df.traffic / df.volume"
   ]
  },
  {
   "cell_type": "code",
   "execution_count": 6,
   "id": "8030b484-9f5d-467a-9fc1-e9ec51b5fd80",
   "metadata": {},
   "outputs": [
    {
     "data": {
      "text/html": [
       "<div>\n",
       "<style scoped>\n",
       "    .dataframe tbody tr th:only-of-type {\n",
       "        vertical-align: middle;\n",
       "    }\n",
       "\n",
       "    .dataframe tbody tr th {\n",
       "        vertical-align: top;\n",
       "    }\n",
       "\n",
       "    .dataframe thead th {\n",
       "        text-align: right;\n",
       "    }\n",
       "</style>\n",
       "<table border=\"1\" class=\"dataframe\">\n",
       "  <thead>\n",
       "    <tr style=\"text-align: right;\">\n",
       "      <th></th>\n",
       "      <th>rank</th>\n",
       "      <th>keywords</th>\n",
       "      <th>traffic</th>\n",
       "      <th>ratio</th>\n",
       "      <th>volume</th>\n",
       "      <th>traffict/volume</th>\n",
       "    </tr>\n",
       "  </thead>\n",
       "  <tbody>\n",
       "    <tr>\n",
       "      <th>0</th>\n",
       "      <td>1</td>\n",
       "      <td>at most once</td>\n",
       "      <td>321</td>\n",
       "      <td>0.0052</td>\n",
       "      <td>800</td>\n",
       "      <td>0.401250</td>\n",
       "    </tr>\n",
       "    <tr>\n",
       "      <th>1</th>\n",
       "      <td>2</td>\n",
       "      <td>natsort</td>\n",
       "      <td>310</td>\n",
       "      <td>0.0051</td>\n",
       "      <td>2910</td>\n",
       "      <td>0.106529</td>\n",
       "    </tr>\n",
       "    <tr>\n",
       "      <th>2</th>\n",
       "      <td>3</td>\n",
       "      <td>엑셀 조건부서식 행 전체 적용</td>\n",
       "      <td>310</td>\n",
       "      <td>0.0051</td>\n",
       "      <td>480</td>\n",
       "      <td>0.645833</td>\n",
       "    </tr>\n",
       "    <tr>\n",
       "      <th>3</th>\n",
       "      <td>4</td>\n",
       "      <td>파이썬 표기법</td>\n",
       "      <td>300</td>\n",
       "      <td>0.0049</td>\n",
       "      <td>150</td>\n",
       "      <td>2.000000</td>\n",
       "    </tr>\n",
       "    <tr>\n",
       "      <th>4</th>\n",
       "      <td>5</td>\n",
       "      <td>리눅스 작업 예약</td>\n",
       "      <td>300</td>\n",
       "      <td>0.0049</td>\n",
       "      <td>430</td>\n",
       "      <td>0.697674</td>\n",
       "    </tr>\n",
       "  </tbody>\n",
       "</table>\n",
       "</div>"
      ],
      "text/plain": [
       "   rank          keywords  traffic   ratio  volume  traffict/volume\n",
       "0     1      at most once      321  0.0052     800         0.401250\n",
       "1     2           natsort      310  0.0051    2910         0.106529\n",
       "2     3  엑셀 조건부서식 행 전체 적용      310  0.0051     480         0.645833\n",
       "3     4           파이썬 표기법      300  0.0049     150         2.000000\n",
       "4     5         리눅스 작업 예약      300  0.0049     430         0.697674"
      ]
     },
     "execution_count": 6,
     "metadata": {},
     "output_type": "execute_result"
    }
   ],
   "source": [
    "df.head()"
   ]
  },
  {
   "cell_type": "markdown",
   "id": "f1163807-9744-453d-b9b0-bb508720c89d",
   "metadata": {},
   "source": [
    "# 2. Count words frequency"
   ]
  },
  {
   "cell_type": "code",
   "execution_count": 7,
   "id": "2570362c-a642-4205-9baf-05935443c3cf",
   "metadata": {},
   "outputs": [],
   "source": [
    "all_words = []\n",
    "for keyword in df.keywords:\n",
    "    all_words.extend(keyword.split())"
   ]
  },
  {
   "cell_type": "code",
   "execution_count": 8,
   "id": "3361e8f8-52aa-4ae6-b6fd-b42f8b5d7f96",
   "metadata": {},
   "outputs": [],
   "source": [
    "count_word_frequency_list = [[k, v] for k, v in zip(Counter(all_words).keys(), Counter(all_words).values())]"
   ]
  },
  {
   "cell_type": "code",
   "execution_count": 9,
   "id": "5c7b9680-bc89-4e38-b208-eaf67a9500f5",
   "metadata": {},
   "outputs": [
    {
     "data": {
      "text/plain": [
       "<zip at 0x7fb7810fbd80>"
      ]
     },
     "execution_count": 9,
     "metadata": {},
     "output_type": "execute_result"
    }
   ],
   "source": [
    "zip(Counter(all_words).keys(), Counter(all_words).values(), Counter(all_words).values())"
   ]
  },
  {
   "cell_type": "code",
   "execution_count": 10,
   "id": "ac19cd53-e83f-4a00-b40e-c9c89fc84ec9",
   "metadata": {},
   "outputs": [],
   "source": [
    "# Sort by word frequency descending\n",
    "count_word_frequency_list.sort(key=lambda x: x[1], reverse=True)"
   ]
  },
  {
   "cell_type": "code",
   "execution_count": 11,
   "id": "cd4bea22-4f8d-4112-bca7-accb7ad00bd7",
   "metadata": {},
   "outputs": [
    {
     "data": {
      "text/plain": [
       "[['엑셀', 12],\n",
       " ['mariadb', 7],\n",
       " ['공유폴더', 6],\n",
       " ['파이썬', 5],\n",
       " ['리눅스', 5],\n",
       " ['권한', 5],\n",
       " ['우분투', 5],\n",
       " ['조건부서식', 4],\n",
       " ['행', 4],\n",
       " ['linux', 4]]"
      ]
     },
     "execution_count": 11,
     "metadata": {},
     "output_type": "execute_result"
    }
   ],
   "source": [
    "count_word_frequency_list[:10]"
   ]
  },
  {
   "cell_type": "code",
   "execution_count": 12,
   "id": "0d486f16-a596-42ff-bb2a-47c79ff10c4e",
   "metadata": {},
   "outputs": [
    {
     "data": {
      "text/plain": [
       "223"
      ]
     },
     "execution_count": 12,
     "metadata": {},
     "output_type": "execute_result"
    }
   ],
   "source": [
    "len(count_word_frequency_list)"
   ]
  },
  {
   "cell_type": "code",
   "execution_count": 13,
   "id": "0ceed894-0ac7-4d28-b9e9-ac160b110132",
   "metadata": {},
   "outputs": [
    {
     "ename": "NameError",
     "evalue": "name 'plt' is not defined",
     "output_type": "error",
     "traceback": [
      "\u001b[0;31m---------------------------------------------------------------------------\u001b[0m",
      "\u001b[0;31mNameError\u001b[0m                                 Traceback (most recent call last)",
      "\u001b[0;32m/var/folders/3_/s6t6k_zn7vz2v98kkkm6d7yr0000gn/T/ipykernel_69077/3005537862.py\u001b[0m in \u001b[0;36m<module>\u001b[0;34m\u001b[0m\n\u001b[1;32m      3\u001b[0m \u001b[0;32mfrom\u001b[0m \u001b[0mmatplotlib\u001b[0m \u001b[0;32mimport\u001b[0m \u001b[0mrc\u001b[0m\u001b[0;34m\u001b[0m\u001b[0;34m\u001b[0m\u001b[0m\n\u001b[1;32m      4\u001b[0m \u001b[0mrc\u001b[0m\u001b[0;34m(\u001b[0m\u001b[0;34m'font'\u001b[0m\u001b[0;34m,\u001b[0m \u001b[0mfamily\u001b[0m\u001b[0;34m=\u001b[0m\u001b[0;34m'AppleGothic'\u001b[0m\u001b[0;34m)\u001b[0m\u001b[0;34m\u001b[0m\u001b[0;34m\u001b[0m\u001b[0m\n\u001b[0;32m----> 5\u001b[0;31m \u001b[0mplt\u001b[0m\u001b[0;34m.\u001b[0m\u001b[0mrcParams\u001b[0m\u001b[0;34m[\u001b[0m\u001b[0;34m'axes.unicode_minus'\u001b[0m\u001b[0;34m]\u001b[0m \u001b[0;34m=\u001b[0m \u001b[0;32mFalse\u001b[0m\u001b[0;34m\u001b[0m\u001b[0;34m\u001b[0m\u001b[0m\n\u001b[0m",
      "\u001b[0;31mNameError\u001b[0m: name 'plt' is not defined"
     ]
    }
   ],
   "source": [
    "# 한글깨짐 해결\n",
    "# 출처: https://wannabe00.tistory.com/entry/Mac%EC%97%90%EC%84%9C-Matplotlib-%EC%82%AC%EC%9A%A9-%EC%8B%9C-%ED%95%9C%EA%B8%80-%EA%B9%A8%EC%A7%90-%ED%95%B4%EA%B2%B0\n",
    "import matplotlib.pyplot as plt\n",
    "from matplotlib import rc\n",
    "rc('font', family='AppleGothic')\n",
    "plt.rcParams['axes.unicode_minus'] = False  "
   ]
  },
  {
   "cell_type": "code",
   "execution_count": null,
   "id": "f2db0601-e091-42e3-9b03-4c3e3169a3a5",
   "metadata": {},
   "outputs": [],
   "source": [
    "df_for_bar_plot = pd.DataFrame(count_word_frequency_list[:30], columns=[\"word\", \"frequency\"])\n",
    "df_for_bar_plot.plot.bar(x=\"word\", y=\"frequency\");"
   ]
  },
  {
   "cell_type": "markdown",
   "id": "2ef4775d-4942-4c4b-a993-fde3e17b652e",
   "metadata": {},
   "source": [
    "# 3. Count word frequency and sum word traffic"
   ]
  },
  {
   "cell_type": "code",
   "execution_count": null,
   "id": "bdaa2b57-cd8d-49f2-a09a-3a8412d88585",
   "metadata": {},
   "outputs": [],
   "source": [
    "word_frequency_traffic_dict = defaultdict(dict)\n",
    "\n",
    "for keyword, traffic in zip(df.keywords, df.traffic):\n",
    "    words = keyword.split()\n",
    "    for word in words:\n",
    "        if word in word_frequency_traffic_dict:\n",
    "            word_frequency_traffic_dict[word][\"frequency\"] += 1\n",
    "            word_frequency_traffic_dict[word][\"traffic\"] += traffic\n",
    "        else:\n",
    "            word_frequency_traffic_dict[word] = {\"frequency\": 1, \"traffic\": traffic}    "
   ]
  },
  {
   "cell_type": "code",
   "execution_count": null,
   "id": "27d2182a-e263-4c84-9cac-9935bbb0df06",
   "metadata": {},
   "outputs": [],
   "source": [
    "word_frequency_traffic_list = []\n",
    "for k, v in zip(word_frequency_traffic_dict.keys(), list(word_frequency_traffic_dict.values())):\n",
    "    word_frequency_traffic_list.append([k, v[\"frequency\"], v[\"traffic\"]])"
   ]
  },
  {
   "cell_type": "code",
   "execution_count": null,
   "id": "5c558715-e214-474c-89b7-24f7211ded93",
   "metadata": {},
   "outputs": [],
   "source": [
    "word_frequency_traffic_list.sort(key=lambda x: x[1], reverse=True)\n",
    "word_frequency_traffic_list[:10]"
   ]
  },
  {
   "cell_type": "code",
   "execution_count": null,
   "id": "2690b7d9-b7f8-45cf-9e40-e7b8814f0c26",
   "metadata": {},
   "outputs": [],
   "source": [
    "word_frequency_traffic_list.sort(key=lambda x: x[2], reverse=True)\n",
    "word_frequency_traffic_list[:10]"
   ]
  },
  {
   "cell_type": "code",
   "execution_count": null,
   "id": "8ebe41fa-ca70-4d71-80be-ab58a4e4d099",
   "metadata": {},
   "outputs": [],
   "source": [
    "df_for_bar_plot = pd.DataFrame(word_frequency_traffic_list[:30], columns=[\"word\", \"frequency\", \"traffic\"])\n",
    "df_for_bar_plot.plot.bar(x=\"word\", y=\"traffic\");"
   ]
  },
  {
   "cell_type": "code",
   "execution_count": null,
   "id": "8c289896-d651-49bf-9971-6ebaf274fa2c",
   "metadata": {},
   "outputs": [],
   "source": []
  }
 ],
 "metadata": {
  "kernelspec": {
   "display_name": "Python 3 (ipykernel)",
   "language": "python",
   "name": "python3"
  },
  "language_info": {
   "codemirror_mode": {
    "name": "ipython",
    "version": 3
   },
   "file_extension": ".py",
   "mimetype": "text/x-python",
   "name": "python",
   "nbconvert_exporter": "python",
   "pygments_lexer": "ipython3",
   "version": "3.9.7"
  },
  "widgets": {
   "application/vnd.jupyter.widget-state+json": {
    "state": {},
    "version_major": 2,
    "version_minor": 0
   }
  }
 },
 "nbformat": 4,
 "nbformat_minor": 5
}
