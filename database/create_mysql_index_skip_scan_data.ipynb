{
 "cells": [
  {
   "cell_type": "markdown",
   "id": "d77ea8e3-9110-47bb-b6b2-e913fde1bfb8",
   "metadata": {},
   "source": [
    "# MySQL Index Skip Scan\n",
    "## 1. Craete Sample Data"
   ]
  },
  {
   "cell_type": "markdown",
   "id": "255023bc-8d1b-4045-9c96-847ec0824d4d",
   "metadata": {},
   "source": [
    "### Data Example"
   ]
  },
  {
   "cell_type": "markdown",
   "id": "8fd8c7f5-9ee9-4d69-831e-8cf34ad94e3b",
   "metadata": {
    "tags": []
   },
   "source": [
    "| product_category_id | product_id | created_at |\n",
    "| --- | --- | --- |\n",
    "| 1 | 1 | 2019-01-01 |\n",
    "| 99 | 9999 | 2023-05-31|"
   ]
  },
  {
   "cell_type": "code",
   "execution_count": 43,
   "id": "132c6217-d841-49d7-9950-84e084030029",
   "metadata": {},
   "outputs": [
    {
     "name": "stdout",
     "output_type": "stream",
     "text": [
      "2019-04-22\n"
     ]
    }
   ],
   "source": [
    "# https://stackoverflow.com/questions/553303/generate-a-random-date-between-two-other-dates\n",
    "import random\n",
    "import time\n",
    "\n",
    "\n",
    "def str_time_prop(start, end, time_format, prop):\n",
    "    \"\"\"Get a time at a proportion of a range of two formatted times.\n",
    "\n",
    "    start and end should be strings specifying times formatted in the\n",
    "    given format (strftime-style), giving an interval [start, end].\n",
    "    prop specifies how a proportion of the interval to be taken after\n",
    "    start.  The returned time will be in the specified format.\n",
    "    \"\"\"\n",
    "\n",
    "    stime = time.mktime(time.strptime(start, time_format))\n",
    "    etime = time.mktime(time.strptime(end, time_format))\n",
    "\n",
    "    ptime = stime + prop * (etime - stime)\n",
    "\n",
    "    return time.strftime(time_format, time.localtime(ptime))\n",
    "\n",
    "\n",
    "def random_date(start, end, prop):\n",
    "    return str_time_prop(start, end, \"%Y-%m-%d\", prop)\n",
    "\n",
    "\n",
    "print(random_date(\"2019-01-01\", \"2023-05-31\", random.random()))"
   ]
  },
  {
   "cell_type": "code",
   "execution_count": 44,
   "id": "bc960296-0712-4b4a-9939-0bab8bbc714f",
   "metadata": {},
   "outputs": [],
   "source": [
    "def get_random_date():\n",
    "    return random_date(\"2022-01-01\", \"2023-12-31\", random.random())"
   ]
  },
  {
   "cell_type": "code",
   "execution_count": 45,
   "id": "445b8fe2-2e43-46e2-9374-2d06baf46843",
   "metadata": {},
   "outputs": [],
   "source": [
    "def get_random_number(max=100):\n",
    "    return round(random.random() * max)"
   ]
  },
  {
   "cell_type": "code",
   "execution_count": 46,
   "id": "2e933c32-3cee-4500-af82-580d7e11b62a",
   "metadata": {},
   "outputs": [
    {
     "data": {
      "text/plain": [
       "1216"
      ]
     },
     "execution_count": 46,
     "metadata": {},
     "output_type": "execute_result"
    }
   ],
   "source": [
    "get_random_number(max=10000)"
   ]
  },
  {
   "cell_type": "code",
   "execution_count": 47,
   "id": "f9b3b6f4-4e1e-4eb1-acef-10e653a21667",
   "metadata": {},
   "outputs": [],
   "source": [
    "import pandas as pd\n",
    "\n",
    "\n",
    "data_cat_100_list = []\n",
    "data_cat_10000_list = []\n",
    "for _ in range(1000000):\n",
    "    data_cat_100_list.append([get_random_number(max=100), get_random_number(max=100000), get_random_date()])\n",
    "    data_cat_10000_list.append([get_random_number(max=10000), get_random_number(max=100000), get_random_date()])"
   ]
  },
  {
   "cell_type": "code",
   "execution_count": 48,
   "id": "a43dac21-c1aa-4a1f-896a-2dba91905b5e",
   "metadata": {},
   "outputs": [],
   "source": [
    "col_list = [\"product_category_id\", \"product_id\", \"created_at\"]"
   ]
  },
  {
   "cell_type": "code",
   "execution_count": 49,
   "id": "6bb06562-6ce6-4bad-b84f-0136bb99b51b",
   "metadata": {},
   "outputs": [],
   "source": [
    "df_cat_100 = pd.DataFrame(data_cat_100_list, columns=col_list)\n",
    "df_cat_10000 = pd.DataFrame(data_cat_10000_list, columns=col_list)"
   ]
  },
  {
   "cell_type": "code",
   "execution_count": 50,
   "id": "b16f8273-dda6-4d8b-9c35-32f1c0a6329b",
   "metadata": {},
   "outputs": [
    {
     "data": {
      "text/html": [
       "<div>\n",
       "<style scoped>\n",
       "    .dataframe tbody tr th:only-of-type {\n",
       "        vertical-align: middle;\n",
       "    }\n",
       "\n",
       "    .dataframe tbody tr th {\n",
       "        vertical-align: top;\n",
       "    }\n",
       "\n",
       "    .dataframe thead th {\n",
       "        text-align: right;\n",
       "    }\n",
       "</style>\n",
       "<table border=\"1\" class=\"dataframe\">\n",
       "  <thead>\n",
       "    <tr style=\"text-align: right;\">\n",
       "      <th></th>\n",
       "      <th>product_category_id</th>\n",
       "      <th>product_id</th>\n",
       "      <th>created_at</th>\n",
       "    </tr>\n",
       "  </thead>\n",
       "  <tbody>\n",
       "    <tr>\n",
       "      <th>0</th>\n",
       "      <td>32</td>\n",
       "      <td>23002</td>\n",
       "      <td>2023-03-29</td>\n",
       "    </tr>\n",
       "    <tr>\n",
       "      <th>1</th>\n",
       "      <td>48</td>\n",
       "      <td>4323</td>\n",
       "      <td>2023-06-29</td>\n",
       "    </tr>\n",
       "    <tr>\n",
       "      <th>2</th>\n",
       "      <td>66</td>\n",
       "      <td>72219</td>\n",
       "      <td>2023-01-12</td>\n",
       "    </tr>\n",
       "    <tr>\n",
       "      <th>3</th>\n",
       "      <td>16</td>\n",
       "      <td>99460</td>\n",
       "      <td>2023-01-15</td>\n",
       "    </tr>\n",
       "    <tr>\n",
       "      <th>4</th>\n",
       "      <td>34</td>\n",
       "      <td>34533</td>\n",
       "      <td>2023-05-30</td>\n",
       "    </tr>\n",
       "  </tbody>\n",
       "</table>\n",
       "</div>"
      ],
      "text/plain": [
       "   product_category_id  product_id  created_at\n",
       "0                   32       23002  2023-03-29\n",
       "1                   48        4323  2023-06-29\n",
       "2                   66       72219  2023-01-12\n",
       "3                   16       99460  2023-01-15\n",
       "4                   34       34533  2023-05-30"
      ]
     },
     "execution_count": 50,
     "metadata": {},
     "output_type": "execute_result"
    }
   ],
   "source": [
    "df_cat_100.head()"
   ]
  },
  {
   "cell_type": "code",
   "execution_count": 51,
   "id": "de3f56d9-4458-4cee-ba6e-60dfeb1c09a8",
   "metadata": {},
   "outputs": [
    {
     "data": {
      "text/html": [
       "<div>\n",
       "<style scoped>\n",
       "    .dataframe tbody tr th:only-of-type {\n",
       "        vertical-align: middle;\n",
       "    }\n",
       "\n",
       "    .dataframe tbody tr th {\n",
       "        vertical-align: top;\n",
       "    }\n",
       "\n",
       "    .dataframe thead th {\n",
       "        text-align: right;\n",
       "    }\n",
       "</style>\n",
       "<table border=\"1\" class=\"dataframe\">\n",
       "  <thead>\n",
       "    <tr style=\"text-align: right;\">\n",
       "      <th></th>\n",
       "      <th>product_category_id</th>\n",
       "      <th>product_id</th>\n",
       "      <th>created_at</th>\n",
       "    </tr>\n",
       "  </thead>\n",
       "  <tbody>\n",
       "    <tr>\n",
       "      <th>0</th>\n",
       "      <td>9662</td>\n",
       "      <td>98948</td>\n",
       "      <td>2023-05-26</td>\n",
       "    </tr>\n",
       "    <tr>\n",
       "      <th>1</th>\n",
       "      <td>1874</td>\n",
       "      <td>95398</td>\n",
       "      <td>2022-11-26</td>\n",
       "    </tr>\n",
       "    <tr>\n",
       "      <th>2</th>\n",
       "      <td>6063</td>\n",
       "      <td>10415</td>\n",
       "      <td>2022-01-06</td>\n",
       "    </tr>\n",
       "    <tr>\n",
       "      <th>3</th>\n",
       "      <td>7566</td>\n",
       "      <td>78774</td>\n",
       "      <td>2022-11-24</td>\n",
       "    </tr>\n",
       "    <tr>\n",
       "      <th>4</th>\n",
       "      <td>5558</td>\n",
       "      <td>55451</td>\n",
       "      <td>2023-09-02</td>\n",
       "    </tr>\n",
       "  </tbody>\n",
       "</table>\n",
       "</div>"
      ],
      "text/plain": [
       "   product_category_id  product_id  created_at\n",
       "0                 9662       98948  2023-05-26\n",
       "1                 1874       95398  2022-11-26\n",
       "2                 6063       10415  2022-01-06\n",
       "3                 7566       78774  2022-11-24\n",
       "4                 5558       55451  2023-09-02"
      ]
     },
     "execution_count": 51,
     "metadata": {},
     "output_type": "execute_result"
    }
   ],
   "source": [
    "df_cat_10000.head()"
   ]
  },
  {
   "cell_type": "markdown",
   "id": "172e4036-8359-4393-8226-4344254c3bfa",
   "metadata": {},
   "source": [
    "## 2. Create Tables\n",
    "- product_category_100: 카테고리가 100개\n",
    "- product_category_10000: 카테고리가 10000개"
   ]
  },
  {
   "cell_type": "code",
   "execution_count": 52,
   "id": "584f5a21-90ca-4f78-9e9d-87e8f321f60f",
   "metadata": {},
   "outputs": [],
   "source": [
    "import pymysql\n",
    "import sqlalchemy\n",
    "from sqlalchemy import create_engine\n",
    "\n",
    "pymysql.install_as_MySQLdb()\n",
    "# ref: https://stackoverflow.com/questions/4130922/how-to-increment-datetime-by-custom-months-in-python-without-using-library"
   ]
  },
  {
   "cell_type": "code",
   "execution_count": 53,
   "id": "dac9290a-92f3-4e62-bef0-ab1235aa2949",
   "metadata": {},
   "outputs": [],
   "source": [
    "# User database information\n",
    "USER = \"root\"\n",
    "PASSWORD = \"1111\"\n",
    "ENDPOINT = \"localhost\""
   ]
  },
  {
   "cell_type": "code",
   "execution_count": 54,
   "id": "11ea503a-bc47-458b-8f89-7e8834284431",
   "metadata": {},
   "outputs": [],
   "source": [
    "conn = pymysql.connect(\n",
    "    host=ENDPOINT,\n",
    "    user=USER,\n",
    "    password=PASSWORD,\n",
    "    port=3306,\n",
    "    cursorclass=pymysql.cursors.DictCursor,\n",
    ")\n",
    "\n",
    "cur = conn.cursor()"
   ]
  },
  {
   "cell_type": "code",
   "execution_count": 55,
   "id": "8c027a4d-1d7a-42e8-994a-fdcde548ba6d",
   "metadata": {},
   "outputs": [
    {
     "data": {
      "text/plain": [
       "1"
      ]
     },
     "execution_count": 55,
     "metadata": {},
     "output_type": "execute_result"
    }
   ],
   "source": [
    "# Create Schema\n",
    "cur.execute(\"CREATE DATABASE IF NOT EXISTS real_mysql;\")"
   ]
  },
  {
   "cell_type": "code",
   "execution_count": 56,
   "id": "38e1056e-65b9-41b0-8e0f-ac327e19fa4c",
   "metadata": {},
   "outputs": [],
   "source": [
    "# Create Table\n",
    "\n",
    "engine = create_engine(f\"mysql+mysqldb://{USER}:{PASSWORD}@{ENDPOINT}:3306\")\n",
    "# http://i5on9i.blogspot.com/2020/05/no-module-named-mysqldb.html\n",
    "\n",
    "df_cat_100.to_sql(\n",
    "    \"product_category_100\",\n",
    "    engine,\n",
    "    schema=\"real_mysql\",\n",
    "    index=False,\n",
    "    if_exists=\"replace\",\n",
    "    chunksize=10000,\n",
    ")\n",
    "\n",
    "df_cat_10000.to_sql(\n",
    "    \"product_category_10000\",\n",
    "    engine,\n",
    "    schema=\"real_mysql\",\n",
    "    index=False,\n",
    "    if_exists=\"replace\",\n",
    "    chunksize=10000,\n",
    ")"
   ]
  },
  {
   "cell_type": "code",
   "execution_count": 57,
   "id": "6a2a4e96-d9c3-4618-a819-c14f127c6fb2",
   "metadata": {},
   "outputs": [
    {
     "data": {
      "text/plain": [
       "1000000"
      ]
     },
     "execution_count": 57,
     "metadata": {},
     "output_type": "execute_result"
    }
   ],
   "source": [
    "# Alter Column Type\n",
    "\n",
    "cur.execute(\"alter table real_mysql.product_category_100 modify `product_category_id` int;\")\n",
    "cur.execute(\"alter table real_mysql.product_category_100 modify `product_id` int;\")\n",
    "cur.execute(\"alter table real_mysql.product_category_100 modify `created_at` date;\")\n",
    "cur.execute(\"alter table real_mysql.product_category_10000 modify `product_category_id` int;\")\n",
    "cur.execute(\"alter table real_mysql.product_category_10000 modify `product_id` int;\")\n",
    "cur.execute(\"alter table real_mysql.product_category_10000 modify `created_at` date;\")"
   ]
  },
  {
   "cell_type": "code",
   "execution_count": 58,
   "id": "59ac6229-4f0e-4e1b-aaaf-66e1e0b7a115",
   "metadata": {
    "tags": []
   },
   "outputs": [],
   "source": [
    "# Create Index (product_category_id, product_id)\n",
    "\n",
    "idx_product_category_product_id_100 = \"\"\"\n",
    "create index idx_product_category_product_id\n",
    "    on real_mysql.product_category_100 (product_category_id, product_id);\n",
    "\"\"\"\n",
    "\n",
    "idx_product_category_product_id_1000 = \"\"\"\n",
    "create index idx_product_category_product_id\n",
    "    on real_mysql.product_category_10000 (product_category_id, product_id);\n",
    "\"\"\""
   ]
  },
  {
   "cell_type": "code",
   "execution_count": 59,
   "id": "913ca724-1d22-422a-912b-28397b5398a5",
   "metadata": {},
   "outputs": [
    {
     "data": {
      "text/plain": [
       "0"
      ]
     },
     "execution_count": 59,
     "metadata": {},
     "output_type": "execute_result"
    }
   ],
   "source": [
    "cur.execute(idx_product_category_product_id_100)\n",
    "cur.execute(idx_product_category_product_id_1000)"
   ]
  },
  {
   "cell_type": "code",
   "execution_count": null,
   "id": "2fe2310b-f75f-4caf-b123-7f5bff52a5ef",
   "metadata": {},
   "outputs": [],
   "source": []
  }
 ],
 "metadata": {
  "kernelspec": {
   "display_name": "Python 3 (ipykernel)",
   "language": "python",
   "name": "python3"
  },
  "language_info": {
   "codemirror_mode": {
    "name": "ipython",
    "version": 3
   },
   "file_extension": ".py",
   "mimetype": "text/x-python",
   "name": "python",
   "nbconvert_exporter": "python",
   "pygments_lexer": "ipython3",
   "version": "3.9.7"
  },
  "widgets": {
   "application/vnd.jupyter.widget-state+json": {
    "state": {},
    "version_major": 2,
    "version_minor": 0
   }
  }
 },
 "nbformat": 4,
 "nbformat_minor": 5
}
