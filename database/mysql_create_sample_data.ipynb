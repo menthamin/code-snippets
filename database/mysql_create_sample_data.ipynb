{
 "cells": [
  {
   "cell_type": "markdown",
   "id": "d77ea8e3-9110-47bb-b6b2-e913fde1bfb8",
   "metadata": {},
   "source": [
    "# Craete Sample Table"
   ]
  },
  {
   "cell_type": "markdown",
   "id": "255023bc-8d1b-4045-9c96-847ec0824d4d",
   "metadata": {},
   "source": [
    "## 1. Create Sample Data"
   ]
  },
  {
   "cell_type": "markdown",
   "id": "8fd8c7f5-9ee9-4d69-831e-8cf34ad94e3b",
   "metadata": {
    "tags": []
   },
   "source": [
    "| gendor | date | sentence |\n",
    "| --- | --- | --- |\n",
    "| M | 2023-04-01 | quick quick the quick mysql |"
   ]
  },
  {
   "cell_type": "code",
   "execution_count": 5,
   "id": "132c6217-d841-49d7-9950-84e084030029",
   "metadata": {},
   "outputs": [
    {
     "name": "stdout",
     "output_type": "stream",
     "text": [
      "2022-10-18\n"
     ]
    }
   ],
   "source": [
    "import pandas as pd\n",
    "import itertools\n",
    "import random\n",
    "import time\n",
    "import nltk\n",
    "\n",
    "\n",
    "# https://stackoverflow.com/questions/553303/generate-a-random-date-between-two-other-dates\n",
    "def str_time_prop(start, end, time_format, prop):\n",
    "    \"\"\"Get a time at a proportion of a range of two formatted times.\n",
    "\n",
    "    start and end should be strings specifying times formatted in the\n",
    "    given format (strftime-style), giving an interval [start, end].\n",
    "    prop specifies how a proportion of the interval to be taken after\n",
    "    start.  The returned time will be in the specified format.\n",
    "    \"\"\"\n",
    "\n",
    "    stime = time.mktime(time.strptime(start, time_format))\n",
    "    etime = time.mktime(time.strptime(end, time_format))\n",
    "\n",
    "    ptime = stime + prop * (etime - stime)\n",
    "\n",
    "    return time.strftime(time_format, time.localtime(ptime))\n",
    "\n",
    "\n",
    "def random_date(start, end, prop):\n",
    "    return str_time_prop(start, end, \"%Y-%m-%d\", prop)\n",
    "\n",
    "\n",
    "print(random_date(\"2020-01-01\", \"2023-12-31\", random.random()))\n",
    "# print(generate_sentence(cfd, initstr))"
   ]
  },
  {
   "cell_type": "code",
   "execution_count": 12,
   "id": "bc960296-0712-4b4a-9939-0bab8bbc714f",
   "metadata": {},
   "outputs": [
    {
     "name": "stdout",
     "output_type": "stream",
     "text": [
      "mysql a jumps women a\n"
     ]
    }
   ],
   "source": [
    "def get_random_date():\n",
    "    return random_date(\"2022-01-01\", \"2023-12-31\", random.random())\n",
    "\n",
    "def generate_sentence(length=5):\n",
    "  \"\"\"Generates a random sentence in English.\"\"\"\n",
    "  words = [\"the\", \"quick\", \"brown\", \"fox\", \"jumps\", \"over\", \"the\", \"lazy\", \"dog\", \"man\", \"women\", \"car\", \"banana\", \"mysql\", \"database\", \"is\", \"a\", \"that\"]\n",
    "  return \" \".join(random.choice(words) for _ in range(length))\n",
    "\n",
    "print(generate_sentence())"
   ]
  },
  {
   "cell_type": "code",
   "execution_count": 13,
   "id": "ed2437a0-0a69-42eb-8da6-d38ecae38aa0",
   "metadata": {},
   "outputs": [],
   "source": [
    "SAMPLE_ROWS = 1000000"
   ]
  },
  {
   "cell_type": "code",
   "execution_count": 14,
   "id": "f82a5ec6-6b62-459f-aeb9-755f9708f8a7",
   "metadata": {},
   "outputs": [
    {
     "name": "stdout",
     "output_type": "stream",
     "text": [
      "0\n",
      "100000\n",
      "200000\n",
      "300000\n",
      "400000\n",
      "500000\n",
      "600000\n",
      "700000\n",
      "800000\n",
      "900000\n"
     ]
    }
   ],
   "source": [
    "sample_data = []\n",
    "for i in range(SAMPLE_ROWS):\n",
    "    if i % 100000 == 0:\n",
    "        print(i)\n",
    "    sample_data.append([\"M\", get_random_date(), generate_sentence(10)])\n",
    "    sample_data.append([\"F\", get_random_date(), generate_sentence(10)])"
   ]
  },
  {
   "cell_type": "code",
   "execution_count": 28,
   "id": "a43dac21-c1aa-4a1f-896a-2dba91905b5e",
   "metadata": {},
   "outputs": [],
   "source": [
    "col_list = [\"gender\", \"date\", \"sentence\"]"
   ]
  },
  {
   "cell_type": "code",
   "execution_count": 29,
   "id": "6bb06562-6ce6-4bad-b84f-0136bb99b51b",
   "metadata": {},
   "outputs": [],
   "source": [
    "df = pd.DataFrame(sample_data, columns=col_list)"
   ]
  },
  {
   "cell_type": "code",
   "execution_count": 30,
   "id": "b16f8273-dda6-4d8b-9c35-32f1c0a6329b",
   "metadata": {},
   "outputs": [
    {
     "data": {
      "text/html": [
       "<div>\n",
       "<style scoped>\n",
       "    .dataframe tbody tr th:only-of-type {\n",
       "        vertical-align: middle;\n",
       "    }\n",
       "\n",
       "    .dataframe tbody tr th {\n",
       "        vertical-align: top;\n",
       "    }\n",
       "\n",
       "    .dataframe thead th {\n",
       "        text-align: right;\n",
       "    }\n",
       "</style>\n",
       "<table border=\"1\" class=\"dataframe\">\n",
       "  <thead>\n",
       "    <tr style=\"text-align: right;\">\n",
       "      <th></th>\n",
       "      <th>gender</th>\n",
       "      <th>date</th>\n",
       "      <th>sentence</th>\n",
       "    </tr>\n",
       "  </thead>\n",
       "  <tbody>\n",
       "    <tr>\n",
       "      <th>0</th>\n",
       "      <td>M</td>\n",
       "      <td>2022-02-26</td>\n",
       "      <td>fox is car that dog man lazy the lazy women</td>\n",
       "    </tr>\n",
       "    <tr>\n",
       "      <th>1</th>\n",
       "      <td>F</td>\n",
       "      <td>2022-11-29</td>\n",
       "      <td>the a quick quick the women database the the that</td>\n",
       "    </tr>\n",
       "    <tr>\n",
       "      <th>2</th>\n",
       "      <td>M</td>\n",
       "      <td>2023-12-18</td>\n",
       "      <td>lazy database banana a over dog man over lazy car</td>\n",
       "    </tr>\n",
       "    <tr>\n",
       "      <th>3</th>\n",
       "      <td>F</td>\n",
       "      <td>2022-10-23</td>\n",
       "      <td>fox a that lazy car car women mysql car fox</td>\n",
       "    </tr>\n",
       "    <tr>\n",
       "      <th>4</th>\n",
       "      <td>M</td>\n",
       "      <td>2022-08-23</td>\n",
       "      <td>the man jumps the jumps quick fox the the the</td>\n",
       "    </tr>\n",
       "  </tbody>\n",
       "</table>\n",
       "</div>"
      ],
      "text/plain": [
       "  gender        date                                           sentence\n",
       "0      M  2022-02-26        fox is car that dog man lazy the lazy women\n",
       "1      F  2022-11-29  the a quick quick the women database the the that\n",
       "2      M  2023-12-18  lazy database banana a over dog man over lazy car\n",
       "3      F  2022-10-23        fox a that lazy car car women mysql car fox\n",
       "4      M  2022-08-23      the man jumps the jumps quick fox the the the"
      ]
     },
     "execution_count": 30,
     "metadata": {},
     "output_type": "execute_result"
    }
   ],
   "source": [
    "df.head()"
   ]
  },
  {
   "cell_type": "markdown",
   "id": "3d675635-e178-4723-a8ff-f1ea643c2a2e",
   "metadata": {},
   "source": [
    "## 2. Create Table\n",
    "\n",
    "### 2.1. Create \"gender_dates\" Table"
   ]
  },
  {
   "cell_type": "code",
   "execution_count": 31,
   "id": "584f5a21-90ca-4f78-9e9d-87e8f321f60f",
   "metadata": {},
   "outputs": [],
   "source": [
    "import pymysql\n",
    "import sqlalchemy\n",
    "from sqlalchemy import create_engine\n",
    "\n",
    "pymysql.install_as_MySQLdb()\n",
    "# date_after_month = datetime.today()+ relativedelta(months=1)\n",
    "# ref: https://stackoverflow.com/questions/4130922/how-to-increment-datetime-by-custom-months-in-python-without-using-library"
   ]
  },
  {
   "cell_type": "code",
   "execution_count": 32,
   "id": "37b8845b-02c9-4652-a2ad-29a3374a8e2d",
   "metadata": {},
   "outputs": [],
   "source": [
    "USER = \"root\"\n",
    "PASSWORD = \"1111\"\n",
    "ENDPOINT = \"localhost\""
   ]
  },
  {
   "cell_type": "code",
   "execution_count": 33,
   "id": "11ea503a-bc47-458b-8f89-7e8834284431",
   "metadata": {},
   "outputs": [],
   "source": [
    "conn = pymysql.connect(\n",
    "    host=ENDPOINT,\n",
    "    user=USER,\n",
    "    password=PASSWORD,\n",
    "    port=3306,\n",
    "    cursorclass=pymysql.cursors.DictCursor,\n",
    ")\n",
    "\n",
    "cur = conn.cursor()"
   ]
  },
  {
   "cell_type": "code",
   "execution_count": 34,
   "id": "8c027a4d-1d7a-42e8-994a-fdcde548ba6d",
   "metadata": {},
   "outputs": [
    {
     "data": {
      "text/plain": [
       "1"
      ]
     },
     "execution_count": 34,
     "metadata": {},
     "output_type": "execute_result"
    }
   ],
   "source": [
    "cur.execute(\"CREATE DATABASE IF NOT EXISTS real_mysql;\")"
   ]
  },
  {
   "cell_type": "code",
   "execution_count": 35,
   "id": "883d9a1c-d051-4b25-a551-96c6cdbacfcc",
   "metadata": {},
   "outputs": [],
   "source": [
    "engine = create_engine(f\"mysql+mysqldb://{USER}:{PASSWORD}@{ENDPOINT}:3306\")\n",
    "# http://i5on9i.blogspot.com/2020/05/no-module-named-mysqldb.html\n",
    "\n",
    "df.to_sql(\n",
    "    \"gender_dates\",\n",
    "    engine,\n",
    "    schema=\"real_mysql\",\n",
    "    index=False,\n",
    "    if_exists=\"replace\",\n",
    "    chunksize=10000,\n",
    ")"
   ]
  },
  {
   "cell_type": "code",
   "execution_count": 37,
   "id": "e9370749-5179-4ca5-8469-a61adb277bc0",
   "metadata": {},
   "outputs": [
    {
     "data": {
      "text/plain": [
       "2000000"
      ]
     },
     "execution_count": 37,
     "metadata": {},
     "output_type": "execute_result"
    }
   ],
   "source": [
    "cur.execute(\"alter table real_mysql.gender_dates modify `gender` varchar(10);\")\n",
    "cur.execute(\"alter table real_mysql.gender_dates modify `date` date;\")\n",
    "cur.execute(\"alter table real_mysql.gender_dates modify `sentence` varchar(255);\")"
   ]
  },
  {
   "cell_type": "markdown",
   "id": "9e3b6373-ca0c-4332-ba7d-84a7048b579b",
   "metadata": {},
   "source": [
    "### 2.2. Create \"big_table\" Table (gendor_dates x 10)"
   ]
  },
  {
   "cell_type": "code",
   "execution_count": 44,
   "id": "4d1a56fc-038e-40e6-90e2-bbee33c14d44",
   "metadata": {},
   "outputs": [],
   "source": [
    "create_big_table = \"\"\"\n",
    "create table real_mysql.big_table\n",
    "select * from real_mysql.gender_dates;\n",
    "\"\"\""
   ]
  },
  {
   "cell_type": "code",
   "execution_count": 45,
   "id": "840a406f-01c1-4700-992a-dc1d7ca04c13",
   "metadata": {},
   "outputs": [],
   "source": [
    "insert_big_table = \"\"\"\n",
    "insert into real_mysql.big_table\n",
    "select * from real_mysql.gendor_dates;\n",
    "\"\"\""
   ]
  },
  {
   "cell_type": "code",
   "execution_count": 46,
   "id": "70229775-d1e0-4a29-b134-700e408072ae",
   "metadata": {},
   "outputs": [
    {
     "data": {
      "text/plain": [
       "2000000"
      ]
     },
     "execution_count": 46,
     "metadata": {},
     "output_type": "execute_result"
    }
   ],
   "source": [
    "cur.execute(create_big_table)"
   ]
  },
  {
   "cell_type": "code",
   "execution_count": 48,
   "id": "60b60a3d-a851-427a-b20d-551dc22c37ee",
   "metadata": {},
   "outputs": [],
   "source": [
    "for _ in range(9):\n",
    "    cur.execute(insert_big_table)"
   ]
  }
 ],
 "metadata": {
  "kernelspec": {
   "display_name": "Python 3 (ipykernel)",
   "language": "python",
   "name": "python3"
  },
  "language_info": {
   "codemirror_mode": {
    "name": "ipython",
    "version": 3
   },
   "file_extension": ".py",
   "mimetype": "text/x-python",
   "name": "python",
   "nbconvert_exporter": "python",
   "pygments_lexer": "ipython3",
   "version": "3.9.7"
  },
  "widgets": {
   "application/vnd.jupyter.widget-state+json": {
    "state": {},
    "version_major": 2,
    "version_minor": 0
   }
  }
 },
 "nbformat": 4,
 "nbformat_minor": 5
}
