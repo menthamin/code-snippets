{
 "cells": [
  {
   "cell_type": "code",
   "execution_count": 16,
   "id": "7f97e103-dc99-4c09-9dd4-a93fe75261ef",
   "metadata": {},
   "outputs": [],
   "source": [
    "package main\n",
    "import \"model/models\""
   ]
  },
  {
   "cell_type": "code",
   "execution_count": 17,
   "id": "8bc3a466-a1b8-4eeb-9c87-c5005aa226b8",
   "metadata": {},
   "outputs": [
    {
     "ename": "ERROR",
     "evalue": "repl.go:2:38: undefined \"model\" in model.GoogleAdsVendorConversionTags <*ast.SelectorExpr>",
     "output_type": "error",
     "traceback": [
      "repl.go:2:38: undefined \"model\" in model.GoogleAdsVendorConversionTags <*ast.SelectorExpr>"
     ]
    }
   ],
   "source": [
    "func main () {\n",
    "    GoogleAdsVendorConversionTags := model.GoogleAdsVendorConversionTags()\n",
    "}"
   ]
  },
  {
   "cell_type": "code",
   "execution_count": null,
   "id": "877239c8-c694-4f2c-97b3-a97bcc3ed252",
   "metadata": {},
   "outputs": [],
   "source": []
  }
 ],
 "metadata": {
  "kernelspec": {
   "display_name": "Go",
   "language": "go",
   "name": "gophernotes"
  },
  "language_info": {
   "codemirror_mode": "",
   "file_extension": ".go",
   "mimetype": "",
   "name": "go",
   "nbconvert_exporter": "",
   "pygments_lexer": "",
   "version": "go1.18.1"
  },
  "widgets": {
   "application/vnd.jupyter.widget-state+json": {
    "state": {},
    "version_major": 2,
    "version_minor": 0
   }
  }
 },
 "nbformat": 4,
 "nbformat_minor": 5
}
