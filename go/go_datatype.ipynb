{
 "cells": [
  {
   "cell_type": "markdown",
   "id": "a65479d3-2262-41d1-9176-dcbbcef5d6d3",
   "metadata": {},
   "source": [
    "# 언마샬\n",
    "- https://soyoung-new-challenge.tistory.com/\n",
    "- https://www.joinc.co.kr/w/man/12/golang/json"
   ]
  },
  {
   "cell_type": "code",
   "execution_count": 39,
   "id": "bf04939c-5b75-4d2b-884e-740e3dc0434e",
   "metadata": {},
   "outputs": [
    {
     "name": "stdout",
     "output_type": "stream",
     "text": [
      "[{123456789 customers/123456789/conversionActions/123459028 123459028 Purchase Paid AW-12345 0cBDCMTCu4 false} {123456789 customers/123456789/conversionActions/1234039749 1234039749 Initiate Checkout AW-12345 GpK3CMWyvY false} {123456789 customers/123456789/conversionActions/1234039752 1234039752 Purchase AW-12345 2-L2CMiyvY false} {123456789 customers/123456789/conversionActions/1234039776 1234039776 Add To Cart AW-12345 MTH_COCyvY false} {123456789 customers/123456789/conversionActions/1234087072 1234087072 Page View AW-12345 b9MVCKCkwI false}]\n"
     ]
    },
    {
     "name": "stderr",
     "output_type": "stream",
     "text": [
      "string\n"
     ]
    },
    {
     "data": {
      "text/plain": [
       "553 <nil>"
      ]
     },
     "execution_count": 39,
     "metadata": {},
     "output_type": "execute_result"
    }
   ],
   "source": [
    "import (\n",
    "    \"fmt\"\n",
    "    \"reflect\"\n",
    "    \"encoding/json\"\n",
    "    \"io/ioutil\"\n",
    "    \"os\"\n",
    "    \"bytes\"\n",
    ")\n",
    "\n",
    "data := `[\n",
    "    {\n",
    "      \"customer_id\": 123456789,\n",
    "      \"resource_name\": \"customers/123456789/conversionActions/123459028\",\n",
    "      \"conversion_action_id\": 123459028,\n",
    "      \"conversion_action_name\": \"Purchase Paid\",\n",
    "      \"conversion_tag_id\": \"AW-12345\",\n",
    "      \"conversion_tag_label\": \"0cBDCMTCu4\",\n",
    "      \"error\": false\n",
    "    },\n",
    "    {\n",
    "      \"customer_id\": 123456789,\n",
    "      \"resource_name\": \"customers/123456789/conversionActions/1234039749\",\n",
    "      \"conversion_action_id\": 1234039749,\n",
    "      \"conversion_action_name\": \"Initiate Checkout\",\n",
    "      \"conversion_tag_id\": \"AW-12345\",\n",
    "      \"conversion_tag_label\": \"GpK3CMWyvY\",\n",
    "      \"error\": false\n",
    "    },\n",
    "    {\n",
    "      \"customer_id\": 123456789,\n",
    "      \"resource_name\": \"customers/123456789/conversionActions/1234039752\",\n",
    "      \"conversion_action_id\": 1234039752,\n",
    "      \"conversion_action_name\": \"Purchase\",\n",
    "      \"conversion_tag_id\": \"AW-12345\",\n",
    "      \"conversion_tag_label\": \"2-L2CMiyvY\",\n",
    "      \"error\": false\n",
    "    },\n",
    "    {\n",
    "      \"customer_id\": 123456789,\n",
    "      \"resource_name\": \"customers/123456789/conversionActions/1234039776\",\n",
    "      \"conversion_action_id\": 1234039776,\n",
    "      \"conversion_action_name\": \"Add To Cart\",\n",
    "      \"conversion_tag_id\": \"AW-12345\",\n",
    "      \"conversion_tag_label\": \"MTH_COCyvY\",\n",
    "      \"error\": false\n",
    "    },\n",
    "    {\n",
    "      \"customer_id\": 123456789,\n",
    "      \"resource_name\": \"customers/123456789/conversionActions/1234087072\",\n",
    "      \"conversion_action_id\": 1234087072,\n",
    "      \"conversion_action_name\": \"Page View\",\n",
    "      \"conversion_tag_id\": \"AW-12345\",\n",
    "      \"conversion_tag_label\": \"b9MVCKCkwI\",\n",
    "      \"error\": false\n",
    "    }\n",
    "  ]`\n",
    "println(reflect.TypeOf(data))\n",
    "\n",
    "type conversionTagInfo struct{\n",
    "    CustomerId int64 `json:\"customer_id\"`\n",
    "    ResourceName string `json:\"resource_name\"`\n",
    "    ConversionActionId int64 `json:\"conversion_action_id\"`\n",
    "    ConversionActionName string `json:\"conversion_action_name\"`\n",
    "    ConversionActionTagId string `json:\"conversion_tag_id\"`\n",
    "    ConversionActionTagLabel string `json:\"conversion_tag_label\"`\n",
    "    Erorr bool\n",
    "}\n",
    "\n",
    "infos := []conversionTagInfo{}\n",
    "json.Unmarshal([]byte(data), &infos)\n",
    "fmt.Println(infos)"
   ]
  },
  {
   "cell_type": "code",
   "execution_count": 16,
   "id": "70066465-1ce1-4fea-b431-2663ed42aec4",
   "metadata": {},
   "outputs": [
    {
     "data": {
      "text/plain": [
       "[{123456789 customers/123456789/conversionActions/123459028 123459028 Purchase Paid AW-12345 0cBDCMTCu4 false} {123456789 customers/123456789/conversionActions/1234039749 1234039749 Initiate Checkout AW-12345 GpK3CMWyvY false} {123456789 customers/123456789/conversionActions/1234039752 1234039752 Purchase AW-12345 2-L2CMiyvY false} {123456789 customers/123456789/conversionActions/1234039776 1234039776 Add To Cart AW-12345 MTH_COCyvY false} {123456789 customers/123456789/conversionActions/1234087072 1234087072 Page View AW-12345 b9MVCKCkwI false}]"
      ]
     },
     "execution_count": 16,
     "metadata": {},
     "output_type": "execute_result"
    }
   ],
   "source": [
    "infos"
   ]
  },
  {
   "cell_type": "code",
   "execution_count": 17,
   "id": "f545f7d2-42a3-4926-89fe-821e5bee81ce",
   "metadata": {},
   "outputs": [
    {
     "name": "stderr",
     "output_type": "stream",
     "text": [
      "5\n",
      "[]struct { CustomerId int64 \"json:\\\"customer_id\\\"\"; ResourceName string \"json:\\\"resource_name\\\"\"; ConversionActionId int64 \"json:\\\"conversion_action_id\\\"\"; ConversionActionName string \"json:\\\"conversion_action_name\\\"\"; ConversionActionTagId string \"json:\\\"conversion_tag_id\\\"\"; ConversionActionTagLabel string \"json:\\\"conversion_tag_label\\\"\"; Erorr bool }\n"
     ]
    },
    {
     "data": {
      "text/plain": [
       "123456789"
      ]
     },
     "execution_count": 17,
     "metadata": {},
     "output_type": "execute_result"
    }
   ],
   "source": [
    "println(len(infos))\n",
    "println(reflect.TypeOf(infos))\n",
    "infos[0].CustomerId"
   ]
  },
  {
   "cell_type": "markdown",
   "id": "5a1e860b-f660-4f8f-9078-1d184d7b2e32",
   "metadata": {},
   "source": [
    "# 언마샬 2"
   ]
  },
  {
   "cell_type": "code",
   "execution_count": 1,
   "id": "54942abf-ae59-42c0-826a-03b3616c2eea",
   "metadata": {},
   "outputs": [],
   "source": [
    "package main\n",
    "\n",
    "import (\n",
    "\t\"encoding/json\"\n",
    "\t\"fmt\"\n",
    "\t\"io/ioutil\"\n",
    "\t\"net/http\"\n",
    "\t\"net/url\"\n",
    "\t\"os\"\n",
    "\t\"strconv\"\n",
    "    \"reflect\"\n",
    ")\n",
    "\n",
    "temp_data := `[\n",
    "{\n",
    "\"is_error\": true,\n",
    "\"error_code\": \"conversion_action_error: DUPLICATE_NAME\",\n",
    "\"error_message\": \"The specified conversion action name already exists.\",\n",
    "\"conversion_action_name\": \"Plugo: Page View\",\n",
    "\"conversion_action_category\": \"PAGE_VIEW\",\n",
    "\"conversion_action_resource_name\": null\n",
    "},\n",
    "{\n",
    "\"is_error\": true,\n",
    "\"error_code\": \"conversion_action_error: DUPLICATE_NAME\",\n",
    "\"error_message\": \"The specified conversion action name already exists.\",\n",
    "\"conversion_action_name\": \"Plugo: Add To Cart\",\n",
    "\"conversion_action_category\": \"ADD_TO_CART\",\n",
    "\"conversion_action_resource_name\": null\n",
    "},\n",
    "{\n",
    "\"is_error\": true,\n",
    "\"error_code\": \"conversion_action_error: DUPLICATE_NAME\",\n",
    "\"error_message\": \"The specified conversion action name already exists.\",\n",
    "\"conversion_action_name\": \"Plugo: Initiate Checkout\",\n",
    "\"conversion_action_category\": \"BEGIN_CHECKOUT\",\n",
    "\"conversion_action_resource_name\": null\n",
    "},\n",
    "{\n",
    "\"is_error\": true,\n",
    "\"error_code\": \"conversion_action_error: DUPLICATE_NAME\",\n",
    "\"error_message\": \"The specified conversion action name already exists.\",\n",
    "\"conversion_action_name\": \"Plugo: Purchase\",\n",
    "\"conversion_action_category\": \"PURCHASE\",\n",
    "\"conversion_action_resource_name\": null\n",
    "},\n",
    "{\n",
    "\"is_error\": true,\n",
    "\"error_code\": \"conversion_action_error: DUPLICATE_NAME\",\n",
    "\"error_message\": \"The specified conversion action name already exists.\",\n",
    "\"conversion_action_name\": \"Plugo: Purchase Paid\",\n",
    "\"conversion_action_category\": \"PURCHASE\",\n",
    "\"conversion_action_resource_name\": null\n",
    "}]`\n",
    "\n",
    "type CreateConversionActionsResponse struct {\n",
    "\tIsError\t\t\t\t\t\t\tbool \t`json:\"is_error\"`\n",
    "\tErrorCode\t\t\t\t\t\tstring \t`json:\"error_code\"`\n",
    "\tErrorMessage\t\t\t\t\tstring \t`json:\"error_message\"`\n",
    "\tConversionActionName\t\t\tstring \t`json:\"conversion_action_name\"`\n",
    "\tConversionActionCategory\t\tstring\t`json:\"conversion_action_category\"`\n",
    "\tConversionActionResourceName\tstring\t`json:\"conversion_action_resource_name\"`\n",
    "}\n",
    "\n",
    "conversionTagsInfo := []CreateConversionActionsResponse{}\n",
    "json.Unmarshal([]byte(temp_data), &conversionTagsInfo)"
   ]
  },
  {
   "cell_type": "code",
   "execution_count": 5,
   "id": "79783677-b86e-4477-bcbd-a127b06bbb8f",
   "metadata": {},
   "outputs": [
    {
     "name": "stderr",
     "output_type": "stream",
     "text": [
      "[{true conversion_action_error: DUPLICATE_NAME The specified conversion action name already exists. Plugo: Page View PAGE_VIEW } {true conversion_action_error: DUPLICATE_NAME The specified conversion action name already exists. Plugo: Add To Cart ADD_TO_CART } {true conversion_action_error: DUPLICATE_NAME The specified conversion action name already exists. Plugo: Initiate Checkout BEGIN_CHECKOUT } {true conversion_action_error: DUPLICATE_NAME The specified conversion action name already exists. Plugo: Purchase PURCHASE } {true conversion_action_error: DUPLICATE_NAME The specified conversion action name already exists. Plugo: Purchase Paid PURCHASE }]\n",
      "[]struct { IsError bool \"json:\\\"is_error\\\"\"; ErrorCode string \"json:\\\"error_code\\\"\"; ErrorMessage string \"json:\\\"error_message\\\"\"; ConversionActionName string \"json:\\\"conversion_action_name\\\"\"; ConversionActionCategory string \"json:\\\"conversion_action_category\\\"\"; ConversionActionResourceName string \"json:\\\"conversion_action_resource_name\\\"\" }\n"
     ]
    }
   ],
   "source": [
    "println(conversionTagsInfo)\n",
    "println(reflect.TypeOf(conversionTagsInfo))"
   ]
  },
  {
   "cell_type": "markdown",
   "id": "7b8dc341-185a-4ef9-bdfe-46bba475d6b3",
   "metadata": {},
   "source": [
    "# 언마샬 예제"
   ]
  },
  {
   "cell_type": "code",
   "execution_count": 7,
   "id": "6de1bd82-71ee-4319-8bfb-08417e0fe1d2",
   "metadata": {},
   "outputs": [
    {
     "name": "stdout",
     "output_type": "stream",
     "text": [
      "struct { UserID int \"json:\\\"user_id\\\"\"; Email string \"json:\\\"email\\\"\"; Age *int \"json:\\\"age,omitempty\\\"\"; Blog string \"json:\\\"blog\\\"\"; FaceBook string \"json:\\\"facebook\\\"\"; Description string }{UserID:1001, Email:\"foo@example.com\", Age:(*int)(nil), Blog:\"https://blog.example.com\", FaceBook:\"https://foo.facebook.com\", Description:\"Hello World\"}\n",
      "Age : <nil>\n"
     ]
    },
    {
     "data": {
      "text/plain": [
       "12 <nil>"
      ]
     },
     "execution_count": 7,
     "metadata": {},
     "output_type": "execute_result"
    }
   ],
   "source": [
    "type UserInfo struct {\n",
    "\tUserID      int    `json:\"user_id\"`\n",
    "\tEmail       string `json:\"email\"`\n",
    "\tAge         *int   `json:\"age,omitempty\"`\n",
    "\tBlog        string `json:\"blog\"`\n",
    "\tFaceBook    string `json:\"facebook\"`\n",
    "\tDescription string\n",
    "}\n",
    "\n",
    "inputData := `{\n",
    "\t\"Description\" : \"Hello World\",\n",
    "\t\"blog\" : \"https://blog.example.com\",\n",
    "\t\"email\" : \"foo@example.com\",\n",
    "\t\"facebook\" : \"https://foo.facebook.com\",\n",
    "\t\"user_id\" : 1001\n",
    " }`\n",
    "\n",
    "out := UserInfo{}\n",
    "json.Unmarshal([]byte(inputData), &out)\n",
    "fmt.Printf(\"%#v\\n\", out)\n",
    "fmt.Println(\"Age :\", out.Age)"
   ]
  },
  {
   "cell_type": "code",
   "execution_count": 8,
   "id": "ea2a1cc4-22ee-479f-a8e1-9f016bb200eb",
   "metadata": {},
   "outputs": [
    {
     "data": {
      "text/plain": [
       "{1001 foo@example.com <nil> https://blog.example.com https://foo.facebook.com Hello World}"
      ]
     },
     "execution_count": 8,
     "metadata": {},
     "output_type": "execute_result"
    }
   ],
   "source": [
    "out"
   ]
  },
  {
   "cell_type": "code",
   "execution_count": 9,
   "id": "6ef25ca0-0751-48a9-91da-ffcfa5f81bf3",
   "metadata": {},
   "outputs": [
    {
     "name": "stderr",
     "output_type": "stream",
     "text": [
      "string\n"
     ]
    },
    {
     "name": "stdout",
     "output_type": "stream",
     "text": [
      "[{admin pwdtlchd50wh 49.247.134.77 27017} {admin2 pwdtlchd50wh2 49.247.134.772 270172}]\n"
     ]
    },
    {
     "data": {
      "text/plain": [
       "88 <nil>"
      ]
     },
     "execution_count": 9,
     "metadata": {},
     "output_type": "execute_result"
    }
   ],
   "source": [
    "authlist := `[{\n",
    "    \"username\" : \"admin\",\n",
    "    \"password\" : \"pwdtlchd50wh\",\n",
    "    \"hostname\" : \"49.247.134.77\",\n",
    "    \"port\" : 27017\n",
    "},{\n",
    "    \"username\" : \"admin2\",\n",
    "    \"password\" : \"pwdtlchd50wh2\",\n",
    "    \"hostname\" : \"49.247.134.772\",\n",
    "    \"port\" : 270172\n",
    "}]`\n",
    "\n",
    "println(reflect.TypeOf(authlist))\n",
    "\n",
    "type Info struct{\n",
    "    Username string\n",
    "    Password string\n",
    "    Hostname string\n",
    "    Port int\n",
    "}\n",
    "\n",
    "// list로 들어오는 경우는 아래와 같이\n",
    "var infos []Info\n",
    "\n",
    "json.Unmarshal([]byte(authlist), &infos)\n",
    "\n",
    "fmt.Println(infos)"
   ]
  },
  {
   "cell_type": "code",
   "execution_count": 10,
   "id": "ca1ddc8a-3e11-4516-9f1c-ad29e4b110db",
   "metadata": {},
   "outputs": [
    {
     "data": {
      "text/plain": [
       "[91 123 10 32 32 32 32 34 117 115 101 114 110 97 109 101 34 32 58 32 34 97 100 109 105 110 34 44 10 32 32 32 32 34 112 97 115 115 119 111 114 100 34 32 58 32 34 112 119 100 116 108 99 104 100 53 48 119 104 34 44 10 32 32 32 32 34 104 111 115 116 110 97 109 101 34 32 58 32 34 52 57 46 50 52 55 46 49 51 52 46 55 55 34 44 10 32 32 32 32 34 112 111 114 116 34 32 58 32 50 55 48 49 55 10 125 44 123 10 32 32 32 32 34 117 115 101 114 110 97 109 101 34 32 58 32 34 97 100 109 105 110 50 34 44 10 32 32 32 32 34 112 97 115 115 119 111 114 100 34 32 58 32 34 112 119 100 116 108 99 104 100 53 48 119 104 50 34 44 10 32 32 32 32 34 104 111 115 116 110 97 109 101 34 32 58 32 34 52 57 46 50 52 55 46 49 51 52 46 55 55 50 34 44 10 32 32 32 32 34 112 111 114 116 34 32 58 32 50 55 48 49 55 50 10 125 93]"
      ]
     },
     "execution_count": 10,
     "metadata": {},
     "output_type": "execute_result"
    }
   ],
   "source": [
    "[]byte(authlist)"
   ]
  },
  {
   "cell_type": "code",
   "execution_count": 11,
   "id": "ea26c6e5-a315-4ad0-ac4e-dccc46f7c863",
   "metadata": {},
   "outputs": [
    {
     "name": "stderr",
     "output_type": "stream",
     "text": [
      "100 100\n",
      "[65 66 67] ABC\n"
     ]
    }
   ],
   "source": [
    "// http://golang.site/go/article/5-Go-%EB%8D%B0%EC%9D%B4%ED%83%80-%ED%83%80%EC%9E%85\n",
    "var i int = 100\n",
    "var u uint = uint(i)\n",
    "var f float32 = float32(i)  \n",
    "println(f, u)\n",
    "\n",
    "str := \"ABC\"\n",
    "bytes := []byte(str)\n",
    "str2 := string(bytes)\n",
    "println(bytes, str2)"
   ]
  },
  {
   "cell_type": "code",
   "execution_count": 12,
   "id": "9164c38b-2b6f-421c-b60d-bcb0b7bf7957",
   "metadata": {},
   "outputs": [
    {
     "ename": "ERROR",
     "evalue": "repl.go:1:10: cannot convert string to []string: data",
     "output_type": "error",
     "traceback": [
      "repl.go:1:10: cannot convert string to []string: data"
     ]
    }
   ],
   "source": [
    "[]string(data)"
   ]
  },
  {
   "cell_type": "code",
   "execution_count": 13,
   "id": "91fa7be9-7c4d-4d3d-8bc2-ea70a17fb8ab",
   "metadata": {},
   "outputs": [],
   "source": [
    "var a []string"
   ]
  },
  {
   "cell_type": "code",
   "execution_count": 14,
   "id": "a2b4a182-9a85-4f6c-895b-4b0f3df3c20f",
   "metadata": {},
   "outputs": [],
   "source": [
    "a = append(a, \"A\")\n",
    "a = append(a, \"B\")"
   ]
  },
  {
   "cell_type": "code",
   "execution_count": 15,
   "id": "4f3a0bea-5941-4640-8525-3d3c45756293",
   "metadata": {},
   "outputs": [
    {
     "data": {
      "text/plain": [
       "[A B]"
      ]
     },
     "execution_count": 15,
     "metadata": {},
     "output_type": "execute_result"
    }
   ],
   "source": [
    "a"
   ]
  },
  {
   "cell_type": "markdown",
   "id": "f116802d-0c9f-4ed5-9ec5-37f63aed5d8d",
   "metadata": {},
   "source": [
    "\n",
    "# 1. 배열\n",
    "- 선언 시 고정된 값을 가진다\n",
    "- [3]int, [5]int는 다른 자료형이다\n",
    "- 출처: http://golang.site/"
   ]
  },
  {
   "cell_type": "code",
   "execution_count": 16,
   "id": "73da28da-a9c4-403b-8bc9-48dcbbb54103",
   "metadata": {},
   "outputs": [
    {
     "name": "stderr",
     "output_type": "stream",
     "text": [
      "2\n"
     ]
    }
   ],
   "source": [
    "var a [3]int  //정수형 3개 요소를 갖는 배열 a 선언\n",
    "a[0] = 1\n",
    "a[1] = 2\n",
    "a[2] = 3\n",
    "println(a[1]) // 2 출력"
   ]
  },
  {
   "cell_type": "code",
   "execution_count": 17,
   "id": "c648f43b-170d-45fc-bbfe-0d9f5e6d5d04",
   "metadata": {},
   "outputs": [
    {
     "data": {
      "text/plain": [
       "[3]int"
      ]
     },
     "execution_count": 17,
     "metadata": {},
     "output_type": "execute_result"
    }
   ],
   "source": [
    "reflect.TypeOf(a)"
   ]
  },
  {
   "cell_type": "code",
   "execution_count": 18,
   "id": "493b926f-a99c-4cf1-9bf6-5c2996a2a2fb",
   "metadata": {},
   "outputs": [
    {
     "ename": "ERROR",
     "evalue": "repl.go:1:1: error compiling assignment: a = []int{1, 2, 3, 4, 5}\n\trepl.go:1:1: incompatible types in assignment: [3]int = []int",
     "output_type": "error",
     "traceback": [
      "repl.go:1:1: error compiling assignment: a = []int{1, 2, 3, 4, 5}\n\trepl.go:1:1: incompatible types in assignment: [3]int = []int"
     ]
    }
   ],
   "source": [
    "a = []int{1, 2, 3, 4, 5}"
   ]
  },
  {
   "cell_type": "code",
   "execution_count": 19,
   "id": "d990791e-5956-4562-b445-4cd460f6292f",
   "metadata": {},
   "outputs": [],
   "source": [
    "var a1 = [3]int{1, 2, 3}\n",
    "var a3 = [...]int{1, 2, 3, 4, 5} "
   ]
  },
  {
   "cell_type": "code",
   "execution_count": 20,
   "id": "b299ceff-e29e-46d8-b8f4-18e38960eed0",
   "metadata": {},
   "outputs": [
    {
     "name": "stderr",
     "output_type": "stream",
     "text": [
      "[3]int\n",
      "[5]int\n"
     ]
    }
   ],
   "source": [
    "println(reflect.TypeOf(a1))\n",
    "println(reflect.TypeOf(a3))"
   ]
  },
  {
   "cell_type": "code",
   "execution_count": 21,
   "id": "10f705e4-a4f5-4d36-96ed-29e293baeaaa",
   "metadata": {},
   "outputs": [
    {
     "name": "stderr",
     "output_type": "stream",
     "text": [
      "[3][4][5]int\n",
      "[[[0 0 0 0 0] [0 0 10 0 0] [0 0 0 0 0] [0 0 0 0 0]] [[0 0 0 0 0] [0 0 0 0 0] [0 0 0 0 0] [0 0 0 0 0]] [[0 0 0 0 0] [0 0 0 0 0] [0 0 0 0 0] [0 0 0 0 0]]]\n"
     ]
    }
   ],
   "source": [
    "var multiArray [3][4][5]int  // 정의\n",
    "multiArray[0][1][2] = 10     // 사용\n",
    "println(reflect.TypeOf(multiArray))\n",
    "println(multiArray)"
   ]
  },
  {
   "cell_type": "code",
   "execution_count": 22,
   "id": "59b09741-fbc0-40e1-827f-38472843f50f",
   "metadata": {},
   "outputs": [
    {
     "name": "stderr",
     "output_type": "stream",
     "text": [
      "6\n"
     ]
    }
   ],
   "source": [
    "var a = [2][3]int{\n",
    "    {1, 2, 3},\n",
    "    {4, 5, 6},  //끝에 콤마 추가\n",
    "}\n",
    "println(a[1][2])"
   ]
  },
  {
   "cell_type": "markdown",
   "id": "4388d432-9967-4648-9a1d-50e9aa22a809",
   "metadata": {},
   "source": [
    "# 2. 슬라이스\n",
    "- 장점: 고정된 크기를 갖지 않는다"
   ]
  },
  {
   "cell_type": "code",
   "execution_count": 23,
   "id": "41f13e67-936e-49b5-83cd-e8fcbb6b8eea",
   "metadata": {},
   "outputs": [
    {
     "name": "stdout",
     "output_type": "stream",
     "text": [
      "[1 10 3]\n"
     ]
    },
    {
     "data": {
      "text/plain": [
       "9 <nil>"
      ]
     },
     "execution_count": 23,
     "metadata": {},
     "output_type": "execute_result"
    }
   ],
   "source": [
    "var a []int        //슬라이스 변수 선언\n",
    "a = []int{1, 2, 3} //슬라이스에 리터럴값 지정\n",
    "a[1] = 10\n",
    "fmt.Println(a)     // [1, 10, 3]출력"
   ]
  },
  {
   "cell_type": "code",
   "execution_count": 24,
   "id": "6a86229a-36ee-493d-b602-a1eb18e18fb6",
   "metadata": {},
   "outputs": [
    {
     "data": {
      "text/plain": [
       "[]int"
      ]
     },
     "execution_count": 24,
     "metadata": {},
     "output_type": "execute_result"
    }
   ],
   "source": [
    "reflect.TypeOf(a)"
   ]
  },
  {
   "cell_type": "code",
   "execution_count": 25,
   "id": "08566b06-f80b-4652-a042-4dde8e5097a2",
   "metadata": {},
   "outputs": [
    {
     "name": "stderr",
     "output_type": "stream",
     "text": [
      "5 10\n",
      "[0 0 0 0 0]\n"
     ]
    }
   ],
   "source": [
    "s := make([]int, 5, 10)\n",
    "println(len(s), cap(s)) // len 5, cap 10\n",
    "println(s)"
   ]
  },
  {
   "cell_type": "code",
   "execution_count": 26,
   "id": "a3698a35-937f-4281-9411-33573a227a60",
   "metadata": {},
   "outputs": [
    {
     "data": {
      "text/plain": [
       "[]int"
      ]
     },
     "execution_count": 26,
     "metadata": {},
     "output_type": "execute_result"
    }
   ],
   "source": [
    "reflect.TypeOf(s)"
   ]
  },
  {
   "cell_type": "code",
   "execution_count": 27,
   "id": "b74e71e5-b94c-4931-bb51-e17b1d8b2666",
   "metadata": {},
   "outputs": [
    {
     "name": "stderr",
     "output_type": "stream",
     "text": [
      "Nil Slice\n",
      "0 0\n"
     ]
    }
   ],
   "source": [
    "var s []int\n",
    "\n",
    "if s == nil {\n",
    "    println(\"Nil Slice\")\n",
    "}\n",
    "println(len(s), cap(s)) // 모두 0"
   ]
  },
  {
   "cell_type": "code",
   "execution_count": 28,
   "id": "d10afc51-775e-4f7c-a5d8-adc8873eaa12",
   "metadata": {},
   "outputs": [
    {
     "name": "stdout",
     "output_type": "stream",
     "text": [
      "[2 3 4]\n"
     ]
    },
    {
     "data": {
      "text/plain": [
       "8 <nil>"
      ]
     },
     "execution_count": 28,
     "metadata": {},
     "output_type": "execute_result"
    }
   ],
   "source": [
    "s := []int{0, 1, 2, 3, 4, 5}\n",
    "s = s[2:5]  \n",
    "fmt.Println(s) //2,3,4 출력"
   ]
  },
  {
   "cell_type": "markdown",
   "id": "0412c577-6afd-4375-8b69-c1c0e885ff90",
   "metadata": {},
   "source": [
    "## 슬라이스 Append, Copy"
   ]
  },
  {
   "cell_type": "code",
   "execution_count": 29,
   "id": "ecaef743-1f1a-4189-9e82-e0dbbab5f902",
   "metadata": {},
   "outputs": [
    {
     "name": "stderr",
     "output_type": "stream",
     "text": [
      "[0 1 2 11 22 33 1 2 3 4 5]\n"
     ]
    }
   ],
   "source": [
    "s := []int{0, 1}\n",
    "s = append(s, 2)\n",
    "s = append(s, 11, 22, 33)\n",
    "s = append(s, 1, 2, 3, 4, 5)\n",
    "println(s)"
   ]
  },
  {
   "cell_type": "code",
   "execution_count": 30,
   "id": "4279d7be-23da-4057-8629-83503d1fcf0e",
   "metadata": {},
   "outputs": [
    {
     "data": {
      "text/plain": [
       "16"
      ]
     },
     "execution_count": 30,
     "metadata": {},
     "output_type": "execute_result"
    }
   ],
   "source": [
    "cap(s)"
   ]
  },
  {
   "cell_type": "code",
   "execution_count": 31,
   "id": "a4a118a3-8eff-4e3e-8948-18b77ce07705",
   "metadata": {},
   "outputs": [
    {
     "name": "stdout",
     "output_type": "stream",
     "text": [
      "1 3\n",
      "2 3\n",
      "3 3\n",
      "4 6\n",
      "5 6\n",
      "6 6\n",
      "7 12\n",
      "8 12\n",
      "9 12\n",
      "10 12\n",
      "11 12\n",
      "12 12\n",
      "13 24\n",
      "14 24\n",
      "15 24\n",
      "[1 2 3 4 5 6 7 8 9 10 11 12 13 14 15]\n"
     ]
    },
    {
     "data": {
      "text/plain": [
       "38 <nil>"
      ]
     },
     "execution_count": 31,
     "metadata": {},
     "output_type": "execute_result"
    }
   ],
   "source": [
    "// len=0, cap=3 인 슬라이스\n",
    "sliceA := make([]int, 0, 3)\n",
    "\n",
    "// 계속 한 요소씩 추가\n",
    "for i := 1; i <= 15; i++ {\n",
    "    sliceA = append(sliceA, i)\n",
    "    // 슬라이스 길이와 용량 확인\n",
    "    fmt.Println(len(sliceA), cap(sliceA))\n",
    "}\n",
    "\n",
    "fmt.Println(sliceA) // 1 부터 15 까지 숫자 출력 "
   ]
  },
  {
   "cell_type": "code",
   "execution_count": 32,
   "id": "968ca506-5abb-4983-9603-c367c0626615",
   "metadata": {},
   "outputs": [],
   "source": [
    "sliceA := []int{1, 2, 3}\n",
    "sliceB := []int{4, 5, 6}\n",
    "sliceMerge := append(sliceA, sliceB...)"
   ]
  },
  {
   "cell_type": "code",
   "execution_count": 33,
   "id": "fec9d0a5-326f-4ea4-a54b-903c4e87287d",
   "metadata": {},
   "outputs": [
    {
     "data": {
      "text/plain": [
       "[1 2 3 4 5 6]"
      ]
     },
     "execution_count": 33,
     "metadata": {},
     "output_type": "execute_result"
    }
   ],
   "source": [
    "sliceMerge"
   ]
  },
  {
   "cell_type": "code",
   "execution_count": 34,
   "id": "1e1d1a18-dc05-4ce9-a753-489b5f29c6fd",
   "metadata": {},
   "outputs": [
    {
     "name": "stdout",
     "output_type": "stream",
     "text": [
      "[0 1 2 0 0 0 0 0 0]\n"
     ]
    },
    {
     "name": "stderr",
     "output_type": "stream",
     "text": [
      "9 12\n"
     ]
    }
   ],
   "source": [
    "source := []int{0, 1, 2}\n",
    "target := make([]int, len(source)*3, cap(source)*4)\n",
    "copy(target, source)\n",
    "fmt.Println(target)  // [0 1 2 ] 출력\n",
    "println(len(target), cap(target)) // 3, 6 출력"
   ]
  },
  {
   "cell_type": "code",
   "execution_count": 35,
   "id": "d745e3b6-6b18-45b8-85d5-de96f6155165",
   "metadata": {},
   "outputs": [
    {
     "name": "stderr",
     "output_type": "stream",
     "text": [
      "3 3\n"
     ]
    }
   ],
   "source": [
    "println(len(source), cap(source))"
   ]
  },
  {
   "cell_type": "markdown",
   "id": "b940d224-3a7b-421b-8143-72b3ef1cf250",
   "metadata": {},
   "source": [
    "# 3. Map"
   ]
  },
  {
   "cell_type": "code",
   "execution_count": 36,
   "id": "64ba9cd3-695f-43f2-b81b-b74704522b0d",
   "metadata": {},
   "outputs": [],
   "source": [
    "var sample []map[string]string"
   ]
  },
  {
   "cell_type": "code",
   "execution_count": 37,
   "id": "4e7d5c3c-a579-4ac4-8dc3-74cfb7a99fb1",
   "metadata": {},
   "outputs": [
    {
     "data": {
      "text/plain": [
       "[]map[string]string"
      ]
     },
     "execution_count": 37,
     "metadata": {},
     "output_type": "execute_result"
    }
   ],
   "source": [
    "reflect.TypeOf(sample)"
   ]
  },
  {
   "cell_type": "code",
   "execution_count": 38,
   "id": "a83c1f9c-661f-4f5f-94df-6ff37bc55ae8",
   "metadata": {},
   "outputs": [
    {
     "name": "stderr",
     "output_type": "stream",
     "text": [
      "100 100\n",
      "[65 66 67] ABC\n"
     ]
    }
   ],
   "source": [
    "// http://golang.site/go/article/5-Go-%EB%8D%B0%EC%9D%B4%ED%83%80-%ED%83%80%EC%9E%85\n",
    "var i int = 100\n",
    "var u uint = uint(i)\n",
    "var f float32 = float32(i)  \n",
    "println(f, u)\n",
    "\n",
    "str := \"ABC\"\n",
    "bytes := []byte(str)\n",
    "str2 := string(bytes)\n",
    "println(bytes, str2)"
   ]
  },
  {
   "cell_type": "code",
   "execution_count": 39,
   "id": "ab5857f9-43ca-42bc-9896-ef87f797cb0b",
   "metadata": {},
   "outputs": [
    {
     "data": {
      "text/plain": [
       "ABC"
      ]
     },
     "execution_count": 39,
     "metadata": {},
     "output_type": "execute_result"
    }
   ],
   "source": [
    "str2"
   ]
  }
 ],
 "metadata": {
  "kernelspec": {
   "display_name": "Go",
   "language": "go",
   "name": "gophernotes"
  },
  "language_info": {
   "codemirror_mode": "",
   "file_extension": ".go",
   "mimetype": "",
   "name": "go",
   "nbconvert_exporter": "",
   "pygments_lexer": "",
   "version": "go1.18.1"
  },
  "widgets": {
   "application/vnd.jupyter.widget-state+json": {
    "state": {},
    "version_major": 2,
    "version_minor": 0
   }
  }
 },
 "nbformat": 4,
 "nbformat_minor": 5
}
